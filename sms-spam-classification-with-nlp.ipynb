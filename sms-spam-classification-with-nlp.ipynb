{
 "cells": [
  {
   "cell_type": "markdown",
   "id": "3afd92ce",
   "metadata": {
    "papermill": {
     "duration": 0.01825,
     "end_time": "2024-01-27T20:13:37.519176",
     "exception": false,
     "start_time": "2024-01-27T20:13:37.500926",
     "status": "completed"
    },
    "tags": []
   },
   "source": [
    "# **SMS Spam Classification with NLP**\n",
    "---\n",
    "SMS spam classification with Natural Language Processing (NLP) entails creating a model that can automatically determine if a text message (SMS) is spam or not. NLP is an area of artificial intelligence that studies the interplay of computers and human language. The purpose of SMS spam categorization is to examine text messages' content and decide whether they are spam or authentic.\n",
    "\n",
    "The SMS Spam Collection is a set of SMS tagged messages that have been collected for SMS Spam research. It contains one set of SMS messages in English of 5,574 messages, tagged acording being ham (legitimate) or spam. The files contain one message per line. Each line is composed by two columns: v1 contains the label (ham or spam) and v2 contains the raw text.\n",
    "\n",
    "More info: [SMS Spam Collection Dataset](https://www.kaggle.com/datasets/uciml/sms-spam-collection-dataset)"
   ]
  },
  {
   "cell_type": "code",
   "execution_count": 1,
   "id": "7dc2c392",
   "metadata": {
    "_kg_hide-output": true,
    "execution": {
     "iopub.execute_input": "2024-01-27T20:13:37.555204Z",
     "iopub.status.busy": "2024-01-27T20:13:37.554716Z",
     "iopub.status.idle": "2024-01-27T20:14:20.872197Z",
     "shell.execute_reply": "2024-01-27T20:14:20.870888Z"
    },
    "papermill": {
     "duration": 43.340214,
     "end_time": "2024-01-27T20:14:20.876202",
     "exception": false,
     "start_time": "2024-01-27T20:13:37.535988",
     "status": "completed"
    },
    "tags": []
   },
   "outputs": [
    {
     "name": "stdout",
     "output_type": "stream",
     "text": [
      "Requirement already satisfied: nltk in /opt/conda/lib/python3.10/site-packages (3.2.4)\r\n",
      "Collecting nltk\r\n",
      "  Downloading nltk-3.8.1-py3-none-any.whl (1.5 MB)\r\n",
      "\u001b[2K     \u001b[90m━━━━━━━━━━━━━━━━━━━━━━━━━━━━━━━━━━━━━━━━\u001b[0m \u001b[32m1.5/1.5 MB\u001b[0m \u001b[31m5.8 MB/s\u001b[0m eta \u001b[36m0:00:00\u001b[0m\r\n",
      "\u001b[?25hRequirement already satisfied: click in /opt/conda/lib/python3.10/site-packages (from nltk) (8.1.7)\r\n",
      "Requirement already satisfied: joblib in /opt/conda/lib/python3.10/site-packages (from nltk) (1.3.2)\r\n",
      "Requirement already satisfied: regex>=2021.8.3 in /opt/conda/lib/python3.10/site-packages (from nltk) (2023.8.8)\r\n",
      "Requirement already satisfied: tqdm in /opt/conda/lib/python3.10/site-packages (from nltk) (4.66.1)\r\n",
      "Installing collected packages: nltk\r\n",
      "  Attempting uninstall: nltk\r\n",
      "    Found existing installation: nltk 3.2.4\r\n",
      "    Uninstalling nltk-3.2.4:\r\n",
      "      Successfully uninstalled nltk-3.2.4\r\n",
      "\u001b[31mERROR: pip's dependency resolver does not currently take into account all the packages that are installed. This behaviour is the source of the following dependency conflicts.\r\n",
      "preprocessing 0.1.13 requires nltk==3.2.4, but you have nltk 3.8.1 which is incompatible.\u001b[0m\u001b[31m\r\n",
      "\u001b[0mSuccessfully installed nltk-3.8.1\r\n",
      "Requirement already satisfied: scikit-learn in /opt/conda/lib/python3.10/site-packages (1.2.2)\r\n",
      "Collecting scikit-learn\r\n",
      "  Obtaining dependency information for scikit-learn from https://files.pythonhosted.org/packages/3f/61/047b353f0ad550226ef962da182b4a09b689eb6df6bd84a03e44f9ee95bb/scikit_learn-1.4.0-1-cp310-cp310-manylinux_2_17_x86_64.manylinux2014_x86_64.whl.metadata\r\n",
      "  Downloading scikit_learn-1.4.0-1-cp310-cp310-manylinux_2_17_x86_64.manylinux2014_x86_64.whl.metadata (11 kB)\r\n",
      "Requirement already satisfied: numpy<2.0,>=1.19.5 in /opt/conda/lib/python3.10/site-packages (from scikit-learn) (1.24.3)\r\n",
      "Requirement already satisfied: scipy>=1.6.0 in /opt/conda/lib/python3.10/site-packages (from scikit-learn) (1.11.4)\r\n",
      "Requirement already satisfied: joblib>=1.2.0 in /opt/conda/lib/python3.10/site-packages (from scikit-learn) (1.3.2)\r\n",
      "Requirement already satisfied: threadpoolctl>=2.0.0 in /opt/conda/lib/python3.10/site-packages (from scikit-learn) (3.2.0)\r\n",
      "Downloading scikit_learn-1.4.0-1-cp310-cp310-manylinux_2_17_x86_64.manylinux2014_x86_64.whl (12.1 MB)\r\n",
      "\u001b[2K   \u001b[90m━━━━━━━━━━━━━━━━━━━━━━━━━━━━━━━━━━━━━━━━\u001b[0m \u001b[32m12.1/12.1 MB\u001b[0m \u001b[31m49.1 MB/s\u001b[0m eta \u001b[36m0:00:00\u001b[0m\r\n",
      "\u001b[?25hInstalling collected packages: scikit-learn\r\n",
      "  Attempting uninstall: scikit-learn\r\n",
      "    Found existing installation: scikit-learn 1.2.2\r\n",
      "    Uninstalling scikit-learn-1.2.2:\r\n",
      "      Successfully uninstalled scikit-learn-1.2.2\r\n",
      "\u001b[31mERROR: pip's dependency resolver does not currently take into account all the packages that are installed. This behaviour is the source of the following dependency conflicts.\r\n",
      "spopt 0.6.0 requires shapely>=2.0.1, but you have shapely 1.8.5.post1 which is incompatible.\u001b[0m\u001b[31m\r\n",
      "\u001b[0mSuccessfully installed scikit-learn-1.4.0\r\n"
     ]
    }
   ],
   "source": [
    "!pip install --upgrade nltk\n",
    "!pip install --upgrade scikit-learn"
   ]
  },
  {
   "cell_type": "code",
   "execution_count": 2,
   "id": "0d581760",
   "metadata": {
    "_cell_guid": "b1076dfc-b9ad-4769-8c92-a6c4dae69d19",
    "_uuid": "8f2839f25d086af736a60e9eeb907d3b93b6e0e5",
    "execution": {
     "iopub.execute_input": "2024-01-27T20:14:20.918578Z",
     "iopub.status.busy": "2024-01-27T20:14:20.917400Z",
     "iopub.status.idle": "2024-01-27T20:14:21.956878Z",
     "shell.execute_reply": "2024-01-27T20:14:21.955569Z"
    },
    "papermill": {
     "duration": 1.064084,
     "end_time": "2024-01-27T20:14:21.959724",
     "exception": false,
     "start_time": "2024-01-27T20:14:20.895640",
     "status": "completed"
    },
    "tags": []
   },
   "outputs": [
    {
     "name": "stdout",
     "output_type": "stream",
     "text": [
      "/kaggle/input/sms-spam-collection-dataset/spam.csv\n"
     ]
    }
   ],
   "source": [
    "# This Python 3 environment comes with many helpful analytics libraries installed\n",
    "# It is defined by the kaggle/python Docker image: https://github.com/kaggle/docker-python\n",
    "# For example, here's several helpful packages to load\n",
    "\n",
    "import numpy as np # linear algebra\n",
    "import pandas as pd # data processing, CSV file I/O (e.g. pd.read_csv)\n",
    "\n",
    "# Input data files are available in the read-only \"../input/\" directory\n",
    "# For example, running this (by clicking run or pressing Shift+Enter) will list all files under the input directory\n",
    "\n",
    "import os\n",
    "for dirname, _, filenames in os.walk('/kaggle/input'):\n",
    "    for filename in filenames:\n",
    "        print(os.path.join(dirname, filename))\n",
    "\n",
    "# You can write up to 20GB to the current directory (/kaggle/working/) that gets preserved as output when you create a version using \"Save & Run All\" \n",
    "# You can also write temporary files to /kaggle/temp/, but they won't be saved outside of the current session"
   ]
  },
  {
   "cell_type": "code",
   "execution_count": 3,
   "id": "0ec690ce",
   "metadata": {
    "execution": {
     "iopub.execute_input": "2024-01-27T20:14:22.003407Z",
     "iopub.status.busy": "2024-01-27T20:14:22.002363Z",
     "iopub.status.idle": "2024-01-27T20:14:24.833179Z",
     "shell.execute_reply": "2024-01-27T20:14:24.831924Z"
    },
    "papermill": {
     "duration": 2.857654,
     "end_time": "2024-01-27T20:14:24.836644",
     "exception": false,
     "start_time": "2024-01-27T20:14:21.978990",
     "status": "completed"
    },
    "tags": []
   },
   "outputs": [],
   "source": [
    "import warnings\n",
    "import matplotlib.pyplot as plt\n",
    "import seaborn as sns\n",
    "import numpy as np \n",
    "import pandas as pd\n",
    "import re\n",
    "import nltk\n",
    "\n",
    "from matplotlib.colors import ListedColormap\n",
    "\n",
    "from nltk.corpus import stopwords\n",
    "from nltk.stem.porter import PorterStemmer\n",
    "from nltk.stem import WordNetLemmatizer\n",
    "\n",
    "from sklearn import metrics\n",
    "from sklearn.feature_extraction.text import TfidfVectorizer\n",
    "from sklearn.preprocessing import LabelEncoder\n",
    "from sklearn.model_selection import train_test_split, cross_val_score\n",
    "from sklearn.pipeline import Pipeline    \n",
    "from sklearn.metrics import precision_score, recall_score, confusion_matrix, classification_report, accuracy_score, f1_score\n",
    "\n",
    "from sklearn.linear_model import LogisticRegression\n",
    "from sklearn.naive_bayes import MultinomialNB\n",
    "from sklearn.ensemble import RandomForestClassifier\n",
    "from sklearn.neighbors import KNeighborsClassifier\n",
    "from sklearn.svm import SVC\n",
    "from catboost import CatBoostClassifier"
   ]
  },
  {
   "cell_type": "code",
   "execution_count": 4,
   "id": "013e0bcd",
   "metadata": {
    "_kg_hide-output": true,
    "execution": {
     "iopub.execute_input": "2024-01-27T20:14:24.880821Z",
     "iopub.status.busy": "2024-01-27T20:14:24.880078Z",
     "iopub.status.idle": "2024-01-27T20:14:25.168258Z",
     "shell.execute_reply": "2024-01-27T20:14:25.167404Z"
    },
    "papermill": {
     "duration": 0.31328,
     "end_time": "2024-01-27T20:14:25.171967",
     "exception": false,
     "start_time": "2024-01-27T20:14:24.858687",
     "status": "completed"
    },
    "tags": []
   },
   "outputs": [
    {
     "name": "stderr",
     "output_type": "stream",
     "text": [
      "[nltk_data] Downloading package punkt to /usr/share/nltk_data...\n",
      "[nltk_data]   Package punkt is already up-to-date!\n",
      "[nltk_data] Downloading package wordnet to /usr/share/nltk_data...\n",
      "[nltk_data]   Package wordnet is already up-to-date!\n",
      "[nltk_data] Downloading package averaged_perceptron_tagger to\n",
      "[nltk_data]     /usr/share/nltk_data...\n",
      "[nltk_data]   Package averaged_perceptron_tagger is already up-to-\n",
      "[nltk_data]       date!\n"
     ]
    },
    {
     "data": {
      "text/plain": [
       "True"
      ]
     },
     "execution_count": 4,
     "metadata": {},
     "output_type": "execute_result"
    }
   ],
   "source": [
    "nltk.download('punkt')  # Downloads the 'punkt' resource which is often needed\n",
    "nltk.download('wordnet')  # Downloads the 'wordnet' resource\n",
    "nltk.download('averaged_perceptron_tagger')  # Downloads the 'averaged_perceptron_tagger' resource\n",
    "# nltk.download('all')"
   ]
  },
  {
   "cell_type": "code",
   "execution_count": 5,
   "id": "6daeba03",
   "metadata": {
    "execution": {
     "iopub.execute_input": "2024-01-27T20:14:25.215453Z",
     "iopub.status.busy": "2024-01-27T20:14:25.214018Z",
     "iopub.status.idle": "2024-01-27T20:14:25.266688Z",
     "shell.execute_reply": "2024-01-27T20:14:25.265429Z"
    },
    "papermill": {
     "duration": 0.078138,
     "end_time": "2024-01-27T20:14:25.270002",
     "exception": false,
     "start_time": "2024-01-27T20:14:25.191864",
     "status": "completed"
    },
    "tags": []
   },
   "outputs": [],
   "source": [
    "#Loading data\n",
    "df = pd.read_csv(\"/kaggle/input/sms-spam-collection-dataset/spam.csv\", encoding='latin1')"
   ]
  },
  {
   "cell_type": "markdown",
   "id": "a227af01",
   "metadata": {
    "papermill": {
     "duration": 0.020543,
     "end_time": "2024-01-27T20:14:25.311590",
     "exception": false,
     "start_time": "2024-01-27T20:14:25.291047",
     "status": "completed"
    },
    "tags": []
   },
   "source": [
    "# **Exploratory Data Analysis**\n",
    "---\n",
    "The section of Exploratory Data Analysis (EDA) is an approach to analyzing and visualizing dataset to get insights of their main characterisitics. This can be achieved with the help of statistical graphics and other visualization methods. The target of EDA is to gain insights into the data, understand its structure, and identify patterns, relationships, and anomalies."
   ]
  },
  {
   "cell_type": "code",
   "execution_count": 6,
   "id": "888a5200",
   "metadata": {
    "execution": {
     "iopub.execute_input": "2024-01-27T20:14:25.353394Z",
     "iopub.status.busy": "2024-01-27T20:14:25.352904Z",
     "iopub.status.idle": "2024-01-27T20:14:25.390792Z",
     "shell.execute_reply": "2024-01-27T20:14:25.389427Z"
    },
    "papermill": {
     "duration": 0.062249,
     "end_time": "2024-01-27T20:14:25.393883",
     "exception": false,
     "start_time": "2024-01-27T20:14:25.331634",
     "status": "completed"
    },
    "tags": []
   },
   "outputs": [
    {
     "name": "stdout",
     "output_type": "stream",
     "text": [
      "<class 'pandas.core.frame.DataFrame'>\n",
      "RangeIndex: 5572 entries, 0 to 5571\n",
      "Data columns (total 5 columns):\n",
      " #   Column      Non-Null Count  Dtype \n",
      "---  ------      --------------  ----- \n",
      " 0   v1          5572 non-null   object\n",
      " 1   v2          5572 non-null   object\n",
      " 2   Unnamed: 2  50 non-null     object\n",
      " 3   Unnamed: 3  12 non-null     object\n",
      " 4   Unnamed: 4  6 non-null      object\n",
      "dtypes: object(5)\n",
      "memory usage: 217.8+ KB\n"
     ]
    }
   ],
   "source": [
    "df.info()"
   ]
  },
  {
   "cell_type": "code",
   "execution_count": 7,
   "id": "5a4547f8",
   "metadata": {
    "execution": {
     "iopub.execute_input": "2024-01-27T20:14:25.437870Z",
     "iopub.status.busy": "2024-01-27T20:14:25.436888Z",
     "iopub.status.idle": "2024-01-27T20:14:25.462572Z",
     "shell.execute_reply": "2024-01-27T20:14:25.461509Z"
    },
    "papermill": {
     "duration": 0.050511,
     "end_time": "2024-01-27T20:14:25.465087",
     "exception": false,
     "start_time": "2024-01-27T20:14:25.414576",
     "status": "completed"
    },
    "tags": []
   },
   "outputs": [
    {
     "data": {
      "text/html": [
       "<div>\n",
       "<style scoped>\n",
       "    .dataframe tbody tr th:only-of-type {\n",
       "        vertical-align: middle;\n",
       "    }\n",
       "\n",
       "    .dataframe tbody tr th {\n",
       "        vertical-align: top;\n",
       "    }\n",
       "\n",
       "    .dataframe thead th {\n",
       "        text-align: right;\n",
       "    }\n",
       "</style>\n",
       "<table border=\"1\" class=\"dataframe\">\n",
       "  <thead>\n",
       "    <tr style=\"text-align: right;\">\n",
       "      <th></th>\n",
       "      <th>v1</th>\n",
       "      <th>v2</th>\n",
       "      <th>Unnamed: 2</th>\n",
       "      <th>Unnamed: 3</th>\n",
       "      <th>Unnamed: 4</th>\n",
       "    </tr>\n",
       "  </thead>\n",
       "  <tbody>\n",
       "    <tr>\n",
       "      <th>0</th>\n",
       "      <td>ham</td>\n",
       "      <td>Go until jurong point, crazy.. Available only ...</td>\n",
       "      <td>NaN</td>\n",
       "      <td>NaN</td>\n",
       "      <td>NaN</td>\n",
       "    </tr>\n",
       "    <tr>\n",
       "      <th>1</th>\n",
       "      <td>ham</td>\n",
       "      <td>Ok lar... Joking wif u oni...</td>\n",
       "      <td>NaN</td>\n",
       "      <td>NaN</td>\n",
       "      <td>NaN</td>\n",
       "    </tr>\n",
       "    <tr>\n",
       "      <th>2</th>\n",
       "      <td>spam</td>\n",
       "      <td>Free entry in 2 a wkly comp to win FA Cup fina...</td>\n",
       "      <td>NaN</td>\n",
       "      <td>NaN</td>\n",
       "      <td>NaN</td>\n",
       "    </tr>\n",
       "    <tr>\n",
       "      <th>3</th>\n",
       "      <td>ham</td>\n",
       "      <td>U dun say so early hor... U c already then say...</td>\n",
       "      <td>NaN</td>\n",
       "      <td>NaN</td>\n",
       "      <td>NaN</td>\n",
       "    </tr>\n",
       "    <tr>\n",
       "      <th>4</th>\n",
       "      <td>ham</td>\n",
       "      <td>Nah I don't think he goes to usf, he lives aro...</td>\n",
       "      <td>NaN</td>\n",
       "      <td>NaN</td>\n",
       "      <td>NaN</td>\n",
       "    </tr>\n",
       "    <tr>\n",
       "      <th>...</th>\n",
       "      <td>...</td>\n",
       "      <td>...</td>\n",
       "      <td>...</td>\n",
       "      <td>...</td>\n",
       "      <td>...</td>\n",
       "    </tr>\n",
       "    <tr>\n",
       "      <th>5567</th>\n",
       "      <td>spam</td>\n",
       "      <td>This is the 2nd time we have tried 2 contact u...</td>\n",
       "      <td>NaN</td>\n",
       "      <td>NaN</td>\n",
       "      <td>NaN</td>\n",
       "    </tr>\n",
       "    <tr>\n",
       "      <th>5568</th>\n",
       "      <td>ham</td>\n",
       "      <td>Will Ì_ b going to esplanade fr home?</td>\n",
       "      <td>NaN</td>\n",
       "      <td>NaN</td>\n",
       "      <td>NaN</td>\n",
       "    </tr>\n",
       "    <tr>\n",
       "      <th>5569</th>\n",
       "      <td>ham</td>\n",
       "      <td>Pity, * was in mood for that. So...any other s...</td>\n",
       "      <td>NaN</td>\n",
       "      <td>NaN</td>\n",
       "      <td>NaN</td>\n",
       "    </tr>\n",
       "    <tr>\n",
       "      <th>5570</th>\n",
       "      <td>ham</td>\n",
       "      <td>The guy did some bitching but I acted like i'd...</td>\n",
       "      <td>NaN</td>\n",
       "      <td>NaN</td>\n",
       "      <td>NaN</td>\n",
       "    </tr>\n",
       "    <tr>\n",
       "      <th>5571</th>\n",
       "      <td>ham</td>\n",
       "      <td>Rofl. Its true to its name</td>\n",
       "      <td>NaN</td>\n",
       "      <td>NaN</td>\n",
       "      <td>NaN</td>\n",
       "    </tr>\n",
       "  </tbody>\n",
       "</table>\n",
       "<p>5572 rows × 5 columns</p>\n",
       "</div>"
      ],
      "text/plain": [
       "        v1                                                 v2 Unnamed: 2  \\\n",
       "0      ham  Go until jurong point, crazy.. Available only ...        NaN   \n",
       "1      ham                      Ok lar... Joking wif u oni...        NaN   \n",
       "2     spam  Free entry in 2 a wkly comp to win FA Cup fina...        NaN   \n",
       "3      ham  U dun say so early hor... U c already then say...        NaN   \n",
       "4      ham  Nah I don't think he goes to usf, he lives aro...        NaN   \n",
       "...    ...                                                ...        ...   \n",
       "5567  spam  This is the 2nd time we have tried 2 contact u...        NaN   \n",
       "5568   ham              Will Ì_ b going to esplanade fr home?        NaN   \n",
       "5569   ham  Pity, * was in mood for that. So...any other s...        NaN   \n",
       "5570   ham  The guy did some bitching but I acted like i'd...        NaN   \n",
       "5571   ham                         Rofl. Its true to its name        NaN   \n",
       "\n",
       "     Unnamed: 3 Unnamed: 4  \n",
       "0           NaN        NaN  \n",
       "1           NaN        NaN  \n",
       "2           NaN        NaN  \n",
       "3           NaN        NaN  \n",
       "4           NaN        NaN  \n",
       "...         ...        ...  \n",
       "5567        NaN        NaN  \n",
       "5568        NaN        NaN  \n",
       "5569        NaN        NaN  \n",
       "5570        NaN        NaN  \n",
       "5571        NaN        NaN  \n",
       "\n",
       "[5572 rows x 5 columns]"
      ]
     },
     "execution_count": 7,
     "metadata": {},
     "output_type": "execute_result"
    }
   ],
   "source": [
    "df"
   ]
  },
  {
   "cell_type": "code",
   "execution_count": 8,
   "id": "46a19535",
   "metadata": {
    "execution": {
     "iopub.execute_input": "2024-01-27T20:14:25.508097Z",
     "iopub.status.busy": "2024-01-27T20:14:25.507495Z",
     "iopub.status.idle": "2024-01-27T20:14:25.526917Z",
     "shell.execute_reply": "2024-01-27T20:14:25.525945Z"
    },
    "papermill": {
     "duration": 0.044303,
     "end_time": "2024-01-27T20:14:25.529676",
     "exception": false,
     "start_time": "2024-01-27T20:14:25.485373",
     "status": "completed"
    },
    "tags": []
   },
   "outputs": [
    {
     "data": {
      "text/html": [
       "<div>\n",
       "<style scoped>\n",
       "    .dataframe tbody tr th:only-of-type {\n",
       "        vertical-align: middle;\n",
       "    }\n",
       "\n",
       "    .dataframe tbody tr th {\n",
       "        vertical-align: top;\n",
       "    }\n",
       "\n",
       "    .dataframe thead th {\n",
       "        text-align: right;\n",
       "    }\n",
       "</style>\n",
       "<table border=\"1\" class=\"dataframe\">\n",
       "  <thead>\n",
       "    <tr style=\"text-align: right;\">\n",
       "      <th></th>\n",
       "      <th>Target</th>\n",
       "      <th>Text</th>\n",
       "    </tr>\n",
       "  </thead>\n",
       "  <tbody>\n",
       "    <tr>\n",
       "      <th>0</th>\n",
       "      <td>ham</td>\n",
       "      <td>Go until jurong point, crazy.. Available only ...</td>\n",
       "    </tr>\n",
       "    <tr>\n",
       "      <th>1</th>\n",
       "      <td>ham</td>\n",
       "      <td>Ok lar... Joking wif u oni...</td>\n",
       "    </tr>\n",
       "    <tr>\n",
       "      <th>2</th>\n",
       "      <td>spam</td>\n",
       "      <td>Free entry in 2 a wkly comp to win FA Cup fina...</td>\n",
       "    </tr>\n",
       "    <tr>\n",
       "      <th>3</th>\n",
       "      <td>ham</td>\n",
       "      <td>U dun say so early hor... U c already then say...</td>\n",
       "    </tr>\n",
       "    <tr>\n",
       "      <th>4</th>\n",
       "      <td>ham</td>\n",
       "      <td>Nah I don't think he goes to usf, he lives aro...</td>\n",
       "    </tr>\n",
       "  </tbody>\n",
       "</table>\n",
       "</div>"
      ],
      "text/plain": [
       "  Target                                               Text\n",
       "0    ham  Go until jurong point, crazy.. Available only ...\n",
       "1    ham                      Ok lar... Joking wif u oni...\n",
       "2   spam  Free entry in 2 a wkly comp to win FA Cup fina...\n",
       "3    ham  U dun say so early hor... U c already then say...\n",
       "4    ham  Nah I don't think he goes to usf, he lives aro..."
      ]
     },
     "execution_count": 8,
     "metadata": {},
     "output_type": "execute_result"
    }
   ],
   "source": [
    "# Dropping the unused collumns \n",
    "drop_col_list = [\"Unnamed: 2\",\"Unnamed: 3\",\"Unnamed: 4\"]\n",
    "df = df.drop(df[drop_col_list], axis=1)\n",
    "\n",
    "# Renaming the columns for better readability\n",
    "df.rename(columns = {\"v1\":\"Target\", \"v2\":\"Text\"}, inplace = True)\n",
    "df.head()"
   ]
  },
  {
   "cell_type": "code",
   "execution_count": 9,
   "id": "424bb5d2",
   "metadata": {
    "execution": {
     "iopub.execute_input": "2024-01-27T20:14:25.673044Z",
     "iopub.status.busy": "2024-01-27T20:14:25.672191Z",
     "iopub.status.idle": "2024-01-27T20:14:25.684118Z",
     "shell.execute_reply": "2024-01-27T20:14:25.683205Z"
    },
    "papermill": {
     "duration": 0.039534,
     "end_time": "2024-01-27T20:14:25.686739",
     "exception": false,
     "start_time": "2024-01-27T20:14:25.647205",
     "status": "completed"
    },
    "tags": []
   },
   "outputs": [
    {
     "name": "stdout",
     "output_type": "stream",
     "text": [
      "  Target  Count\n",
      "0    ham   4825\n",
      "1   spam    747\n"
     ]
    }
   ],
   "source": [
    "# Group by 'Target' and count the occurrences\n",
    "target_counts = df.groupby('Target').size().reset_index(name='Count')\n",
    "print(target_counts)"
   ]
  },
  {
   "cell_type": "code",
   "execution_count": 10,
   "id": "a09b28aa",
   "metadata": {
    "execution": {
     "iopub.execute_input": "2024-01-27T20:14:25.730390Z",
     "iopub.status.busy": "2024-01-27T20:14:25.729624Z",
     "iopub.status.idle": "2024-01-27T20:14:26.230480Z",
     "shell.execute_reply": "2024-01-27T20:14:26.229103Z"
    },
    "papermill": {
     "duration": 0.526369,
     "end_time": "2024-01-27T20:14:26.233575",
     "exception": false,
     "start_time": "2024-01-27T20:14:25.707206",
     "status": "completed"
    },
    "tags": []
   },
   "outputs": [
    {
     "data": {
      "image/png": "[encoded data removed]",
      "text/plain": [
       "<Figure size 1200x800 with 1 Axes>"
      ]
     },
     "metadata": {},
     "output_type": "display_data"
    }
   ],
   "source": [
    "# Plotting the target and check if the data is imbalanced or not\n",
    "plt.figure(figsize=(12,8))\n",
    "fig = sns.countplot(x= df[\"Target\"], palette=['green','purple'])\n",
    "fig.set_title(\"Number of Spam and Ham\")\n",
    "fig.set_xlabel(\"Classes\")\n",
    "fig.set_ylabel(\"Number of Data points\")\n",
    "plt.show(fig)"
   ]
  },
  {
   "cell_type": "markdown",
   "id": "b8e307aa",
   "metadata": {
    "papermill": {
     "duration": 0.021868,
     "end_time": "2024-01-27T20:14:26.277587",
     "exception": false,
     "start_time": "2024-01-27T20:14:26.255719",
     "status": "completed"
    },
    "tags": []
   },
   "source": [
    "# **Feature Engineering**\n",
    "---\n",
    "Feature engineering in NLP entails converting raw text data into a format appropriate for training a machine learning model. It seeks to generate meaningful and relevant features that capture the most important information in the text, allowing the model to learn patterns and make accurate predictions. Feature engineering is important since raw text input is often unstructured and multidimensional, and extracting useful information can have a major impact on NLP model performance."
   ]
  },
  {
   "cell_type": "code",
   "execution_count": 11,
   "id": "fdac9f77",
   "metadata": {
    "execution": {
     "iopub.execute_input": "2024-01-27T20:14:26.324052Z",
     "iopub.status.busy": "2024-01-27T20:14:26.323535Z",
     "iopub.status.idle": "2024-01-27T20:14:29.019625Z",
     "shell.execute_reply": "2024-01-27T20:14:29.018577Z"
    },
    "papermill": {
     "duration": 2.722611,
     "end_time": "2024-01-27T20:14:29.022074",
     "exception": false,
     "start_time": "2024-01-27T20:14:26.299463",
     "status": "completed"
    },
    "tags": []
   },
   "outputs": [
    {
     "data": {
      "text/html": [
       "<div>\n",
       "<style scoped>\n",
       "    .dataframe tbody tr th:only-of-type {\n",
       "        vertical-align: middle;\n",
       "    }\n",
       "\n",
       "    .dataframe tbody tr th {\n",
       "        vertical-align: top;\n",
       "    }\n",
       "\n",
       "    .dataframe thead th {\n",
       "        text-align: right;\n",
       "    }\n",
       "</style>\n",
       "<table border=\"1\" class=\"dataframe\">\n",
       "  <thead>\n",
       "    <tr style=\"text-align: right;\">\n",
       "      <th></th>\n",
       "      <th>count</th>\n",
       "      <th>mean</th>\n",
       "      <th>std</th>\n",
       "      <th>min</th>\n",
       "      <th>25%</th>\n",
       "      <th>50%</th>\n",
       "      <th>75%</th>\n",
       "      <th>max</th>\n",
       "    </tr>\n",
       "  </thead>\n",
       "  <tbody>\n",
       "    <tr>\n",
       "      <th>No_of_Characters</th>\n",
       "      <td>5572.0</td>\n",
       "      <td>80.118808</td>\n",
       "      <td>59.690841</td>\n",
       "      <td>2.0</td>\n",
       "      <td>36.0</td>\n",
       "      <td>61.0</td>\n",
       "      <td>121.0</td>\n",
       "      <td>910.0</td>\n",
       "    </tr>\n",
       "    <tr>\n",
       "      <th>No_of_Words</th>\n",
       "      <td>5572.0</td>\n",
       "      <td>18.699390</td>\n",
       "      <td>13.741932</td>\n",
       "      <td>1.0</td>\n",
       "      <td>9.0</td>\n",
       "      <td>15.0</td>\n",
       "      <td>27.0</td>\n",
       "      <td>220.0</td>\n",
       "    </tr>\n",
       "    <tr>\n",
       "      <th>No_of_Sentences</th>\n",
       "      <td>5572.0</td>\n",
       "      <td>1.996411</td>\n",
       "      <td>1.520159</td>\n",
       "      <td>1.0</td>\n",
       "      <td>1.0</td>\n",
       "      <td>1.5</td>\n",
       "      <td>2.0</td>\n",
       "      <td>38.0</td>\n",
       "    </tr>\n",
       "  </tbody>\n",
       "</table>\n",
       "</div>"
      ],
      "text/plain": [
       "                   count       mean        std  min   25%   50%    75%    max\n",
       "No_of_Characters  5572.0  80.118808  59.690841  2.0  36.0  61.0  121.0  910.0\n",
       "No_of_Words       5572.0  18.699390  13.741932  1.0   9.0  15.0   27.0  220.0\n",
       "No_of_Sentences   5572.0   1.996411   1.520159  1.0   1.0   1.5    2.0   38.0"
      ]
     },
     "execution_count": 11,
     "metadata": {},
     "output_type": "execute_result"
    }
   ],
   "source": [
    "# Adding more columns to show the number of characters, words, and sentences with NLTK library \n",
    "df[\"No_of_Characters\"] = df[\"Text\"].apply(len)\n",
    "df[\"No_of_Words\"] = df.apply(lambda row: nltk.word_tokenize(row[\"Text\"]), axis=1).apply(len)\n",
    "df[\"No_of_Sentences\"] = df.apply(lambda row: nltk.sent_tokenize(row[\"Text\"]), axis=1).apply(len)\n",
    "\n",
    "df.describe().T"
   ]
  },
  {
   "cell_type": "code",
   "execution_count": 12,
   "id": "97d852d3",
   "metadata": {
    "execution": {
     "iopub.execute_input": "2024-01-27T20:14:29.070286Z",
     "iopub.status.busy": "2024-01-27T20:14:29.069271Z",
     "iopub.status.idle": "2024-01-27T20:14:29.088439Z",
     "shell.execute_reply": "2024-01-27T20:14:29.087087Z"
    },
    "papermill": {
     "duration": 0.047327,
     "end_time": "2024-01-27T20:14:29.091448",
     "exception": false,
     "start_time": "2024-01-27T20:14:29.044121",
     "status": "completed"
    },
    "tags": []
   },
   "outputs": [
    {
     "data": {
      "text/html": [
       "<div>\n",
       "<style scoped>\n",
       "    .dataframe tbody tr th:only-of-type {\n",
       "        vertical-align: middle;\n",
       "    }\n",
       "\n",
       "    .dataframe tbody tr th {\n",
       "        vertical-align: top;\n",
       "    }\n",
       "\n",
       "    .dataframe thead th {\n",
       "        text-align: right;\n",
       "    }\n",
       "</style>\n",
       "<table border=\"1\" class=\"dataframe\">\n",
       "  <thead>\n",
       "    <tr style=\"text-align: right;\">\n",
       "      <th></th>\n",
       "      <th>Target</th>\n",
       "      <th>Text</th>\n",
       "      <th>No_of_Characters</th>\n",
       "      <th>No_of_Words</th>\n",
       "      <th>No_of_Sentences</th>\n",
       "    </tr>\n",
       "  </thead>\n",
       "  <tbody>\n",
       "    <tr>\n",
       "      <th>0</th>\n",
       "      <td>ham</td>\n",
       "      <td>Go until jurong point, crazy.. Available only ...</td>\n",
       "      <td>111</td>\n",
       "      <td>24</td>\n",
       "      <td>2</td>\n",
       "    </tr>\n",
       "    <tr>\n",
       "      <th>1</th>\n",
       "      <td>ham</td>\n",
       "      <td>Ok lar... Joking wif u oni...</td>\n",
       "      <td>29</td>\n",
       "      <td>8</td>\n",
       "      <td>2</td>\n",
       "    </tr>\n",
       "    <tr>\n",
       "      <th>2</th>\n",
       "      <td>spam</td>\n",
       "      <td>Free entry in 2 a wkly comp to win FA Cup fina...</td>\n",
       "      <td>155</td>\n",
       "      <td>37</td>\n",
       "      <td>2</td>\n",
       "    </tr>\n",
       "    <tr>\n",
       "      <th>3</th>\n",
       "      <td>ham</td>\n",
       "      <td>U dun say so early hor... U c already then say...</td>\n",
       "      <td>49</td>\n",
       "      <td>13</td>\n",
       "      <td>1</td>\n",
       "    </tr>\n",
       "    <tr>\n",
       "      <th>4</th>\n",
       "      <td>ham</td>\n",
       "      <td>Nah I don't think he goes to usf, he lives aro...</td>\n",
       "      <td>61</td>\n",
       "      <td>15</td>\n",
       "      <td>1</td>\n",
       "    </tr>\n",
       "    <tr>\n",
       "      <th>...</th>\n",
       "      <td>...</td>\n",
       "      <td>...</td>\n",
       "      <td>...</td>\n",
       "      <td>...</td>\n",
       "      <td>...</td>\n",
       "    </tr>\n",
       "    <tr>\n",
       "      <th>5567</th>\n",
       "      <td>spam</td>\n",
       "      <td>This is the 2nd time we have tried 2 contact u...</td>\n",
       "      <td>161</td>\n",
       "      <td>35</td>\n",
       "      <td>4</td>\n",
       "    </tr>\n",
       "    <tr>\n",
       "      <th>5568</th>\n",
       "      <td>ham</td>\n",
       "      <td>Will Ì_ b going to esplanade fr home?</td>\n",
       "      <td>37</td>\n",
       "      <td>9</td>\n",
       "      <td>1</td>\n",
       "    </tr>\n",
       "    <tr>\n",
       "      <th>5569</th>\n",
       "      <td>ham</td>\n",
       "      <td>Pity, * was in mood for that. So...any other s...</td>\n",
       "      <td>57</td>\n",
       "      <td>15</td>\n",
       "      <td>2</td>\n",
       "    </tr>\n",
       "    <tr>\n",
       "      <th>5570</th>\n",
       "      <td>ham</td>\n",
       "      <td>The guy did some bitching but I acted like i'd...</td>\n",
       "      <td>125</td>\n",
       "      <td>27</td>\n",
       "      <td>1</td>\n",
       "    </tr>\n",
       "    <tr>\n",
       "      <th>5571</th>\n",
       "      <td>ham</td>\n",
       "      <td>Rofl. Its true to its name</td>\n",
       "      <td>26</td>\n",
       "      <td>7</td>\n",
       "      <td>2</td>\n",
       "    </tr>\n",
       "  </tbody>\n",
       "</table>\n",
       "<p>5572 rows × 5 columns</p>\n",
       "</div>"
      ],
      "text/plain": [
       "     Target                                               Text  \\\n",
       "0       ham  Go until jurong point, crazy.. Available only ...   \n",
       "1       ham                      Ok lar... Joking wif u oni...   \n",
       "2      spam  Free entry in 2 a wkly comp to win FA Cup fina...   \n",
       "3       ham  U dun say so early hor... U c already then say...   \n",
       "4       ham  Nah I don't think he goes to usf, he lives aro...   \n",
       "...     ...                                                ...   \n",
       "5567   spam  This is the 2nd time we have tried 2 contact u...   \n",
       "5568    ham              Will Ì_ b going to esplanade fr home?   \n",
       "5569    ham  Pity, * was in mood for that. So...any other s...   \n",
       "5570    ham  The guy did some bitching but I acted like i'd...   \n",
       "5571    ham                         Rofl. Its true to its name   \n",
       "\n",
       "      No_of_Characters  No_of_Words  No_of_Sentences  \n",
       "0                  111           24                2  \n",
       "1                   29            8                2  \n",
       "2                  155           37                2  \n",
       "3                   49           13                1  \n",
       "4                   61           15                1  \n",
       "...                ...          ...              ...  \n",
       "5567               161           35                4  \n",
       "5568                37            9                1  \n",
       "5569                57           15                2  \n",
       "5570               125           27                1  \n",
       "5571                26            7                2  \n",
       "\n",
       "[5572 rows x 5 columns]"
      ]
     },
     "execution_count": 12,
     "metadata": {},
     "output_type": "execute_result"
    }
   ],
   "source": [
    "df"
   ]
  },
  {
   "cell_type": "code",
   "execution_count": 13,
   "id": "53b4d2d1",
   "metadata": {
    "execution": {
     "iopub.execute_input": "2024-01-27T20:14:29.140351Z",
     "iopub.status.busy": "2024-01-27T20:14:29.139830Z",
     "iopub.status.idle": "2024-01-27T20:14:36.345981Z",
     "shell.execute_reply": "2024-01-27T20:14:36.344384Z"
    },
    "papermill": {
     "duration": 7.235033,
     "end_time": "2024-01-27T20:14:36.348918",
     "exception": false,
     "start_time": "2024-01-27T20:14:29.113885",
     "status": "completed"
    },
    "tags": []
   },
   "outputs": [
    {
     "data": {
      "text/plain": [
       "<Figure size 1200x800 with 0 Axes>"
      ]
     },
     "metadata": {},
     "output_type": "display_data"
    },
    {
     "data": {
      "image/png": "[encoded data removed]",
      "text/plain": [
       "<Figure size 838.125x750 with 12 Axes>"
      ]
     },
     "metadata": {},
     "output_type": "display_data"
    }
   ],
   "source": [
    "plt.figure(figsize=(12,8))\n",
    "fig = sns.pairplot(data=df, hue=\"Target\",palette=['purple','yellow'])\n",
    "plt.suptitle(\"The relationship between no. characters, words, and sentences\")\n",
    "plt.tight_layout()\n",
    "plt.show(fig)"
   ]
  },
  {
   "cell_type": "markdown",
   "id": "d846d507",
   "metadata": {
    "papermill": {
     "duration": 0.024139,
     "end_time": "2024-01-27T20:14:36.397765",
     "exception": false,
     "start_time": "2024-01-27T20:14:36.373626",
     "status": "completed"
    },
    "tags": []
   },
   "source": [
    "# **Outlier Detection**\n",
    "---\n",
    "Outlier detection in machine learning is the process of detecting data points that differ significantly from the rest of the data. These data points are typically referred to as \"outliers\" or \"anomalies.\" Outliers can be errors in the data, rare events, or examples that do not follow the typical patterns found in the rest of the dataset. Outlier detection is critical in many machine learning and data analysis jobs because outliers can distort statistical studies and have a negative impact on model performance.\n"
   ]
  },
  {
   "cell_type": "code",
   "execution_count": 14,
   "id": "33ad663b",
   "metadata": {
    "execution": {
     "iopub.execute_input": "2024-01-27T20:14:36.449812Z",
     "iopub.status.busy": "2024-01-27T20:14:36.449242Z",
     "iopub.status.idle": "2024-01-27T20:14:36.460779Z",
     "shell.execute_reply": "2024-01-27T20:14:36.459561Z"
    },
    "papermill": {
     "duration": 0.041164,
     "end_time": "2024-01-27T20:14:36.463803",
     "exception": false,
     "start_time": "2024-01-27T20:14:36.422639",
     "status": "completed"
    },
    "tags": []
   },
   "outputs": [
    {
     "data": {
      "text/plain": [
       "(5566, 5)"
      ]
     },
     "execution_count": 14,
     "metadata": {},
     "output_type": "execute_result"
    }
   ],
   "source": [
    "# Dropping the outliers. \n",
    "df = df[(df[\"No_of_Characters\"] < 500)]\n",
    "df.shape"
   ]
  },
  {
   "cell_type": "code",
   "execution_count": 15,
   "id": "0f576d88",
   "metadata": {
    "execution": {
     "iopub.execute_input": "2024-01-27T20:14:36.518083Z",
     "iopub.status.busy": "2024-01-27T20:14:36.517546Z",
     "iopub.status.idle": "2024-01-27T20:14:44.214811Z",
     "shell.execute_reply": "2024-01-27T20:14:44.213458Z"
    },
    "papermill": {
     "duration": 7.731136,
     "end_time": "2024-01-27T20:14:44.219755",
     "exception": false,
     "start_time": "2024-01-27T20:14:36.488619",
     "status": "completed"
    },
    "tags": []
   },
   "outputs": [
    {
     "data": {
      "text/plain": [
       "<Figure size 1200x800 with 0 Axes>"
      ]
     },
     "metadata": {},
     "output_type": "display_data"
    },
    {
     "data": {
      "image/png": "[encoded data removed]",
      "text/plain": [
       "<Figure size 838.125x750 with 12 Axes>"
      ]
     },
     "metadata": {},
     "output_type": "display_data"
    }
   ],
   "source": [
    "plt.figure(figsize=(12,8))\n",
    "fig = sns.pairplot(data=df, hue=\"Target\",palette=['purple','yellow'])\n",
    "plt.suptitle(\"The relationship between no. characters, words, and sentences\")\n",
    "plt.tight_layout()\n",
    "plt.show(fig)"
   ]
  },
  {
   "cell_type": "markdown",
   "id": "55332a12",
   "metadata": {
    "papermill": {
     "duration": 0.029283,
     "end_time": "2024-01-27T20:14:44.278111",
     "exception": false,
     "start_time": "2024-01-27T20:14:44.248828",
     "status": "completed"
    },
    "tags": []
   },
   "source": [
    "# **Data Preprocessing**\n",
    "---\n",
    "Data Preprocessing is an important step that involves cleaning and transforming raw text data into a format suitable for analysis, training, and assessing NLP models. It also addresses the specific issues posed by unstructured text data.\n",
    "\n",
    "In this notebok, these following steps will be taken:\n",
    "* **Data Cleaning**\n",
    "* **Tokenization**\n",
    "* **Stopword Removal**\n",
    "* **Lemmatization & Stemming**\n",
    "* **Text Vectorization**"
   ]
  },
  {
   "cell_type": "markdown",
   "id": "03bb0839",
   "metadata": {
    "papermill": {
     "duration": 0.027665,
     "end_time": "2024-01-27T20:14:44.334506",
     "exception": false,
     "start_time": "2024-01-27T20:14:44.306841",
     "status": "completed"
    },
    "tags": []
   },
   "source": [
    "## **Data Cleaning**\n",
    "---\n",
    "Data cleaning in NLP refers to the act of preparing and improving textual data for machine learning tasks. This includes resolving missing information, deleting extraneous letters or symbols, translating text to a uniform format (e.g., lowercase), and fixing errors and inconsistencies. The purpose of NLP data cleaning is to produce a consistent and representative dataset that will improve the performance of subsequent natural language processing activities such as sentiment analysis, text classification, and language modeling."
   ]
  },
  {
   "cell_type": "code",
   "execution_count": 16,
   "id": "9fedc1e5",
   "metadata": {
    "execution": {
     "iopub.execute_input": "2024-01-27T20:14:44.393097Z",
     "iopub.status.busy": "2024-01-27T20:14:44.392540Z",
     "iopub.status.idle": "2024-01-27T20:14:44.406089Z",
     "shell.execute_reply": "2024-01-27T20:14:44.405029Z"
    },
    "papermill": {
     "duration": 0.045613,
     "end_time": "2024-01-27T20:14:44.408318",
     "exception": false,
     "start_time": "2024-01-27T20:14:44.362705",
     "status": "completed"
    },
    "tags": []
   },
   "outputs": [
    {
     "data": {
      "text/html": [
       "<div>\n",
       "<style scoped>\n",
       "    .dataframe tbody tr th:only-of-type {\n",
       "        vertical-align: middle;\n",
       "    }\n",
       "\n",
       "    .dataframe tbody tr th {\n",
       "        vertical-align: top;\n",
       "    }\n",
       "\n",
       "    .dataframe thead th {\n",
       "        text-align: right;\n",
       "    }\n",
       "</style>\n",
       "<table border=\"1\" class=\"dataframe\">\n",
       "  <thead>\n",
       "    <tr style=\"text-align: right;\">\n",
       "      <th></th>\n",
       "      <th>Target</th>\n",
       "      <th>Text</th>\n",
       "      <th>No_of_Characters</th>\n",
       "      <th>No_of_Words</th>\n",
       "      <th>No_of_Sentences</th>\n",
       "    </tr>\n",
       "  </thead>\n",
       "  <tbody>\n",
       "    <tr>\n",
       "      <th>0</th>\n",
       "      <td>ham</td>\n",
       "      <td>Go until jurong point, crazy.. Available only ...</td>\n",
       "      <td>111</td>\n",
       "      <td>24</td>\n",
       "      <td>2</td>\n",
       "    </tr>\n",
       "    <tr>\n",
       "      <th>1</th>\n",
       "      <td>ham</td>\n",
       "      <td>Ok lar... Joking wif u oni...</td>\n",
       "      <td>29</td>\n",
       "      <td>8</td>\n",
       "      <td>2</td>\n",
       "    </tr>\n",
       "    <tr>\n",
       "      <th>2</th>\n",
       "      <td>spam</td>\n",
       "      <td>Free entry in 2 a wkly comp to win FA Cup fina...</td>\n",
       "      <td>155</td>\n",
       "      <td>37</td>\n",
       "      <td>2</td>\n",
       "    </tr>\n",
       "    <tr>\n",
       "      <th>3</th>\n",
       "      <td>ham</td>\n",
       "      <td>U dun say so early hor... U c already then say...</td>\n",
       "      <td>49</td>\n",
       "      <td>13</td>\n",
       "      <td>1</td>\n",
       "    </tr>\n",
       "    <tr>\n",
       "      <th>4</th>\n",
       "      <td>ham</td>\n",
       "      <td>Nah I don't think he goes to usf, he lives aro...</td>\n",
       "      <td>61</td>\n",
       "      <td>15</td>\n",
       "      <td>1</td>\n",
       "    </tr>\n",
       "  </tbody>\n",
       "</table>\n",
       "</div>"
      ],
      "text/plain": [
       "  Target                                               Text  No_of_Characters  \\\n",
       "0    ham  Go until jurong point, crazy.. Available only ...               111   \n",
       "1    ham                      Ok lar... Joking wif u oni...                29   \n",
       "2   spam  Free entry in 2 a wkly comp to win FA Cup fina...               155   \n",
       "3    ham  U dun say so early hor... U c already then say...                49   \n",
       "4    ham  Nah I don't think he goes to usf, he lives aro...                61   \n",
       "\n",
       "   No_of_Words  No_of_Sentences  \n",
       "0           24                2  \n",
       "1            8                2  \n",
       "2           37                2  \n",
       "3           13                1  \n",
       "4           15                1  "
      ]
     },
     "execution_count": 16,
     "metadata": {},
     "output_type": "execute_result"
    }
   ],
   "source": [
    "df.head()"
   ]
  },
  {
   "cell_type": "code",
   "execution_count": 17,
   "id": "f5d5877a",
   "metadata": {
    "execution": {
     "iopub.execute_input": "2024-01-27T20:14:44.468793Z",
     "iopub.status.busy": "2024-01-27T20:14:44.467504Z",
     "iopub.status.idle": "2024-01-27T20:14:44.561011Z",
     "shell.execute_reply": "2024-01-27T20:14:44.559949Z"
    },
    "papermill": {
     "duration": 0.127074,
     "end_time": "2024-01-27T20:14:44.563902",
     "exception": false,
     "start_time": "2024-01-27T20:14:44.436828",
     "status": "completed"
    },
    "tags": []
   },
   "outputs": [
    {
     "name": "stderr",
     "output_type": "stream",
     "text": [
      "/tmp/ipykernel_18/705803435.py:9: SettingWithCopyWarning: \n",
      "A value is trying to be set on a copy of a slice from a DataFrame.\n",
      "Try using .loc[row_indexer,col_indexer] = value instead\n",
      "\n",
      "See the caveats in the documentation: https://pandas.pydata.org/pandas-docs/stable/user_guide/indexing.html#returning-a-view-versus-a-copy\n",
      "  df.loc[:, \"Clean_Text\"] = df[\"Text\"].apply(clean_text)\n"
     ]
    }
   ],
   "source": [
    "def clean_text(text):\n",
    "    clean = re.sub('[^a-zA-Z]', ' ', text) # Replacing all non-alphabetic characters with a space\n",
    "    clean = clean.lower() # converting to lowecase\n",
    "    clean = clean.split() # splits the cleaned text sms into a list of words\n",
    "    clean = ' '.join(clean) # joins the list of words back into a string, using a single space as the separator between the words\n",
    "    return clean\n",
    "\n",
    "df.copy()\n",
    "df.loc[:, \"Clean_Text\"] = df[\"Text\"].apply(clean_text)"
   ]
  },
  {
   "cell_type": "code",
   "execution_count": 18,
   "id": "6a0fe0e4",
   "metadata": {
    "execution": {
     "iopub.execute_input": "2024-01-27T20:14:44.626566Z",
     "iopub.status.busy": "2024-01-27T20:14:44.625740Z",
     "iopub.status.idle": "2024-01-27T20:14:44.646087Z",
     "shell.execute_reply": "2024-01-27T20:14:44.644716Z"
    },
    "papermill": {
     "duration": 0.055001,
     "end_time": "2024-01-27T20:14:44.648914",
     "exception": false,
     "start_time": "2024-01-27T20:14:44.593913",
     "status": "completed"
    },
    "tags": []
   },
   "outputs": [
    {
     "data": {
      "text/html": [
       "<div>\n",
       "<style scoped>\n",
       "    .dataframe tbody tr th:only-of-type {\n",
       "        vertical-align: middle;\n",
       "    }\n",
       "\n",
       "    .dataframe tbody tr th {\n",
       "        vertical-align: top;\n",
       "    }\n",
       "\n",
       "    .dataframe thead th {\n",
       "        text-align: right;\n",
       "    }\n",
       "</style>\n",
       "<table border=\"1\" class=\"dataframe\">\n",
       "  <thead>\n",
       "    <tr style=\"text-align: right;\">\n",
       "      <th></th>\n",
       "      <th>Target</th>\n",
       "      <th>Text</th>\n",
       "      <th>No_of_Characters</th>\n",
       "      <th>No_of_Words</th>\n",
       "      <th>No_of_Sentences</th>\n",
       "      <th>Clean_Text</th>\n",
       "    </tr>\n",
       "  </thead>\n",
       "  <tbody>\n",
       "    <tr>\n",
       "      <th>0</th>\n",
       "      <td>ham</td>\n",
       "      <td>Go until jurong point, crazy.. Available only ...</td>\n",
       "      <td>111</td>\n",
       "      <td>24</td>\n",
       "      <td>2</td>\n",
       "      <td>go until jurong point crazy available only in ...</td>\n",
       "    </tr>\n",
       "    <tr>\n",
       "      <th>1</th>\n",
       "      <td>ham</td>\n",
       "      <td>Ok lar... Joking wif u oni...</td>\n",
       "      <td>29</td>\n",
       "      <td>8</td>\n",
       "      <td>2</td>\n",
       "      <td>ok lar joking wif u oni</td>\n",
       "    </tr>\n",
       "    <tr>\n",
       "      <th>2</th>\n",
       "      <td>spam</td>\n",
       "      <td>Free entry in 2 a wkly comp to win FA Cup fina...</td>\n",
       "      <td>155</td>\n",
       "      <td>37</td>\n",
       "      <td>2</td>\n",
       "      <td>free entry in a wkly comp to win fa cup final ...</td>\n",
       "    </tr>\n",
       "    <tr>\n",
       "      <th>3</th>\n",
       "      <td>ham</td>\n",
       "      <td>U dun say so early hor... U c already then say...</td>\n",
       "      <td>49</td>\n",
       "      <td>13</td>\n",
       "      <td>1</td>\n",
       "      <td>u dun say so early hor u c already then say</td>\n",
       "    </tr>\n",
       "    <tr>\n",
       "      <th>4</th>\n",
       "      <td>ham</td>\n",
       "      <td>Nah I don't think he goes to usf, he lives aro...</td>\n",
       "      <td>61</td>\n",
       "      <td>15</td>\n",
       "      <td>1</td>\n",
       "      <td>nah i don t think he goes to usf he lives arou...</td>\n",
       "    </tr>\n",
       "    <tr>\n",
       "      <th>...</th>\n",
       "      <td>...</td>\n",
       "      <td>...</td>\n",
       "      <td>...</td>\n",
       "      <td>...</td>\n",
       "      <td>...</td>\n",
       "      <td>...</td>\n",
       "    </tr>\n",
       "    <tr>\n",
       "      <th>5567</th>\n",
       "      <td>spam</td>\n",
       "      <td>This is the 2nd time we have tried 2 contact u...</td>\n",
       "      <td>161</td>\n",
       "      <td>35</td>\n",
       "      <td>4</td>\n",
       "      <td>this is the nd time we have tried contact u u ...</td>\n",
       "    </tr>\n",
       "    <tr>\n",
       "      <th>5568</th>\n",
       "      <td>ham</td>\n",
       "      <td>Will Ì_ b going to esplanade fr home?</td>\n",
       "      <td>37</td>\n",
       "      <td>9</td>\n",
       "      <td>1</td>\n",
       "      <td>will b going to esplanade fr home</td>\n",
       "    </tr>\n",
       "    <tr>\n",
       "      <th>5569</th>\n",
       "      <td>ham</td>\n",
       "      <td>Pity, * was in mood for that. So...any other s...</td>\n",
       "      <td>57</td>\n",
       "      <td>15</td>\n",
       "      <td>2</td>\n",
       "      <td>pity was in mood for that so any other suggest...</td>\n",
       "    </tr>\n",
       "    <tr>\n",
       "      <th>5570</th>\n",
       "      <td>ham</td>\n",
       "      <td>The guy did some bitching but I acted like i'd...</td>\n",
       "      <td>125</td>\n",
       "      <td>27</td>\n",
       "      <td>1</td>\n",
       "      <td>the guy did some bitching but i acted like i d...</td>\n",
       "    </tr>\n",
       "    <tr>\n",
       "      <th>5571</th>\n",
       "      <td>ham</td>\n",
       "      <td>Rofl. Its true to its name</td>\n",
       "      <td>26</td>\n",
       "      <td>7</td>\n",
       "      <td>2</td>\n",
       "      <td>rofl its true to its name</td>\n",
       "    </tr>\n",
       "  </tbody>\n",
       "</table>\n",
       "<p>5566 rows × 6 columns</p>\n",
       "</div>"
      ],
      "text/plain": [
       "     Target                                               Text  \\\n",
       "0       ham  Go until jurong point, crazy.. Available only ...   \n",
       "1       ham                      Ok lar... Joking wif u oni...   \n",
       "2      spam  Free entry in 2 a wkly comp to win FA Cup fina...   \n",
       "3       ham  U dun say so early hor... U c already then say...   \n",
       "4       ham  Nah I don't think he goes to usf, he lives aro...   \n",
       "...     ...                                                ...   \n",
       "5567   spam  This is the 2nd time we have tried 2 contact u...   \n",
       "5568    ham              Will Ì_ b going to esplanade fr home?   \n",
       "5569    ham  Pity, * was in mood for that. So...any other s...   \n",
       "5570    ham  The guy did some bitching but I acted like i'd...   \n",
       "5571    ham                         Rofl. Its true to its name   \n",
       "\n",
       "      No_of_Characters  No_of_Words  No_of_Sentences  \\\n",
       "0                  111           24                2   \n",
       "1                   29            8                2   \n",
       "2                  155           37                2   \n",
       "3                   49           13                1   \n",
       "4                   61           15                1   \n",
       "...                ...          ...              ...   \n",
       "5567               161           35                4   \n",
       "5568                37            9                1   \n",
       "5569                57           15                2   \n",
       "5570               125           27                1   \n",
       "5571                26            7                2   \n",
       "\n",
       "                                             Clean_Text  \n",
       "0     go until jurong point crazy available only in ...  \n",
       "1                               ok lar joking wif u oni  \n",
       "2     free entry in a wkly comp to win fa cup final ...  \n",
       "3           u dun say so early hor u c already then say  \n",
       "4     nah i don t think he goes to usf he lives arou...  \n",
       "...                                                 ...  \n",
       "5567  this is the nd time we have tried contact u u ...  \n",
       "5568                  will b going to esplanade fr home  \n",
       "5569  pity was in mood for that so any other suggest...  \n",
       "5570  the guy did some bitching but i acted like i d...  \n",
       "5571                          rofl its true to its name  \n",
       "\n",
       "[5566 rows x 6 columns]"
      ]
     },
     "execution_count": 18,
     "metadata": {},
     "output_type": "execute_result"
    }
   ],
   "source": [
    "df"
   ]
  },
  {
   "cell_type": "markdown",
   "id": "729de0cf",
   "metadata": {
    "papermill": {
     "duration": 0.028845,
     "end_time": "2024-01-27T20:14:44.708064",
     "exception": false,
     "start_time": "2024-01-27T20:14:44.679219",
     "status": "completed"
    },
    "tags": []
   },
   "source": [
    "## **Tokenization**\n",
    "---\n",
    "\n",
    "Tokenization is a fundamental step in natural language processing (NLP) that involves breaking down a text into smaller units, typically words or subwords, referred to as tokens. The process of tokenization is crucial for various NLP tasks because it transforms continuous text into a structured format that can be easily analyzed, processed, and understood by algorithms.\n",
    "\n",
    "**Word Tokenization:** Word tokenization involves splitting a text into individual words. For example, the sentence \"SMS Spam Classification with NLP\" would be tokenized into the list of words: [\"SMS\", \"Spam\", \"Classification\", \"with\", \"NLP\"].\n",
    "\n",
    "**Sentence Tokenization:** Sentence tokenization involves breaking a text into individual sentences. For example, the paragraph \"NLP is fascinating. It involves language understanding and processing.\" would be tokenized into the list of sentences: [\"NLP is fascinating.\", \"It involves language understanding and processing.\"]."
   ]
  },
  {
   "cell_type": "code",
   "execution_count": 19,
   "id": "eac3c676",
   "metadata": {
    "execution": {
     "iopub.execute_input": "2024-01-27T20:14:44.771696Z",
     "iopub.status.busy": "2024-01-27T20:14:44.770803Z",
     "iopub.status.idle": "2024-01-27T20:14:46.067756Z",
     "shell.execute_reply": "2024-01-27T20:14:46.066476Z"
    },
    "papermill": {
     "duration": 1.333971,
     "end_time": "2024-01-27T20:14:46.071063",
     "exception": false,
     "start_time": "2024-01-27T20:14:44.737092",
     "status": "completed"
    },
    "tags": []
   },
   "outputs": [
    {
     "name": "stderr",
     "output_type": "stream",
     "text": [
      "/tmp/ipykernel_18/3340129749.py:3: SettingWithCopyWarning: \n",
      "A value is trying to be set on a copy of a slice from a DataFrame.\n",
      "Try using .loc[row_indexer,col_indexer] = value instead\n",
      "\n",
      "See the caveats in the documentation: https://pandas.pydata.org/pandas-docs/stable/user_guide/indexing.html#returning-a-view-versus-a-copy\n",
      "  df.loc[:, \"Tokenized_Text\"] = df.apply(lambda row: nltk.word_tokenize(row[\"Clean_Text\"]), axis=1)\n"
     ]
    }
   ],
   "source": [
    "# The nltk.word_tokenize function from the Natural Language Toolkit (NLTK) is used\n",
    "# to tokenize the text in the \"Clean_Text\" column of that row\n",
    "df.loc[:, \"Tokenized_Text\"] = df.apply(lambda row: nltk.word_tokenize(row[\"Clean_Text\"]), axis=1)"
   ]
  },
  {
   "cell_type": "code",
   "execution_count": 20,
   "id": "2a297af3",
   "metadata": {
    "execution": {
     "iopub.execute_input": "2024-01-27T20:14:46.134334Z",
     "iopub.status.busy": "2024-01-27T20:14:46.133819Z",
     "iopub.status.idle": "2024-01-27T20:14:46.154091Z",
     "shell.execute_reply": "2024-01-27T20:14:46.152774Z"
    },
    "papermill": {
     "duration": 0.054556,
     "end_time": "2024-01-27T20:14:46.156784",
     "exception": false,
     "start_time": "2024-01-27T20:14:46.102228",
     "status": "completed"
    },
    "tags": []
   },
   "outputs": [
    {
     "data": {
      "text/html": [
       "<div>\n",
       "<style scoped>\n",
       "    .dataframe tbody tr th:only-of-type {\n",
       "        vertical-align: middle;\n",
       "    }\n",
       "\n",
       "    .dataframe tbody tr th {\n",
       "        vertical-align: top;\n",
       "    }\n",
       "\n",
       "    .dataframe thead th {\n",
       "        text-align: right;\n",
       "    }\n",
       "</style>\n",
       "<table border=\"1\" class=\"dataframe\">\n",
       "  <thead>\n",
       "    <tr style=\"text-align: right;\">\n",
       "      <th></th>\n",
       "      <th>Target</th>\n",
       "      <th>Text</th>\n",
       "      <th>No_of_Characters</th>\n",
       "      <th>No_of_Words</th>\n",
       "      <th>No_of_Sentences</th>\n",
       "      <th>Clean_Text</th>\n",
       "      <th>Tokenized_Text</th>\n",
       "    </tr>\n",
       "  </thead>\n",
       "  <tbody>\n",
       "    <tr>\n",
       "      <th>0</th>\n",
       "      <td>ham</td>\n",
       "      <td>Go until jurong point, crazy.. Available only ...</td>\n",
       "      <td>111</td>\n",
       "      <td>24</td>\n",
       "      <td>2</td>\n",
       "      <td>go until jurong point crazy available only in ...</td>\n",
       "      <td>[go, until, jurong, point, crazy, available, o...</td>\n",
       "    </tr>\n",
       "    <tr>\n",
       "      <th>1</th>\n",
       "      <td>ham</td>\n",
       "      <td>Ok lar... Joking wif u oni...</td>\n",
       "      <td>29</td>\n",
       "      <td>8</td>\n",
       "      <td>2</td>\n",
       "      <td>ok lar joking wif u oni</td>\n",
       "      <td>[ok, lar, joking, wif, u, oni]</td>\n",
       "    </tr>\n",
       "    <tr>\n",
       "      <th>2</th>\n",
       "      <td>spam</td>\n",
       "      <td>Free entry in 2 a wkly comp to win FA Cup fina...</td>\n",
       "      <td>155</td>\n",
       "      <td>37</td>\n",
       "      <td>2</td>\n",
       "      <td>free entry in a wkly comp to win fa cup final ...</td>\n",
       "      <td>[free, entry, in, a, wkly, comp, to, win, fa, ...</td>\n",
       "    </tr>\n",
       "    <tr>\n",
       "      <th>3</th>\n",
       "      <td>ham</td>\n",
       "      <td>U dun say so early hor... U c already then say...</td>\n",
       "      <td>49</td>\n",
       "      <td>13</td>\n",
       "      <td>1</td>\n",
       "      <td>u dun say so early hor u c already then say</td>\n",
       "      <td>[u, dun, say, so, early, hor, u, c, already, t...</td>\n",
       "    </tr>\n",
       "    <tr>\n",
       "      <th>4</th>\n",
       "      <td>ham</td>\n",
       "      <td>Nah I don't think he goes to usf, he lives aro...</td>\n",
       "      <td>61</td>\n",
       "      <td>15</td>\n",
       "      <td>1</td>\n",
       "      <td>nah i don t think he goes to usf he lives arou...</td>\n",
       "      <td>[nah, i, don, t, think, he, goes, to, usf, he,...</td>\n",
       "    </tr>\n",
       "  </tbody>\n",
       "</table>\n",
       "</div>"
      ],
      "text/plain": [
       "  Target                                               Text  No_of_Characters  \\\n",
       "0    ham  Go until jurong point, crazy.. Available only ...               111   \n",
       "1    ham                      Ok lar... Joking wif u oni...                29   \n",
       "2   spam  Free entry in 2 a wkly comp to win FA Cup fina...               155   \n",
       "3    ham  U dun say so early hor... U c already then say...                49   \n",
       "4    ham  Nah I don't think he goes to usf, he lives aro...                61   \n",
       "\n",
       "   No_of_Words  No_of_Sentences  \\\n",
       "0           24                2   \n",
       "1            8                2   \n",
       "2           37                2   \n",
       "3           13                1   \n",
       "4           15                1   \n",
       "\n",
       "                                          Clean_Text  \\\n",
       "0  go until jurong point crazy available only in ...   \n",
       "1                            ok lar joking wif u oni   \n",
       "2  free entry in a wkly comp to win fa cup final ...   \n",
       "3        u dun say so early hor u c already then say   \n",
       "4  nah i don t think he goes to usf he lives arou...   \n",
       "\n",
       "                                      Tokenized_Text  \n",
       "0  [go, until, jurong, point, crazy, available, o...  \n",
       "1                     [ok, lar, joking, wif, u, oni]  \n",
       "2  [free, entry, in, a, wkly, comp, to, win, fa, ...  \n",
       "3  [u, dun, say, so, early, hor, u, c, already, t...  \n",
       "4  [nah, i, don, t, think, he, goes, to, usf, he,...  "
      ]
     },
     "execution_count": 20,
     "metadata": {},
     "output_type": "execute_result"
    }
   ],
   "source": [
    "df.head()"
   ]
  },
  {
   "cell_type": "markdown",
   "id": "ea3feaf3",
   "metadata": {
    "papermill": {
     "duration": 0.029495,
     "end_time": "2024-01-27T20:14:46.216535",
     "exception": false,
     "start_time": "2024-01-27T20:14:46.187040",
     "status": "completed"
    },
    "tags": []
   },
   "source": [
    "## **Stopword Removal**\n",
    "---\n",
    "\n",
    "In natural language processing (NLP), stopwords refer to the most common words in a language that are often considered to be of little value in terms of information content. These words are typically filtered out during the preprocessing of text data before analysis. The rationale behind removing stopwords is that they occur frequently in language but do not contribute much to the meaning or context of a document.\n",
    "\n",
    "Examples of common English stopwords include:\n",
    "\n",
    "* **Articles:** \"a,\" \"an,\" \"the\"\n",
    "* **Conjunctions:** \"and,\" \"but,\" \"or\"\n",
    "* **Prepositions:** \"in,\" \"on,\" \"with\"\n",
    "* **Pronouns:** \"he,\" \"she,\" \"it\"\n",
    "* **Auxiliary verbs:** \"is,\" \"do,\" \"be\""
   ]
  },
  {
   "cell_type": "code",
   "execution_count": 21,
   "id": "d00298f0",
   "metadata": {
    "execution": {
     "iopub.execute_input": "2024-01-27T20:14:46.285005Z",
     "iopub.status.busy": "2024-01-27T20:14:46.283340Z",
     "iopub.status.idle": "2024-01-27T20:14:47.148110Z",
     "shell.execute_reply": "2024-01-27T20:14:47.146723Z"
    },
    "papermill": {
     "duration": 0.903035,
     "end_time": "2024-01-27T20:14:47.151842",
     "exception": false,
     "start_time": "2024-01-27T20:14:46.248807",
     "status": "completed"
    },
    "tags": []
   },
   "outputs": [
    {
     "name": "stderr",
     "output_type": "stream",
     "text": [
      "/tmp/ipykernel_18/1086882397.py:7: SettingWithCopyWarning: \n",
      "A value is trying to be set on a copy of a slice from a DataFrame.\n",
      "Try using .loc[row_indexer,col_indexer] = value instead\n",
      "\n",
      "See the caveats in the documentation: https://pandas.pydata.org/pandas-docs/stable/user_guide/indexing.html#returning-a-view-versus-a-copy\n",
      "  df.loc[:, \"No_Stopword_Text\"] = df[\"Tokenized_Text\"].apply(remove_stopwords)\n"
     ]
    }
   ],
   "source": [
    "# Removing the stopwords function\n",
    "def remove_stopwords(text):\n",
    "    stop_words = set(stopwords.words(\"english\"))\n",
    "    filtered_text = [word for word in text if word not in stop_words]\n",
    "    return filtered_text\n",
    "\n",
    "df.loc[:, \"No_Stopword_Text\"] = df[\"Tokenized_Text\"].apply(remove_stopwords)"
   ]
  },
  {
   "cell_type": "code",
   "execution_count": 22,
   "id": "26926375",
   "metadata": {
    "execution": {
     "iopub.execute_input": "2024-01-27T20:14:47.217732Z",
     "iopub.status.busy": "2024-01-27T20:14:47.217162Z",
     "iopub.status.idle": "2024-01-27T20:14:47.239880Z",
     "shell.execute_reply": "2024-01-27T20:14:47.238631Z"
    },
    "papermill": {
     "duration": 0.057558,
     "end_time": "2024-01-27T20:14:47.242648",
     "exception": false,
     "start_time": "2024-01-27T20:14:47.185090",
     "status": "completed"
    },
    "tags": []
   },
   "outputs": [
    {
     "data": {
      "text/html": [
       "<div>\n",
       "<style scoped>\n",
       "    .dataframe tbody tr th:only-of-type {\n",
       "        vertical-align: middle;\n",
       "    }\n",
       "\n",
       "    .dataframe tbody tr th {\n",
       "        vertical-align: top;\n",
       "    }\n",
       "\n",
       "    .dataframe thead th {\n",
       "        text-align: right;\n",
       "    }\n",
       "</style>\n",
       "<table border=\"1\" class=\"dataframe\">\n",
       "  <thead>\n",
       "    <tr style=\"text-align: right;\">\n",
       "      <th></th>\n",
       "      <th>Tokenized_Text</th>\n",
       "      <th>No_Stopword_Text</th>\n",
       "    </tr>\n",
       "  </thead>\n",
       "  <tbody>\n",
       "    <tr>\n",
       "      <th>0</th>\n",
       "      <td>[go, until, jurong, point, crazy, available, o...</td>\n",
       "      <td>[go, jurong, point, crazy, available, bugis, n...</td>\n",
       "    </tr>\n",
       "    <tr>\n",
       "      <th>1</th>\n",
       "      <td>[ok, lar, joking, wif, u, oni]</td>\n",
       "      <td>[ok, lar, joking, wif, u, oni]</td>\n",
       "    </tr>\n",
       "    <tr>\n",
       "      <th>2</th>\n",
       "      <td>[free, entry, in, a, wkly, comp, to, win, fa, ...</td>\n",
       "      <td>[free, entry, wkly, comp, win, fa, cup, final,...</td>\n",
       "    </tr>\n",
       "    <tr>\n",
       "      <th>3</th>\n",
       "      <td>[u, dun, say, so, early, hor, u, c, already, t...</td>\n",
       "      <td>[u, dun, say, early, hor, u, c, already, say]</td>\n",
       "    </tr>\n",
       "    <tr>\n",
       "      <th>4</th>\n",
       "      <td>[nah, i, don, t, think, he, goes, to, usf, he,...</td>\n",
       "      <td>[nah, think, goes, usf, lives, around, though]</td>\n",
       "    </tr>\n",
       "  </tbody>\n",
       "</table>\n",
       "</div>"
      ],
      "text/plain": [
       "                                      Tokenized_Text  \\\n",
       "0  [go, until, jurong, point, crazy, available, o...   \n",
       "1                     [ok, lar, joking, wif, u, oni]   \n",
       "2  [free, entry, in, a, wkly, comp, to, win, fa, ...   \n",
       "3  [u, dun, say, so, early, hor, u, c, already, t...   \n",
       "4  [nah, i, don, t, think, he, goes, to, usf, he,...   \n",
       "\n",
       "                                    No_Stopword_Text  \n",
       "0  [go, jurong, point, crazy, available, bugis, n...  \n",
       "1                     [ok, lar, joking, wif, u, oni]  \n",
       "2  [free, entry, wkly, comp, win, fa, cup, final,...  \n",
       "3      [u, dun, say, early, hor, u, c, already, say]  \n",
       "4     [nah, think, goes, usf, lives, around, though]  "
      ]
     },
     "execution_count": 22,
     "metadata": {},
     "output_type": "execute_result"
    }
   ],
   "source": [
    "df[['Tokenized_Text','No_Stopword_Text']].head()"
   ]
  },
  {
   "cell_type": "markdown",
   "id": "1d0c4c96",
   "metadata": {
    "papermill": {
     "duration": 0.029817,
     "end_time": "2024-01-27T20:14:47.302905",
     "exception": false,
     "start_time": "2024-01-27T20:14:47.273088",
     "status": "completed"
    },
    "tags": []
   },
   "source": [
    "## **Lemmatization & Stemming**\n",
    "---\n",
    "Lemmatization involves reducing words to their base or dictionary form, known as the lemma, ensuring that the resulting lemma is a valid word in the language. In contrast to stemming, lemmatization not only converts a word to its root form but also guarantees that the root word is linguistically valid in the given language, in this case, English. When utilizing lemmatization, the output remains in English.\n",
    "\n",
    "Stemming is the process of removing suffixes from words to derive their root or base form, known as the stem. While the resulting stem may not necessarily be a valid word, it often captures the core meaning of the original word. The stem is created by eliminating the prefix or suffix of a word, linking back to the etymology of the word. As languages evolve, stemming helps trace words back to their root forms, acknowledging the historical development of languages. For example, English, as a derivative of Latin, highlights how stemming can bring a word back to its linguistic origin.\n",
    "\n",
    "Key Differences:\n",
    "\n",
    "* **Output:** Stemming may result in a stem that is not a valid word and lemmatization results in a valid word (lemma).\n",
    "* **Precision:** Stemming is a more aggressive approach, often resulting in a shorter stem and lemmatization is a more conservative approach, preserving the grammatical and semantic meaning.\n",
    "* **Language Dependency:** Stemming is language-dependent and may vary for different languages and lemmatization often requires language-specific information and is more language-dependent.\n",
    "* **Use Cases:** Stemming is faster and is commonly used in information retrieval and search engines and lemmatization is preferred in tasks where preserving the semantic meaning of words is crucial, such as in question answering or machine translation.\n",
    "\n",
    "In a typical preprocessing pipeline, lemmatization is generally performed before stemming. The reason for this order is rooted in the goals and characteristics of these two text normalization techniques."
   ]
  },
  {
   "cell_type": "code",
   "execution_count": 23,
   "id": "412f09ed",
   "metadata": {
    "execution": {
     "iopub.execute_input": "2024-01-27T20:14:47.366882Z",
     "iopub.status.busy": "2024-01-27T20:14:47.366380Z",
     "iopub.status.idle": "2024-01-27T20:14:47.372157Z",
     "shell.execute_reply": "2024-01-27T20:14:47.370882Z"
    },
    "papermill": {
     "duration": 0.040644,
     "end_time": "2024-01-27T20:14:47.374923",
     "exception": false,
     "start_time": "2024-01-27T20:14:47.334279",
     "status": "completed"
    },
    "tags": []
   },
   "outputs": [],
   "source": [
    "lemmatizer = WordNetLemmatizer()\n",
    "\n",
    "def lemmatize_word(text):\n",
    "    lemmas = [lemmatizer.lemmatize(word) for word in text]\n",
    "    return lemmas"
   ]
  },
  {
   "cell_type": "code",
   "execution_count": 24,
   "id": "b0f5f7c1",
   "metadata": {
    "execution": {
     "iopub.execute_input": "2024-01-27T20:14:47.439592Z",
     "iopub.status.busy": "2024-01-27T20:14:47.439071Z",
     "iopub.status.idle": "2024-01-27T20:14:50.683733Z",
     "shell.execute_reply": "2024-01-27T20:14:50.682359Z"
    },
    "papermill": {
     "duration": 3.280294,
     "end_time": "2024-01-27T20:14:50.686509",
     "exception": false,
     "start_time": "2024-01-27T20:14:47.406215",
     "status": "completed"
    },
    "tags": []
   },
   "outputs": [
    {
     "name": "stderr",
     "output_type": "stream",
     "text": [
      "/tmp/ipykernel_18/3617129131.py:1: SettingWithCopyWarning: \n",
      "A value is trying to be set on a copy of a slice from a DataFrame.\n",
      "Try using .loc[row_indexer,col_indexer] = value instead\n",
      "\n",
      "See the caveats in the documentation: https://pandas.pydata.org/pandas-docs/stable/user_guide/indexing.html#returning-a-view-versus-a-copy\n",
      "  df.loc[:, \"Lemmatized_Text\"] = df[\"No_Stopword_Text\"].apply(lemmatize_word)\n"
     ]
    },
    {
     "data": {
      "text/html": [
       "<div>\n",
       "<style scoped>\n",
       "    .dataframe tbody tr th:only-of-type {\n",
       "        vertical-align: middle;\n",
       "    }\n",
       "\n",
       "    .dataframe tbody tr th {\n",
       "        vertical-align: top;\n",
       "    }\n",
       "\n",
       "    .dataframe thead th {\n",
       "        text-align: right;\n",
       "    }\n",
       "</style>\n",
       "<table border=\"1\" class=\"dataframe\">\n",
       "  <thead>\n",
       "    <tr style=\"text-align: right;\">\n",
       "      <th></th>\n",
       "      <th>No_Stopword_Text</th>\n",
       "      <th>Lemmatized_Text</th>\n",
       "    </tr>\n",
       "  </thead>\n",
       "  <tbody>\n",
       "    <tr>\n",
       "      <th>0</th>\n",
       "      <td>[go, jurong, point, crazy, available, bugis, n...</td>\n",
       "      <td>[go, jurong, point, crazy, available, bugis, n...</td>\n",
       "    </tr>\n",
       "    <tr>\n",
       "      <th>1</th>\n",
       "      <td>[ok, lar, joking, wif, u, oni]</td>\n",
       "      <td>[ok, lar, joking, wif, u, oni]</td>\n",
       "    </tr>\n",
       "    <tr>\n",
       "      <th>2</th>\n",
       "      <td>[free, entry, wkly, comp, win, fa, cup, final,...</td>\n",
       "      <td>[free, entry, wkly, comp, win, fa, cup, final,...</td>\n",
       "    </tr>\n",
       "    <tr>\n",
       "      <th>3</th>\n",
       "      <td>[u, dun, say, early, hor, u, c, already, say]</td>\n",
       "      <td>[u, dun, say, early, hor, u, c, already, say]</td>\n",
       "    </tr>\n",
       "    <tr>\n",
       "      <th>4</th>\n",
       "      <td>[nah, think, goes, usf, lives, around, though]</td>\n",
       "      <td>[nah, think, go, usf, life, around, though]</td>\n",
       "    </tr>\n",
       "    <tr>\n",
       "      <th>...</th>\n",
       "      <td>...</td>\n",
       "      <td>...</td>\n",
       "    </tr>\n",
       "    <tr>\n",
       "      <th>5567</th>\n",
       "      <td>[nd, time, tried, contact, u, u, pound, prize,...</td>\n",
       "      <td>[nd, time, tried, contact, u, u, pound, prize,...</td>\n",
       "    </tr>\n",
       "    <tr>\n",
       "      <th>5568</th>\n",
       "      <td>[b, going, esplanade, fr, home]</td>\n",
       "      <td>[b, going, esplanade, fr, home]</td>\n",
       "    </tr>\n",
       "    <tr>\n",
       "      <th>5569</th>\n",
       "      <td>[pity, mood, suggestions]</td>\n",
       "      <td>[pity, mood, suggestion]</td>\n",
       "    </tr>\n",
       "    <tr>\n",
       "      <th>5570</th>\n",
       "      <td>[guy, bitching, acted, like, interested, buyin...</td>\n",
       "      <td>[guy, bitching, acted, like, interested, buyin...</td>\n",
       "    </tr>\n",
       "    <tr>\n",
       "      <th>5571</th>\n",
       "      <td>[rofl, true, name]</td>\n",
       "      <td>[rofl, true, name]</td>\n",
       "    </tr>\n",
       "  </tbody>\n",
       "</table>\n",
       "<p>5566 rows × 2 columns</p>\n",
       "</div>"
      ],
      "text/plain": [
       "                                       No_Stopword_Text  \\\n",
       "0     [go, jurong, point, crazy, available, bugis, n...   \n",
       "1                        [ok, lar, joking, wif, u, oni]   \n",
       "2     [free, entry, wkly, comp, win, fa, cup, final,...   \n",
       "3         [u, dun, say, early, hor, u, c, already, say]   \n",
       "4        [nah, think, goes, usf, lives, around, though]   \n",
       "...                                                 ...   \n",
       "5567  [nd, time, tried, contact, u, u, pound, prize,...   \n",
       "5568                    [b, going, esplanade, fr, home]   \n",
       "5569                          [pity, mood, suggestions]   \n",
       "5570  [guy, bitching, acted, like, interested, buyin...   \n",
       "5571                                 [rofl, true, name]   \n",
       "\n",
       "                                        Lemmatized_Text  \n",
       "0     [go, jurong, point, crazy, available, bugis, n...  \n",
       "1                        [ok, lar, joking, wif, u, oni]  \n",
       "2     [free, entry, wkly, comp, win, fa, cup, final,...  \n",
       "3         [u, dun, say, early, hor, u, c, already, say]  \n",
       "4           [nah, think, go, usf, life, around, though]  \n",
       "...                                                 ...  \n",
       "5567  [nd, time, tried, contact, u, u, pound, prize,...  \n",
       "5568                    [b, going, esplanade, fr, home]  \n",
       "5569                           [pity, mood, suggestion]  \n",
       "5570  [guy, bitching, acted, like, interested, buyin...  \n",
       "5571                                 [rofl, true, name]  \n",
       "\n",
       "[5566 rows x 2 columns]"
      ]
     },
     "execution_count": 24,
     "metadata": {},
     "output_type": "execute_result"
    }
   ],
   "source": [
    "df.loc[:, \"Lemmatized_Text\"] = df[\"No_Stopword_Text\"].apply(lemmatize_word)\n",
    "df[['No_Stopword_Text', 'Lemmatized_Text']]"
   ]
  },
  {
   "cell_type": "code",
   "execution_count": 25,
   "id": "bbfcd9fe",
   "metadata": {
    "execution": {
     "iopub.execute_input": "2024-01-27T20:14:50.753008Z",
     "iopub.status.busy": "2024-01-27T20:14:50.751680Z",
     "iopub.status.idle": "2024-01-27T20:14:50.760030Z",
     "shell.execute_reply": "2024-01-27T20:14:50.758728Z"
    },
    "papermill": {
     "duration": 0.045338,
     "end_time": "2024-01-27T20:14:50.763255",
     "exception": false,
     "start_time": "2024-01-27T20:14:50.717917",
     "status": "completed"
    },
    "tags": []
   },
   "outputs": [],
   "source": [
    "stemmer = nltk.SnowballStemmer(\"english\")\n",
    "\n",
    "def stemm_text(text):\n",
    "    text = [stemmer.stem(word) for word in text]\n",
    "    return text"
   ]
  },
  {
   "cell_type": "code",
   "execution_count": 26,
   "id": "c7ae27ac",
   "metadata": {
    "execution": {
     "iopub.execute_input": "2024-01-27T20:14:50.830869Z",
     "iopub.status.busy": "2024-01-27T20:14:50.830089Z",
     "iopub.status.idle": "2024-01-27T20:14:51.833125Z",
     "shell.execute_reply": "2024-01-27T20:14:51.831502Z"
    },
    "papermill": {
     "duration": 1.039327,
     "end_time": "2024-01-27T20:14:51.835853",
     "exception": false,
     "start_time": "2024-01-27T20:14:50.796526",
     "status": "completed"
    },
    "tags": []
   },
   "outputs": [
    {
     "name": "stderr",
     "output_type": "stream",
     "text": [
      "/tmp/ipykernel_18/59479721.py:1: SettingWithCopyWarning: \n",
      "A value is trying to be set on a copy of a slice from a DataFrame.\n",
      "Try using .loc[row_indexer,col_indexer] = value instead\n",
      "\n",
      "See the caveats in the documentation: https://pandas.pydata.org/pandas-docs/stable/user_guide/indexing.html#returning-a-view-versus-a-copy\n",
      "  df.loc[:, 'Stemmed_Text'] = df['No_Stopword_Text'].apply(stemm_text).copy()\n"
     ]
    },
    {
     "data": {
      "text/html": [
       "<div>\n",
       "<style scoped>\n",
       "    .dataframe tbody tr th:only-of-type {\n",
       "        vertical-align: middle;\n",
       "    }\n",
       "\n",
       "    .dataframe tbody tr th {\n",
       "        vertical-align: top;\n",
       "    }\n",
       "\n",
       "    .dataframe thead th {\n",
       "        text-align: right;\n",
       "    }\n",
       "</style>\n",
       "<table border=\"1\" class=\"dataframe\">\n",
       "  <thead>\n",
       "    <tr style=\"text-align: right;\">\n",
       "      <th></th>\n",
       "      <th>No_Stopword_Text</th>\n",
       "      <th>Stemmed_Text</th>\n",
       "    </tr>\n",
       "  </thead>\n",
       "  <tbody>\n",
       "    <tr>\n",
       "      <th>0</th>\n",
       "      <td>[go, jurong, point, crazy, available, bugis, n...</td>\n",
       "      <td>[go, jurong, point, crazi, avail, bugi, n, gre...</td>\n",
       "    </tr>\n",
       "    <tr>\n",
       "      <th>1</th>\n",
       "      <td>[ok, lar, joking, wif, u, oni]</td>\n",
       "      <td>[ok, lar, joke, wif, u, oni]</td>\n",
       "    </tr>\n",
       "    <tr>\n",
       "      <th>2</th>\n",
       "      <td>[free, entry, wkly, comp, win, fa, cup, final,...</td>\n",
       "      <td>[free, entri, wkli, comp, win, fa, cup, final,...</td>\n",
       "    </tr>\n",
       "    <tr>\n",
       "      <th>3</th>\n",
       "      <td>[u, dun, say, early, hor, u, c, already, say]</td>\n",
       "      <td>[u, dun, say, earli, hor, u, c, alreadi, say]</td>\n",
       "    </tr>\n",
       "    <tr>\n",
       "      <th>4</th>\n",
       "      <td>[nah, think, goes, usf, lives, around, though]</td>\n",
       "      <td>[nah, think, goe, usf, live, around, though]</td>\n",
       "    </tr>\n",
       "    <tr>\n",
       "      <th>...</th>\n",
       "      <td>...</td>\n",
       "      <td>...</td>\n",
       "    </tr>\n",
       "    <tr>\n",
       "      <th>5567</th>\n",
       "      <td>[nd, time, tried, contact, u, u, pound, prize,...</td>\n",
       "      <td>[nd, time, tri, contact, u, u, pound, prize, c...</td>\n",
       "    </tr>\n",
       "    <tr>\n",
       "      <th>5568</th>\n",
       "      <td>[b, going, esplanade, fr, home]</td>\n",
       "      <td>[b, go, esplanad, fr, home]</td>\n",
       "    </tr>\n",
       "    <tr>\n",
       "      <th>5569</th>\n",
       "      <td>[pity, mood, suggestions]</td>\n",
       "      <td>[piti, mood, suggest]</td>\n",
       "    </tr>\n",
       "    <tr>\n",
       "      <th>5570</th>\n",
       "      <td>[guy, bitching, acted, like, interested, buyin...</td>\n",
       "      <td>[guy, bitch, act, like, interest, buy, someth,...</td>\n",
       "    </tr>\n",
       "    <tr>\n",
       "      <th>5571</th>\n",
       "      <td>[rofl, true, name]</td>\n",
       "      <td>[rofl, true, name]</td>\n",
       "    </tr>\n",
       "  </tbody>\n",
       "</table>\n",
       "<p>5566 rows × 2 columns</p>\n",
       "</div>"
      ],
      "text/plain": [
       "                                       No_Stopword_Text  \\\n",
       "0     [go, jurong, point, crazy, available, bugis, n...   \n",
       "1                        [ok, lar, joking, wif, u, oni]   \n",
       "2     [free, entry, wkly, comp, win, fa, cup, final,...   \n",
       "3         [u, dun, say, early, hor, u, c, already, say]   \n",
       "4        [nah, think, goes, usf, lives, around, though]   \n",
       "...                                                 ...   \n",
       "5567  [nd, time, tried, contact, u, u, pound, prize,...   \n",
       "5568                    [b, going, esplanade, fr, home]   \n",
       "5569                          [pity, mood, suggestions]   \n",
       "5570  [guy, bitching, acted, like, interested, buyin...   \n",
       "5571                                 [rofl, true, name]   \n",
       "\n",
       "                                           Stemmed_Text  \n",
       "0     [go, jurong, point, crazi, avail, bugi, n, gre...  \n",
       "1                          [ok, lar, joke, wif, u, oni]  \n",
       "2     [free, entri, wkli, comp, win, fa, cup, final,...  \n",
       "3         [u, dun, say, earli, hor, u, c, alreadi, say]  \n",
       "4          [nah, think, goe, usf, live, around, though]  \n",
       "...                                                 ...  \n",
       "5567  [nd, time, tri, contact, u, u, pound, prize, c...  \n",
       "5568                        [b, go, esplanad, fr, home]  \n",
       "5569                              [piti, mood, suggest]  \n",
       "5570  [guy, bitch, act, like, interest, buy, someth,...  \n",
       "5571                                 [rofl, true, name]  \n",
       "\n",
       "[5566 rows x 2 columns]"
      ]
     },
     "execution_count": 26,
     "metadata": {},
     "output_type": "execute_result"
    }
   ],
   "source": [
    "df.loc[:, 'Stemmed_Text'] = df['No_Stopword_Text'].apply(stemm_text).copy()\n",
    "df[['No_Stopword_Text', 'Stemmed_Text']]"
   ]
  },
  {
   "cell_type": "code",
   "execution_count": 27,
   "id": "63691a0d",
   "metadata": {
    "execution": {
     "iopub.execute_input": "2024-01-27T20:14:51.902267Z",
     "iopub.status.busy": "2024-01-27T20:14:51.901766Z",
     "iopub.status.idle": "2024-01-27T20:14:52.945373Z",
     "shell.execute_reply": "2024-01-27T20:14:52.943672Z"
    },
    "papermill": {
     "duration": 1.084981,
     "end_time": "2024-01-27T20:14:52.952647",
     "exception": false,
     "start_time": "2024-01-27T20:14:51.867666",
     "status": "completed"
    },
    "tags": []
   },
   "outputs": [
    {
     "name": "stderr",
     "output_type": "stream",
     "text": [
      "/tmp/ipykernel_18/1814023691.py:1: SettingWithCopyWarning: \n",
      "A value is trying to be set on a copy of a slice from a DataFrame.\n",
      "Try using .loc[row_indexer,col_indexer] = value instead\n",
      "\n",
      "See the caveats in the documentation: https://pandas.pydata.org/pandas-docs/stable/user_guide/indexing.html#returning-a-view-versus-a-copy\n",
      "  df.loc[:, 'LS_Text'] = df['Lemmatized_Text'].apply(stemm_text).copy()\n"
     ]
    },
    {
     "data": {
      "text/html": [
       "<div>\n",
       "<style scoped>\n",
       "    .dataframe tbody tr th:only-of-type {\n",
       "        vertical-align: middle;\n",
       "    }\n",
       "\n",
       "    .dataframe tbody tr th {\n",
       "        vertical-align: top;\n",
       "    }\n",
       "\n",
       "    .dataframe thead th {\n",
       "        text-align: right;\n",
       "    }\n",
       "</style>\n",
       "<table border=\"1\" class=\"dataframe\">\n",
       "  <thead>\n",
       "    <tr style=\"text-align: right;\">\n",
       "      <th></th>\n",
       "      <th>Lemmatized_Text</th>\n",
       "      <th>LS_Text</th>\n",
       "    </tr>\n",
       "  </thead>\n",
       "  <tbody>\n",
       "    <tr>\n",
       "      <th>0</th>\n",
       "      <td>[go, jurong, point, crazy, available, bugis, n...</td>\n",
       "      <td>[go, jurong, point, crazi, avail, bugi, n, gre...</td>\n",
       "    </tr>\n",
       "    <tr>\n",
       "      <th>1</th>\n",
       "      <td>[ok, lar, joking, wif, u, oni]</td>\n",
       "      <td>[ok, lar, joke, wif, u, oni]</td>\n",
       "    </tr>\n",
       "    <tr>\n",
       "      <th>2</th>\n",
       "      <td>[free, entry, wkly, comp, win, fa, cup, final,...</td>\n",
       "      <td>[free, entri, wkli, comp, win, fa, cup, final,...</td>\n",
       "    </tr>\n",
       "    <tr>\n",
       "      <th>3</th>\n",
       "      <td>[u, dun, say, early, hor, u, c, already, say]</td>\n",
       "      <td>[u, dun, say, earli, hor, u, c, alreadi, say]</td>\n",
       "    </tr>\n",
       "    <tr>\n",
       "      <th>4</th>\n",
       "      <td>[nah, think, go, usf, life, around, though]</td>\n",
       "      <td>[nah, think, go, usf, life, around, though]</td>\n",
       "    </tr>\n",
       "    <tr>\n",
       "      <th>...</th>\n",
       "      <td>...</td>\n",
       "      <td>...</td>\n",
       "    </tr>\n",
       "    <tr>\n",
       "      <th>5567</th>\n",
       "      <td>[nd, time, tried, contact, u, u, pound, prize,...</td>\n",
       "      <td>[nd, time, tri, contact, u, u, pound, prize, c...</td>\n",
       "    </tr>\n",
       "    <tr>\n",
       "      <th>5568</th>\n",
       "      <td>[b, going, esplanade, fr, home]</td>\n",
       "      <td>[b, go, esplanad, fr, home]</td>\n",
       "    </tr>\n",
       "    <tr>\n",
       "      <th>5569</th>\n",
       "      <td>[pity, mood, suggestion]</td>\n",
       "      <td>[piti, mood, suggest]</td>\n",
       "    </tr>\n",
       "    <tr>\n",
       "      <th>5570</th>\n",
       "      <td>[guy, bitching, acted, like, interested, buyin...</td>\n",
       "      <td>[guy, bitch, act, like, interest, buy, someth,...</td>\n",
       "    </tr>\n",
       "    <tr>\n",
       "      <th>5571</th>\n",
       "      <td>[rofl, true, name]</td>\n",
       "      <td>[rofl, true, name]</td>\n",
       "    </tr>\n",
       "  </tbody>\n",
       "</table>\n",
       "<p>5566 rows × 2 columns</p>\n",
       "</div>"
      ],
      "text/plain": [
       "                                        Lemmatized_Text  \\\n",
       "0     [go, jurong, point, crazy, available, bugis, n...   \n",
       "1                        [ok, lar, joking, wif, u, oni]   \n",
       "2     [free, entry, wkly, comp, win, fa, cup, final,...   \n",
       "3         [u, dun, say, early, hor, u, c, already, say]   \n",
       "4           [nah, think, go, usf, life, around, though]   \n",
       "...                                                 ...   \n",
       "5567  [nd, time, tried, contact, u, u, pound, prize,...   \n",
       "5568                    [b, going, esplanade, fr, home]   \n",
       "5569                           [pity, mood, suggestion]   \n",
       "5570  [guy, bitching, acted, like, interested, buyin...   \n",
       "5571                                 [rofl, true, name]   \n",
       "\n",
       "                                                LS_Text  \n",
       "0     [go, jurong, point, crazi, avail, bugi, n, gre...  \n",
       "1                          [ok, lar, joke, wif, u, oni]  \n",
       "2     [free, entri, wkli, comp, win, fa, cup, final,...  \n",
       "3         [u, dun, say, earli, hor, u, c, alreadi, say]  \n",
       "4           [nah, think, go, usf, life, around, though]  \n",
       "...                                                 ...  \n",
       "5567  [nd, time, tri, contact, u, u, pound, prize, c...  \n",
       "5568                        [b, go, esplanad, fr, home]  \n",
       "5569                              [piti, mood, suggest]  \n",
       "5570  [guy, bitch, act, like, interest, buy, someth,...  \n",
       "5571                                 [rofl, true, name]  \n",
       "\n",
       "[5566 rows x 2 columns]"
      ]
     },
     "execution_count": 27,
     "metadata": {},
     "output_type": "execute_result"
    }
   ],
   "source": [
    "df.loc[:, 'LS_Text'] = df['Lemmatized_Text'].apply(stemm_text).copy()\n",
    "df[['Lemmatized_Text', 'LS_Text']]"
   ]
  },
  {
   "cell_type": "markdown",
   "id": "97cba442",
   "metadata": {
    "papermill": {
     "duration": 0.033891,
     "end_time": "2024-01-27T20:14:53.019403",
     "exception": false,
     "start_time": "2024-01-27T20:14:52.985512",
     "status": "completed"
    },
    "tags": []
   },
   "source": [
    "# **Text Vectorization**\n",
    "---\n",
    "Term Frequency – Inverse Document Frequency (TF-IDF) in NLP is a numerical statistic that measures the value of a word in a document in comparison to a collection of documents. It is commonly used in Natural Language Processing (NLP) and information retrieval. TF-IDF weights terms based on their frequency in a specific document (Term Frequency) and rarity over the entire dataset (Inverse Document Frequency).\n",
    "\n",
    "The formula for TF-IDF for a term (word) \"t\" in a document \"d\" within a collection of documents is given by:\n",
    "\n",
    "$$\\text{TF-IDF}(d,t) = \\text{TF}(d,t) \\times \\text{IDF}(t)$$\n",
    "\n",
    "* $ \\text{TF}(t,d) $ represents the Term Frequency, which measures how often the term \"t\" occurs in the document \"d.\" It is usually normalized to prevent bias towards longer documents.\n",
    "* $ \\text{IDF}(t) $ is the Inverse Document Frequency, which measures the rarity of the term \"t\" across all documents in the dataset. It is calculated as $\\log\\left(\\frac{N}{DF(t)}\\right)$, where $ \\text{N} $ is the total number of documents and $ \\text{DF}(t) $ is the number of documents containing the term \"t.\"\n",
    "\n",
    "The TF-IDF score is higher for words that are prevalent within an individual document but infrequent across the entire collection of documents. This helps highlight terms that are distinct to a specific document and can be employed in tasks like text classification, retrieving information, and analyzing document similarity. In practical applications, TF-IDF is frequently utilized to convert a group of textual documents into numerical vectors. Each document is then represented by a vector of TF-IDF weights assigned to each term in the vocabulary."
   ]
  },
  {
   "cell_type": "code",
   "execution_count": 28,
   "id": "505611e4",
   "metadata": {
    "execution": {
     "iopub.execute_input": "2024-01-27T20:14:53.087494Z",
     "iopub.status.busy": "2024-01-27T20:14:53.087017Z",
     "iopub.status.idle": "2024-01-27T20:14:53.108344Z",
     "shell.execute_reply": "2024-01-27T20:14:53.107123Z"
    },
    "papermill": {
     "duration": 0.058664,
     "end_time": "2024-01-27T20:14:53.111016",
     "exception": false,
     "start_time": "2024-01-27T20:14:53.052352",
     "status": "completed"
    },
    "tags": []
   },
   "outputs": [
    {
     "data": {
      "text/plain": [
       "['go jurong point crazi avail bugi n great world la e buffet cine got amor wat',\n",
       " 'ok lar joke wif u oni',\n",
       " 'free entri wkli comp win fa cup final tkts st may text fa receiv entri question std txt rate c appli',\n",
       " 'u dun say earli hor u c alreadi say',\n",
       " 'nah think go usf life around though']"
      ]
     },
     "execution_count": 28,
     "metadata": {},
     "output_type": "execute_result"
    }
   ],
   "source": [
    "# Creating a corpus of text feature to encode further into vectorized form\n",
    "corpus= []\n",
    "for i in df[\"LS_Text\"]:\n",
    "    msg = ' '.join([row for row in i]) # Joins the strings within the list into a single space-separated string\n",
    "    corpus.append(msg) # Appends the processed string (msg) to the corpus list\n",
    "    \n",
    "corpus[:5]"
   ]
  },
  {
   "cell_type": "code",
   "execution_count": 29,
   "id": "ca14777c",
   "metadata": {
    "execution": {
     "iopub.execute_input": "2024-01-27T20:14:53.177103Z",
     "iopub.status.busy": "2024-01-27T20:14:53.175781Z",
     "iopub.status.idle": "2024-01-27T20:14:53.521866Z",
     "shell.execute_reply": "2024-01-27T20:14:53.520481Z"
    },
    "papermill": {
     "duration": 0.382659,
     "end_time": "2024-01-27T20:14:53.525278",
     "exception": false,
     "start_time": "2024-01-27T20:14:53.142619",
     "status": "completed"
    },
    "tags": []
   },
   "outputs": [],
   "source": [
    "tfidf = TfidfVectorizer() \n",
    "X = tfidf.fit_transform(corpus).toarray()"
   ]
  },
  {
   "cell_type": "markdown",
   "id": "f8d92e40",
   "metadata": {
    "papermill": {
     "duration": 0.03366,
     "end_time": "2024-01-27T20:14:53.592098",
     "exception": false,
     "start_time": "2024-01-27T20:14:53.558438",
     "status": "completed"
    },
    "tags": []
   },
   "source": [
    "# **Model Building**\n",
    "---\n",
    "The model building process in NLP entails developing and training a machine learning model to execute a specified task on textual data. This is a critical phase in the NLP pipeline, and it is determined by the nature of the problem. The following steps will be performed in the Model Building phase:\n",
    "* Setting up features and target as X and y\n",
    "* Splitting the testing and training sets\n",
    "* Build a pipeline of model for different classifiers\n",
    "* Fit all the models on training data\n",
    "* Get the cross-validation on the training set for all the models and check the accuracy"
   ]
  },
  {
   "cell_type": "code",
   "execution_count": 30,
   "id": "782f0b3f",
   "metadata": {
    "execution": {
     "iopub.execute_input": "2024-01-27T20:14:53.659140Z",
     "iopub.status.busy": "2024-01-27T20:14:53.658206Z",
     "iopub.status.idle": "2024-01-27T20:14:53.668123Z",
     "shell.execute_reply": "2024-01-27T20:14:53.666792Z"
    },
    "papermill": {
     "duration": 0.045914,
     "end_time": "2024-01-27T20:14:53.670887",
     "exception": false,
     "start_time": "2024-01-27T20:14:53.624973",
     "status": "completed"
    },
    "tags": []
   },
   "outputs": [],
   "source": [
    "label_encoder = LabelEncoder()\n",
    "df.loc[:, \"Target\"] = label_encoder.fit_transform(df[\"Target\"])"
   ]
  },
  {
   "cell_type": "code",
   "execution_count": 31,
   "id": "74634612",
   "metadata": {
    "execution": {
     "iopub.execute_input": "2024-01-27T20:14:53.738734Z",
     "iopub.status.busy": "2024-01-27T20:14:53.738156Z",
     "iopub.status.idle": "2024-01-27T20:14:54.048671Z",
     "shell.execute_reply": "2024-01-27T20:14:54.046961Z"
    },
    "papermill": {
     "duration": 0.348576,
     "end_time": "2024-01-27T20:14:54.051967",
     "exception": false,
     "start_time": "2024-01-27T20:14:53.703391",
     "status": "completed"
    },
    "tags": []
   },
   "outputs": [],
   "source": [
    "# Splitting the dataset into testing and training sets\n",
    "y = df[\"Target\"].astype(int)\n",
    "X_train, X_test, y_train, y_test = train_test_split(X, y, test_size=0.2, random_state=42)"
   ]
  },
  {
   "cell_type": "code",
   "execution_count": 32,
   "id": "3a1f1efd",
   "metadata": {
    "execution": {
     "iopub.execute_input": "2024-01-27T20:14:54.122560Z",
     "iopub.status.busy": "2024-01-27T20:14:54.122054Z",
     "iopub.status.idle": "2024-01-27T20:17:15.425100Z",
     "shell.execute_reply": "2024-01-27T20:17:15.422940Z"
    },
    "papermill": {
     "duration": 141.344954,
     "end_time": "2024-01-27T20:17:15.430356",
     "exception": false,
     "start_time": "2024-01-27T20:14:54.085402",
     "status": "completed"
    },
    "tags": []
   },
   "outputs": [],
   "source": [
    "# Creating a list of models\n",
    "classifiers = [CatBoostClassifier(verbose=False),\n",
    "               LogisticRegression(random_state=42),\n",
    "               RandomForestClassifier(),\n",
    "               SVC(),\n",
    "               MultinomialNB(), \n",
    "               KNeighborsClassifier(), \n",
    "               ]\n",
    "\n",
    "for cls in classifiers:\n",
    "    cls.fit(X_train, y_train)"
   ]
  },
  {
   "cell_type": "code",
   "execution_count": 33,
   "id": "5af88f89",
   "metadata": {
    "execution": {
     "iopub.execute_input": "2024-01-27T20:17:15.532860Z",
     "iopub.status.busy": "2024-01-27T20:17:15.532310Z",
     "iopub.status.idle": "2024-01-27T20:42:19.115472Z",
     "shell.execute_reply": "2024-01-27T20:42:19.113961Z"
    },
    "papermill": {
     "duration": 1503.622297,
     "end_time": "2024-01-27T20:42:19.118757",
     "exception": false,
     "start_time": "2024-01-27T20:17:15.496460",
     "status": "completed"
    },
    "tags": []
   },
   "outputs": [
    {
     "name": "stdout",
     "output_type": "stream",
     "text": [
      "<catboost.core.CatBoostClassifier object at 0x782547ef9990> : 0.9764165868897061\n",
      "LogisticRegression(random_state=42) : 0.9602403385902152\n",
      "RandomForestClassifier() : 0.9777613745150401\n",
      "SVC() : 0.975964125560538\n",
      "MultinomialNB() : 0.9651836549604476\n",
      "KNeighborsClassifier() : 0.9132952083438303\n"
     ]
    }
   ],
   "source": [
    "# Cross Validation Score\n",
    "for i, model in enumerate(classifiers):\n",
    "    cv_score = cross_val_score(model, X_train,y_train,scoring=\"accuracy\", cv=10)\n",
    "    print(model, \":\", cv_score.mean())"
   ]
  },
  {
   "cell_type": "markdown",
   "id": "5026920d",
   "metadata": {
    "papermill": {
     "duration": 0.033988,
     "end_time": "2024-01-27T20:42:19.187361",
     "exception": false,
     "start_time": "2024-01-27T20:42:19.153373",
     "status": "completed"
    },
    "tags": []
   },
   "source": [
    "# **Model Evaluation**\n",
    "---"
   ]
  },
  {
   "cell_type": "code",
   "execution_count": 34,
   "id": "8affcbf3",
   "metadata": {
    "execution": {
     "iopub.execute_input": "2024-01-27T20:42:19.258119Z",
     "iopub.status.busy": "2024-01-27T20:42:19.257461Z",
     "iopub.status.idle": "2024-01-27T20:45:03.698863Z",
     "shell.execute_reply": "2024-01-27T20:45:03.697560Z"
    },
    "papermill": {
     "duration": 164.479924,
     "end_time": "2024-01-27T20:45:03.702218",
     "exception": false,
     "start_time": "2024-01-27T20:42:19.222294",
     "status": "completed"
    },
    "tags": []
   },
   "outputs": [],
   "source": [
    "precision =[]\n",
    "recall =[]\n",
    "f1_score = []\n",
    "train_set_acc = []\n",
    "test_set_acc = []\n",
    "\n",
    "for i in classifiers:\n",
    "    pred_train = i.predict(X_train)\n",
    "    pred_test = i.predict(X_test)\n",
    "    prec = metrics.precision_score(y_test, pred_test)\n",
    "    recal = metrics.recall_score(y_test, pred_test)\n",
    "    f1_s = metrics.f1_score(y_test, pred_test)\n",
    "    train_acc = model.score(X_train,y_train)\n",
    "    test_acc = model.score(X_test,y_test)\n",
    "  \n",
    "    precision.append(prec)\n",
    "    recall.append(recal)\n",
    "    f1_score.append(f1_s)\n",
    "    train_set_acc.append(train_acc)\n",
    "    test_set_acc.append(test_acc)"
   ]
  },
  {
   "cell_type": "code",
   "execution_count": 35,
   "id": "acc3e5a0",
   "metadata": {
    "execution": {
     "iopub.execute_input": "2024-01-27T20:45:03.770459Z",
     "iopub.status.busy": "2024-01-27T20:45:03.769272Z",
     "iopub.status.idle": "2024-01-27T20:45:03.778849Z",
     "shell.execute_reply": "2024-01-27T20:45:03.777685Z"
    },
    "papermill": {
     "duration": 0.047549,
     "end_time": "2024-01-27T20:45:03.781888",
     "exception": false,
     "start_time": "2024-01-27T20:45:03.734339",
     "status": "completed"
    },
    "tags": []
   },
   "outputs": [],
   "source": [
    "eval_data = {'Precision':precision,\n",
    "             'Recall':recall,\n",
    "             'F1score':f1_score,\n",
    "             'Accuracy on Testset':test_set_acc,\n",
    "             'Accuracy on Trainset':train_set_acc}\n",
    "\n",
    "# Create pandas DataFrame with classifier names as indices.\n",
    "classifier_model = [cls.__class__.__name__ for cls in classifiers]\n",
    "result_df = pd.DataFrame(eval_data, index=classifier_model)"
   ]
  },
  {
   "cell_type": "code",
   "execution_count": 36,
   "id": "1f2c84fd",
   "metadata": {
    "execution": {
     "iopub.execute_input": "2024-01-27T20:45:03.849948Z",
     "iopub.status.busy": "2024-01-27T20:45:03.849408Z",
     "iopub.status.idle": "2024-01-27T20:45:04.003895Z",
     "shell.execute_reply": "2024-01-27T20:45:04.002427Z"
    },
    "papermill": {
     "duration": 0.192018,
     "end_time": "2024-01-27T20:45:04.006912",
     "exception": false,
     "start_time": "2024-01-27T20:45:03.814894",
     "status": "completed"
    },
    "tags": []
   },
   "outputs": [
    {
     "data": {
      "text/html": [
       "<style type=\"text/css\">\n",
       "#T_b9aca_row0_col0, #T_b9aca_row0_col3, #T_b9aca_row0_col4, #T_b9aca_row1_col3, #T_b9aca_row1_col4, #T_b9aca_row2_col3, #T_b9aca_row2_col4, #T_b9aca_row3_col3, #T_b9aca_row3_col4, #T_b9aca_row4_col3, #T_b9aca_row4_col4, #T_b9aca_row5_col1, #T_b9aca_row5_col2, #T_b9aca_row5_col3, #T_b9aca_row5_col4 {\n",
       "  background-color: #800080;\n",
       "  color: #f1f1f1;\n",
       "}\n",
       "#T_b9aca_row0_col1, #T_b9aca_row0_col2, #T_b9aca_row1_col0, #T_b9aca_row1_col1, #T_b9aca_row1_col2, #T_b9aca_row2_col0, #T_b9aca_row2_col1, #T_b9aca_row2_col2, #T_b9aca_row3_col0, #T_b9aca_row3_col1, #T_b9aca_row3_col2, #T_b9aca_row4_col0, #T_b9aca_row4_col1, #T_b9aca_row4_col2, #T_b9aca_row5_col0 {\n",
       "  background-color: #ee82ee;\n",
       "  color: #f1f1f1;\n",
       "}\n",
       "</style>\n",
       "<table id=\"T_b9aca\">\n",
       "  <thead>\n",
       "    <tr>\n",
       "      <th class=\"blank level0\" >&nbsp;</th>\n",
       "      <th id=\"T_b9aca_level0_col0\" class=\"col_heading level0 col0\" >Precision</th>\n",
       "      <th id=\"T_b9aca_level0_col1\" class=\"col_heading level0 col1\" >Recall</th>\n",
       "      <th id=\"T_b9aca_level0_col2\" class=\"col_heading level0 col2\" >F1score</th>\n",
       "      <th id=\"T_b9aca_level0_col3\" class=\"col_heading level0 col3\" >Accuracy on Testset</th>\n",
       "      <th id=\"T_b9aca_level0_col4\" class=\"col_heading level0 col4\" >Accuracy on Trainset</th>\n",
       "    </tr>\n",
       "  </thead>\n",
       "  <tbody>\n",
       "    <tr>\n",
       "      <th id=\"T_b9aca_level0_row0\" class=\"row_heading level0 row0\" >CatBoostClassifier</th>\n",
       "      <td id=\"T_b9aca_row0_col0\" class=\"data row0 col0\" >0.970803</td>\n",
       "      <td id=\"T_b9aca_row0_col1\" class=\"data row0 col1\" >0.820988</td>\n",
       "      <td id=\"T_b9aca_row0_col2\" class=\"data row0 col2\" >0.889632</td>\n",
       "      <td id=\"T_b9aca_row0_col3\" class=\"data row0 col3\" >0.909336</td>\n",
       "      <td id=\"T_b9aca_row0_col4\" class=\"data row0 col4\" >0.931716</td>\n",
       "    </tr>\n",
       "    <tr>\n",
       "      <th id=\"T_b9aca_level0_row1\" class=\"row_heading level0 row1\" >LogisticRegression</th>\n",
       "      <td id=\"T_b9aca_row1_col0\" class=\"data row1 col0\" >0.991304</td>\n",
       "      <td id=\"T_b9aca_row1_col1\" class=\"data row1 col1\" >0.703704</td>\n",
       "      <td id=\"T_b9aca_row1_col2\" class=\"data row1 col2\" >0.823105</td>\n",
       "      <td id=\"T_b9aca_row1_col3\" class=\"data row1 col3\" >0.909336</td>\n",
       "      <td id=\"T_b9aca_row1_col4\" class=\"data row1 col4\" >0.931716</td>\n",
       "    </tr>\n",
       "    <tr>\n",
       "      <th id=\"T_b9aca_level0_row2\" class=\"row_heading level0 row2\" >RandomForestClassifier</th>\n",
       "      <td id=\"T_b9aca_row2_col0\" class=\"data row2 col0\" >1.000000</td>\n",
       "      <td id=\"T_b9aca_row2_col1\" class=\"data row2 col1\" >0.808642</td>\n",
       "      <td id=\"T_b9aca_row2_col2\" class=\"data row2 col2\" >0.894198</td>\n",
       "      <td id=\"T_b9aca_row2_col3\" class=\"data row2 col3\" >0.909336</td>\n",
       "      <td id=\"T_b9aca_row2_col4\" class=\"data row2 col4\" >0.931716</td>\n",
       "    </tr>\n",
       "    <tr>\n",
       "      <th id=\"T_b9aca_level0_row3\" class=\"row_heading level0 row3\" >SVC</th>\n",
       "      <td id=\"T_b9aca_row3_col0\" class=\"data row3 col0\" >0.992593</td>\n",
       "      <td id=\"T_b9aca_row3_col1\" class=\"data row3 col1\" >0.827160</td>\n",
       "      <td id=\"T_b9aca_row3_col2\" class=\"data row3 col2\" >0.902357</td>\n",
       "      <td id=\"T_b9aca_row3_col3\" class=\"data row3 col3\" >0.909336</td>\n",
       "      <td id=\"T_b9aca_row3_col4\" class=\"data row3 col4\" >0.931716</td>\n",
       "    </tr>\n",
       "    <tr>\n",
       "      <th id=\"T_b9aca_level0_row4\" class=\"row_heading level0 row4\" >MultinomialNB</th>\n",
       "      <td id=\"T_b9aca_row4_col0\" class=\"data row4 col0\" >1.000000</td>\n",
       "      <td id=\"T_b9aca_row4_col1\" class=\"data row4 col1\" >0.753086</td>\n",
       "      <td id=\"T_b9aca_row4_col2\" class=\"data row4 col2\" >0.859155</td>\n",
       "      <td id=\"T_b9aca_row4_col3\" class=\"data row4 col3\" >0.909336</td>\n",
       "      <td id=\"T_b9aca_row4_col4\" class=\"data row4 col4\" >0.931716</td>\n",
       "    </tr>\n",
       "    <tr>\n",
       "      <th id=\"T_b9aca_level0_row5\" class=\"row_heading level0 row5\" >KNeighborsClassifier</th>\n",
       "      <td id=\"T_b9aca_row5_col0\" class=\"data row5 col0\" >1.000000</td>\n",
       "      <td id=\"T_b9aca_row5_col1\" class=\"data row5 col1\" >0.376543</td>\n",
       "      <td id=\"T_b9aca_row5_col2\" class=\"data row5 col2\" >0.547085</td>\n",
       "      <td id=\"T_b9aca_row5_col3\" class=\"data row5 col3\" >0.909336</td>\n",
       "      <td id=\"T_b9aca_row5_col4\" class=\"data row5 col4\" >0.931716</td>\n",
       "    </tr>\n",
       "  </tbody>\n",
       "</table>\n"
      ],
      "text/plain": [
       "<pandas.io.formats.style.Styler at 0x782547fefdc0>"
      ]
     },
     "execution_count": 36,
     "metadata": {},
     "output_type": "execute_result"
    }
   ],
   "source": [
    "cmap = ListedColormap([\"purple\",\"violet\"])\n",
    "result_df.style.background_gradient(cmap=cmap)"
   ]
  },
  {
   "cell_type": "code",
   "execution_count": 37,
   "id": "7018d059",
   "metadata": {
    "execution": {
     "iopub.execute_input": "2024-01-27T20:45:04.082770Z",
     "iopub.status.busy": "2024-01-27T20:45:04.081463Z",
     "iopub.status.idle": "2024-01-27T20:45:04.100830Z",
     "shell.execute_reply": "2024-01-27T20:45:04.099268Z"
    },
    "papermill": {
     "duration": 0.059857,
     "end_time": "2024-01-27T20:45:04.104680",
     "exception": false,
     "start_time": "2024-01-27T20:45:04.044823",
     "status": "completed"
    },
    "tags": []
   },
   "outputs": [],
   "source": [
    "# Create new columns for each criterion\n",
    "result_df['Precision Rank'] = result_df['Precision'].rank(ascending=False)\n",
    "result_df['Recall Rank'] = result_df['Recall'].rank(ascending=False)\n",
    "result_df['F1score Rank'] = result_df['F1score'].rank(ascending=False)\n",
    "\n",
    "# Calculate the mean of the ranks to create an overall rank\n",
    "result_df['Overall Rank'] = result_df[['Precision Rank', 'Recall Rank', 'F1score Rank']].mean(axis=1)"
   ]
  },
  {
   "cell_type": "code",
   "execution_count": 38,
   "id": "02abba3c",
   "metadata": {
    "execution": {
     "iopub.execute_input": "2024-01-27T20:45:04.174155Z",
     "iopub.status.busy": "2024-01-27T20:45:04.173176Z",
     "iopub.status.idle": "2024-01-27T20:45:32.373253Z",
     "shell.execute_reply": "2024-01-27T20:45:32.371871Z"
    },
    "papermill": {
     "duration": 28.237725,
     "end_time": "2024-01-27T20:45:32.376450",
     "exception": false,
     "start_time": "2024-01-27T20:45:04.138725",
     "status": "completed"
    },
    "tags": []
   },
   "outputs": [
    {
     "data": {
      "image/png": "[encoded data removed]",
      "text/plain": [
       "<Figure size 1500x1000 with 12 Axes>"
      ]
     },
     "metadata": {},
     "output_type": "display_data"
    }
   ],
   "source": [
    "fig, axes = plt.subplots(nrows=3, ncols=2, figsize=(15, 10))\n",
    "\n",
    "for cls, ax in zip(classifiers, axes.flatten()):\n",
    "    y_pred = cls.predict(X_test)\n",
    "    cm = confusion_matrix(y_test, y_pred)\n",
    "    sns.heatmap(cm, annot=True, fmt=\"d\", ax=ax)\n",
    "    ax.set_title(type(cls).__name__)\n",
    "\n",
    "plt.tight_layout()\n",
    "plt.show()"
   ]
  },
  {
   "cell_type": "code",
   "execution_count": 39,
   "id": "2aae4ee6",
   "metadata": {
    "execution": {
     "iopub.execute_input": "2024-01-27T20:45:32.447672Z",
     "iopub.status.busy": "2024-01-27T20:45:32.446879Z",
     "iopub.status.idle": "2024-01-27T20:45:32.458268Z",
     "shell.execute_reply": "2024-01-27T20:45:32.457285Z"
    },
    "papermill": {
     "duration": 0.05105,
     "end_time": "2024-01-27T20:45:32.461208",
     "exception": false,
     "start_time": "2024-01-27T20:45:32.410158",
     "status": "completed"
    },
    "tags": []
   },
   "outputs": [],
   "source": [
    "predictions_results = []\n",
    "\n",
    "for i, model in enumerate(classifiers):\n",
    "    correct_train = (pred_train == y_train).tolist()\n",
    "    correct_test = (pred_test == y_test).tolist()\n",
    "    \n",
    "    predictions_results.append({\n",
    "        'Model': model.__class__.__name__,\n",
    "        'Train Predictions': pred_train,\n",
    "        'Train Correct': correct_train,\n",
    "        'Test Predictions': pred_test,\n",
    "        'Test Correct': correct_test\n",
    "    })\n",
    "\n",
    "predictions_df = pd.DataFrame(predictions_results)"
   ]
  },
  {
   "cell_type": "code",
   "execution_count": 40,
   "id": "40d4f4c0",
   "metadata": {
    "execution": {
     "iopub.execute_input": "2024-01-27T20:45:32.532634Z",
     "iopub.status.busy": "2024-01-27T20:45:32.531824Z",
     "iopub.status.idle": "2024-01-27T20:45:32.583054Z",
     "shell.execute_reply": "2024-01-27T20:45:32.581889Z"
    },
    "papermill": {
     "duration": 0.090352,
     "end_time": "2024-01-27T20:45:32.585666",
     "exception": false,
     "start_time": "2024-01-27T20:45:32.495314",
     "status": "completed"
    },
    "tags": []
   },
   "outputs": [
    {
     "data": {
      "text/html": [
       "<div>\n",
       "<style scoped>\n",
       "    .dataframe tbody tr th:only-of-type {\n",
       "        vertical-align: middle;\n",
       "    }\n",
       "\n",
       "    .dataframe tbody tr th {\n",
       "        vertical-align: top;\n",
       "    }\n",
       "\n",
       "    .dataframe thead th {\n",
       "        text-align: right;\n",
       "    }\n",
       "</style>\n",
       "<table border=\"1\" class=\"dataframe\">\n",
       "  <thead>\n",
       "    <tr style=\"text-align: right;\">\n",
       "      <th></th>\n",
       "      <th>Model</th>\n",
       "      <th>Train Predictions</th>\n",
       "      <th>Train Correct</th>\n",
       "      <th>Test Predictions</th>\n",
       "      <th>Test Correct</th>\n",
       "    </tr>\n",
       "  </thead>\n",
       "  <tbody>\n",
       "    <tr>\n",
       "      <th>0</th>\n",
       "      <td>CatBoostClassifier</td>\n",
       "      <td>[0, 0, 0, 0, 0, 0, 0, 0, 0, 0, 0, 0, 0, 0, 0, ...</td>\n",
       "      <td>[False, True, True, True, True, True, True, Tr...</td>\n",
       "      <td>[0, 0, 0, 0, 0, 0, 0, 0, 0, 0, 0, 0, 0, 0, 0, ...</td>\n",
       "      <td>[True, True, False, True, True, True, True, Tr...</td>\n",
       "    </tr>\n",
       "    <tr>\n",
       "      <th>1</th>\n",
       "      <td>LogisticRegression</td>\n",
       "      <td>[0, 0, 0, 0, 0, 0, 0, 0, 0, 0, 0, 0, 0, 0, 0, ...</td>\n",
       "      <td>[False, True, True, True, True, True, True, Tr...</td>\n",
       "      <td>[0, 0, 0, 0, 0, 0, 0, 0, 0, 0, 0, 0, 0, 0, 0, ...</td>\n",
       "      <td>[True, True, False, True, True, True, True, Tr...</td>\n",
       "    </tr>\n",
       "    <tr>\n",
       "      <th>2</th>\n",
       "      <td>RandomForestClassifier</td>\n",
       "      <td>[0, 0, 0, 0, 0, 0, 0, 0, 0, 0, 0, 0, 0, 0, 0, ...</td>\n",
       "      <td>[False, True, True, True, True, True, True, Tr...</td>\n",
       "      <td>[0, 0, 0, 0, 0, 0, 0, 0, 0, 0, 0, 0, 0, 0, 0, ...</td>\n",
       "      <td>[True, True, False, True, True, True, True, Tr...</td>\n",
       "    </tr>\n",
       "    <tr>\n",
       "      <th>3</th>\n",
       "      <td>SVC</td>\n",
       "      <td>[0, 0, 0, 0, 0, 0, 0, 0, 0, 0, 0, 0, 0, 0, 0, ...</td>\n",
       "      <td>[False, True, True, True, True, True, True, Tr...</td>\n",
       "      <td>[0, 0, 0, 0, 0, 0, 0, 0, 0, 0, 0, 0, 0, 0, 0, ...</td>\n",
       "      <td>[True, True, False, True, True, True, True, Tr...</td>\n",
       "    </tr>\n",
       "    <tr>\n",
       "      <th>4</th>\n",
       "      <td>MultinomialNB</td>\n",
       "      <td>[0, 0, 0, 0, 0, 0, 0, 0, 0, 0, 0, 0, 0, 0, 0, ...</td>\n",
       "      <td>[False, True, True, True, True, True, True, Tr...</td>\n",
       "      <td>[0, 0, 0, 0, 0, 0, 0, 0, 0, 0, 0, 0, 0, 0, 0, ...</td>\n",
       "      <td>[True, True, False, True, True, True, True, Tr...</td>\n",
       "    </tr>\n",
       "    <tr>\n",
       "      <th>5</th>\n",
       "      <td>KNeighborsClassifier</td>\n",
       "      <td>[0, 0, 0, 0, 0, 0, 0, 0, 0, 0, 0, 0, 0, 0, 0, ...</td>\n",
       "      <td>[False, True, True, True, True, True, True, Tr...</td>\n",
       "      <td>[0, 0, 0, 0, 0, 0, 0, 0, 0, 0, 0, 0, 0, 0, 0, ...</td>\n",
       "      <td>[True, True, False, True, True, True, True, Tr...</td>\n",
       "    </tr>\n",
       "  </tbody>\n",
       "</table>\n",
       "</div>"
      ],
      "text/plain": [
       "                    Model                                  Train Predictions  \\\n",
       "0      CatBoostClassifier  [0, 0, 0, 0, 0, 0, 0, 0, 0, 0, 0, 0, 0, 0, 0, ...   \n",
       "1      LogisticRegression  [0, 0, 0, 0, 0, 0, 0, 0, 0, 0, 0, 0, 0, 0, 0, ...   \n",
       "2  RandomForestClassifier  [0, 0, 0, 0, 0, 0, 0, 0, 0, 0, 0, 0, 0, 0, 0, ...   \n",
       "3                     SVC  [0, 0, 0, 0, 0, 0, 0, 0, 0, 0, 0, 0, 0, 0, 0, ...   \n",
       "4           MultinomialNB  [0, 0, 0, 0, 0, 0, 0, 0, 0, 0, 0, 0, 0, 0, 0, ...   \n",
       "5    KNeighborsClassifier  [0, 0, 0, 0, 0, 0, 0, 0, 0, 0, 0, 0, 0, 0, 0, ...   \n",
       "\n",
       "                                       Train Correct  \\\n",
       "0  [False, True, True, True, True, True, True, Tr...   \n",
       "1  [False, True, True, True, True, True, True, Tr...   \n",
       "2  [False, True, True, True, True, True, True, Tr...   \n",
       "3  [False, True, True, True, True, True, True, Tr...   \n",
       "4  [False, True, True, True, True, True, True, Tr...   \n",
       "5  [False, True, True, True, True, True, True, Tr...   \n",
       "\n",
       "                                    Test Predictions  \\\n",
       "0  [0, 0, 0, 0, 0, 0, 0, 0, 0, 0, 0, 0, 0, 0, 0, ...   \n",
       "1  [0, 0, 0, 0, 0, 0, 0, 0, 0, 0, 0, 0, 0, 0, 0, ...   \n",
       "2  [0, 0, 0, 0, 0, 0, 0, 0, 0, 0, 0, 0, 0, 0, 0, ...   \n",
       "3  [0, 0, 0, 0, 0, 0, 0, 0, 0, 0, 0, 0, 0, 0, 0, ...   \n",
       "4  [0, 0, 0, 0, 0, 0, 0, 0, 0, 0, 0, 0, 0, 0, 0, ...   \n",
       "5  [0, 0, 0, 0, 0, 0, 0, 0, 0, 0, 0, 0, 0, 0, 0, ...   \n",
       "\n",
       "                                        Test Correct  \n",
       "0  [True, True, False, True, True, True, True, Tr...  \n",
       "1  [True, True, False, True, True, True, True, Tr...  \n",
       "2  [True, True, False, True, True, True, True, Tr...  \n",
       "3  [True, True, False, True, True, True, True, Tr...  \n",
       "4  [True, True, False, True, True, True, True, Tr...  \n",
       "5  [True, True, False, True, True, True, True, Tr...  "
      ]
     },
     "execution_count": 40,
     "metadata": {},
     "output_type": "execute_result"
    }
   ],
   "source": [
    "predictions_df"
   ]
  },
  {
   "cell_type": "code",
   "execution_count": 41,
   "id": "53dc0a21",
   "metadata": {
    "execution": {
     "iopub.execute_input": "2024-01-27T20:45:32.659001Z",
     "iopub.status.busy": "2024-01-27T20:45:32.658139Z",
     "iopub.status.idle": "2024-01-27T20:45:32.673449Z",
     "shell.execute_reply": "2024-01-27T20:45:32.672108Z"
    },
    "papermill": {
     "duration": 0.055428,
     "end_time": "2024-01-27T20:45:32.676567",
     "exception": false,
     "start_time": "2024-01-27T20:45:32.621139",
     "status": "completed"
    },
    "tags": []
   },
   "outputs": [
    {
     "name": "stdout",
     "output_type": "stream",
     "text": [
      "      Actual Test  Test Predictions  Test Result\n",
      "0               0                 0         True\n",
      "1               0                 0         True\n",
      "2               1                 0        False\n",
      "3               0                 0         True\n",
      "4               0                 0         True\n",
      "...           ...               ...          ...\n",
      "1109            0                 0         True\n",
      "1110            0                 0         True\n",
      "1111            0                 0         True\n",
      "1112            0                 0         True\n",
      "1113            0                 0         True\n",
      "\n",
      "[1114 rows x 3 columns]\n"
     ]
    }
   ],
   "source": [
    "# Filter the DataFrame for best model\n",
    "best_results = predictions_df[predictions_df['Model'] == 'SVC'].iloc[0]\n",
    "\n",
    "best_df = pd.DataFrame({\n",
    "    'Actual Test': y_test.tolist(),\n",
    "    'Test Predictions': best_results['Test Predictions'],\n",
    "    'Test Result': best_results['Test Correct']\n",
    "})\n",
    "\n",
    "print(best_df)"
   ]
  },
  {
   "cell_type": "code",
   "execution_count": 42,
   "id": "f086f7c0",
   "metadata": {
    "execution": {
     "iopub.execute_input": "2024-01-27T20:45:32.749194Z",
     "iopub.status.busy": "2024-01-27T20:45:32.748677Z",
     "iopub.status.idle": "2024-01-27T20:45:32.765567Z",
     "shell.execute_reply": "2024-01-27T20:45:32.764672Z"
    },
    "papermill": {
     "duration": 0.056278,
     "end_time": "2024-01-27T20:45:32.768003",
     "exception": false,
     "start_time": "2024-01-27T20:45:32.711725",
     "status": "completed"
    },
    "tags": []
   },
   "outputs": [
    {
     "data": {
      "text/html": [
       "<div>\n",
       "<style scoped>\n",
       "    .dataframe tbody tr th:only-of-type {\n",
       "        vertical-align: middle;\n",
       "    }\n",
       "\n",
       "    .dataframe tbody tr th {\n",
       "        vertical-align: top;\n",
       "    }\n",
       "\n",
       "    .dataframe thead th {\n",
       "        text-align: right;\n",
       "    }\n",
       "</style>\n",
       "<table border=\"1\" class=\"dataframe\">\n",
       "  <thead>\n",
       "    <tr style=\"text-align: right;\">\n",
       "      <th></th>\n",
       "      <th>Actual Test</th>\n",
       "      <th>Test Predictions</th>\n",
       "      <th>Test Result</th>\n",
       "    </tr>\n",
       "  </thead>\n",
       "  <tbody>\n",
       "    <tr>\n",
       "      <th>2</th>\n",
       "      <td>1</td>\n",
       "      <td>0</td>\n",
       "      <td>False</td>\n",
       "    </tr>\n",
       "    <tr>\n",
       "      <th>16</th>\n",
       "      <td>1</td>\n",
       "      <td>0</td>\n",
       "      <td>False</td>\n",
       "    </tr>\n",
       "    <tr>\n",
       "      <th>19</th>\n",
       "      <td>1</td>\n",
       "      <td>0</td>\n",
       "      <td>False</td>\n",
       "    </tr>\n",
       "    <tr>\n",
       "      <th>46</th>\n",
       "      <td>1</td>\n",
       "      <td>0</td>\n",
       "      <td>False</td>\n",
       "    </tr>\n",
       "    <tr>\n",
       "      <th>62</th>\n",
       "      <td>1</td>\n",
       "      <td>0</td>\n",
       "      <td>False</td>\n",
       "    </tr>\n",
       "    <tr>\n",
       "      <th>...</th>\n",
       "      <td>...</td>\n",
       "      <td>...</td>\n",
       "      <td>...</td>\n",
       "    </tr>\n",
       "    <tr>\n",
       "      <th>1054</th>\n",
       "      <td>1</td>\n",
       "      <td>0</td>\n",
       "      <td>False</td>\n",
       "    </tr>\n",
       "    <tr>\n",
       "      <th>1068</th>\n",
       "      <td>1</td>\n",
       "      <td>0</td>\n",
       "      <td>False</td>\n",
       "    </tr>\n",
       "    <tr>\n",
       "      <th>1072</th>\n",
       "      <td>1</td>\n",
       "      <td>0</td>\n",
       "      <td>False</td>\n",
       "    </tr>\n",
       "    <tr>\n",
       "      <th>1087</th>\n",
       "      <td>1</td>\n",
       "      <td>0</td>\n",
       "      <td>False</td>\n",
       "    </tr>\n",
       "    <tr>\n",
       "      <th>1103</th>\n",
       "      <td>1</td>\n",
       "      <td>0</td>\n",
       "      <td>False</td>\n",
       "    </tr>\n",
       "  </tbody>\n",
       "</table>\n",
       "<p>101 rows × 3 columns</p>\n",
       "</div>"
      ],
      "text/plain": [
       "      Actual Test  Test Predictions  Test Result\n",
       "2               1                 0        False\n",
       "16              1                 0        False\n",
       "19              1                 0        False\n",
       "46              1                 0        False\n",
       "62              1                 0        False\n",
       "...           ...               ...          ...\n",
       "1054            1                 0        False\n",
       "1068            1                 0        False\n",
       "1072            1                 0        False\n",
       "1087            1                 0        False\n",
       "1103            1                 0        False\n",
       "\n",
       "[101 rows x 3 columns]"
      ]
     },
     "execution_count": 42,
     "metadata": {},
     "output_type": "execute_result"
    }
   ],
   "source": [
    "incorrect_predictions_df = best_df[best_df['Test Result'] == False]\n",
    "incorrect_predictions_df"
   ]
  },
  {
   "cell_type": "markdown",
   "id": "0e9d1f6b",
   "metadata": {
    "papermill": {
     "duration": 0.034931,
     "end_time": "2024-01-27T20:45:32.837834",
     "exception": false,
     "start_time": "2024-01-27T20:45:32.802903",
     "status": "completed"
    },
    "tags": []
   },
   "source": [
    "# **References**\n",
    "---\n",
    "* https://www.kaggle.com/code/karnikakapoor/spam-or-ham-sms-classifier\n",
    "* https://www.kaggle.com/code/andreshg/nlp-glove-bert-tf-idf-lstm-explained\n",
    "* https://www.kaggle.com/code/faressayah/natural-language-processing-nlp-for-beginners"
   ]
  }
 ],
 "metadata": {
  "kaggle": {
   "accelerator": "none",
   "dataSources": [
    {
     "datasetId": 483,
     "sourceId": 982,
     "sourceType": "datasetVersion"
    }
   ],
   "dockerImageVersionId": 30635,
   "isGpuEnabled": false,
   "isInternetEnabled": true,
   "language": "python",
   "sourceType": "notebook"
  },
  "kernelspec": {
   "display_name": "Python 3",
   "language": "python",
   "name": "python3"
  },
  "language_info": {
   "codemirror_mode": {
    "name": "ipython",
    "version": 3
   },
   "file_extension": ".py",
   "mimetype": "text/x-python",
   "name": "python",
   "nbconvert_exporter": "python",
   "pygments_lexer": "ipython3",
   "version": "3.10.12"
  },
  "papermill": {
   "default_parameters": {},
   "duration": 1923.174475,
   "end_time": "2024-01-27T20:45:35.321721",
   "environment_variables": {},
   "exception": null,
   "input_path": "__notebook__.ipynb",
   "output_path": "__notebook__.ipynb",
   "parameters": {},
   "start_time": "2024-01-27T20:13:32.147246",
   "version": "2.4.0"
  }
 },
 "nbformat": 4,
 "nbformat_minor": 5
}
