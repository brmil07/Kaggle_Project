{
 "cells": [
  {
   "cell_type": "markdown",
   "id": "bee75614",
   "metadata": {
    "papermill": {
     "duration": 0.012141,
     "end_time": "2024-01-27T16:35:16.139864",
     "exception": false,
     "start_time": "2024-01-27T16:35:16.127723",
     "status": "completed"
    },
    "tags": []
   },
   "source": [
    "# **SMS Spam Classification**\n",
    "---\n",
    "Collection of SMS messages tagged as spam or legitimate"
   ]
  },
  {
   "cell_type": "code",
   "execution_count": 1,
   "id": "feced99d",
   "metadata": {
    "_kg_hide-output": true,
    "execution": {
     "iopub.execute_input": "2024-01-27T16:35:16.164442Z",
     "iopub.status.busy": "2024-01-27T16:35:16.164053Z",
     "iopub.status.idle": "2024-01-27T16:35:50.425155Z",
     "shell.execute_reply": "2024-01-27T16:35:50.424173Z"
    },
    "papermill": {
     "duration": 34.276798,
     "end_time": "2024-01-27T16:35:50.427887",
     "exception": false,
     "start_time": "2024-01-27T16:35:16.151089",
     "status": "completed"
    },
    "tags": []
   },
   "outputs": [
    {
     "name": "stdout",
     "output_type": "stream",
     "text": [
      "Requirement already satisfied: nltk in /opt/conda/lib/python3.10/site-packages (3.2.4)\r\n",
      "Collecting nltk\r\n",
      "  Downloading nltk-3.8.1-py3-none-any.whl (1.5 MB)\r\n",
      "\u001b[2K     \u001b[90m━━━━━━━━━━━━━━━━━━━━━━━━━━━━━━━━━━━━━━━━\u001b[0m \u001b[32m1.5/1.5 MB\u001b[0m \u001b[31m7.2 MB/s\u001b[0m eta \u001b[36m0:00:00\u001b[0m\r\n",
      "\u001b[?25hRequirement already satisfied: click in /opt/conda/lib/python3.10/site-packages (from nltk) (8.1.7)\r\n",
      "Requirement already satisfied: joblib in /opt/conda/lib/python3.10/site-packages (from nltk) (1.3.2)\r\n",
      "Requirement already satisfied: regex>=2021.8.3 in /opt/conda/lib/python3.10/site-packages (from nltk) (2023.8.8)\r\n",
      "Requirement already satisfied: tqdm in /opt/conda/lib/python3.10/site-packages (from nltk) (4.66.1)\r\n",
      "Installing collected packages: nltk\r\n",
      "  Attempting uninstall: nltk\r\n",
      "    Found existing installation: nltk 3.2.4\r\n",
      "    Uninstalling nltk-3.2.4:\r\n",
      "      Successfully uninstalled nltk-3.2.4\r\n",
      "\u001b[31mERROR: pip's dependency resolver does not currently take into account all the packages that are installed. This behaviour is the source of the following dependency conflicts.\r\n",
      "preprocessing 0.1.13 requires nltk==3.2.4, but you have nltk 3.8.1 which is incompatible.\u001b[0m\u001b[31m\r\n",
      "\u001b[0mSuccessfully installed nltk-3.8.1\r\n",
      "Requirement already satisfied: scikit-learn in /opt/conda/lib/python3.10/site-packages (1.2.2)\r\n",
      "Collecting scikit-learn\r\n",
      "  Obtaining dependency information for scikit-learn from https://files.pythonhosted.org/packages/3f/61/047b353f0ad550226ef962da182b4a09b689eb6df6bd84a03e44f9ee95bb/scikit_learn-1.4.0-1-cp310-cp310-manylinux_2_17_x86_64.manylinux2014_x86_64.whl.metadata\r\n",
      "  Downloading scikit_learn-1.4.0-1-cp310-cp310-manylinux_2_17_x86_64.manylinux2014_x86_64.whl.metadata (11 kB)\r\n",
      "Requirement already satisfied: numpy<2.0,>=1.19.5 in /opt/conda/lib/python3.10/site-packages (from scikit-learn) (1.24.3)\r\n",
      "Requirement already satisfied: scipy>=1.6.0 in /opt/conda/lib/python3.10/site-packages (from scikit-learn) (1.11.4)\r\n",
      "Requirement already satisfied: joblib>=1.2.0 in /opt/conda/lib/python3.10/site-packages (from scikit-learn) (1.3.2)\r\n",
      "Requirement already satisfied: threadpoolctl>=2.0.0 in /opt/conda/lib/python3.10/site-packages (from scikit-learn) (3.2.0)\r\n",
      "Downloading scikit_learn-1.4.0-1-cp310-cp310-manylinux_2_17_x86_64.manylinux2014_x86_64.whl (12.1 MB)\r\n",
      "\u001b[2K   \u001b[90m━━━━━━━━━━━━━━━━━━━━━━━━━━━━━━━━━━━━━━━━\u001b[0m \u001b[32m12.1/12.1 MB\u001b[0m \u001b[31m53.1 MB/s\u001b[0m eta \u001b[36m0:00:00\u001b[0m\r\n",
      "\u001b[?25hInstalling collected packages: scikit-learn\r\n",
      "  Attempting uninstall: scikit-learn\r\n",
      "    Found existing installation: scikit-learn 1.2.2\r\n",
      "    Uninstalling scikit-learn-1.2.2:\r\n",
      "      Successfully uninstalled scikit-learn-1.2.2\r\n",
      "\u001b[31mERROR: pip's dependency resolver does not currently take into account all the packages that are installed. This behaviour is the source of the following dependency conflicts.\r\n",
      "spopt 0.6.0 requires shapely>=2.0.1, but you have shapely 1.8.5.post1 which is incompatible.\u001b[0m\u001b[31m\r\n",
      "\u001b[0mSuccessfully installed scikit-learn-1.4.0\r\n"
     ]
    }
   ],
   "source": [
    "!pip install --upgrade nltk\n",
    "!pip install --upgrade scikit-learn"
   ]
  },
  {
   "cell_type": "code",
   "execution_count": 2,
   "id": "ed28f408",
   "metadata": {
    "_cell_guid": "b1076dfc-b9ad-4769-8c92-a6c4dae69d19",
    "_uuid": "8f2839f25d086af736a60e9eeb907d3b93b6e0e5",
    "execution": {
     "iopub.execute_input": "2024-01-27T16:35:50.456608Z",
     "iopub.status.busy": "2024-01-27T16:35:50.455680Z",
     "iopub.status.idle": "2024-01-27T16:35:50.881875Z",
     "shell.execute_reply": "2024-01-27T16:35:50.880695Z"
    },
    "papermill": {
     "duration": 0.443748,
     "end_time": "2024-01-27T16:35:50.884060",
     "exception": false,
     "start_time": "2024-01-27T16:35:50.440312",
     "status": "completed"
    },
    "tags": []
   },
   "outputs": [
    {
     "name": "stdout",
     "output_type": "stream",
     "text": [
      "/kaggle/input/sms-spam-collection-dataset/spam.csv\n"
     ]
    }
   ],
   "source": [
    "# This Python 3 environment comes with many helpful analytics libraries installed\n",
    "# It is defined by the kaggle/python Docker image: https://github.com/kaggle/docker-python\n",
    "# For example, here's several helpful packages to load\n",
    "\n",
    "import numpy as np # linear algebra\n",
    "import pandas as pd # data processing, CSV file I/O (e.g. pd.read_csv)\n",
    "\n",
    "# Input data files are available in the read-only \"../input/\" directory\n",
    "# For example, running this (by clicking run or pressing Shift+Enter) will list all files under the input directory\n",
    "\n",
    "import os\n",
    "for dirname, _, filenames in os.walk('/kaggle/input'):\n",
    "    for filename in filenames:\n",
    "        print(os.path.join(dirname, filename))\n",
    "\n",
    "# You can write up to 20GB to the current directory (/kaggle/working/) that gets preserved as output when you create a version using \"Save & Run All\" \n",
    "# You can also write temporary files to /kaggle/temp/, but they won't be saved outside of the current session"
   ]
  },
  {
   "cell_type": "code",
   "execution_count": 3,
   "id": "e5a9166f",
   "metadata": {
    "execution": {
     "iopub.execute_input": "2024-01-27T16:35:50.912374Z",
     "iopub.status.busy": "2024-01-27T16:35:50.911570Z",
     "iopub.status.idle": "2024-01-27T16:35:52.896561Z",
     "shell.execute_reply": "2024-01-27T16:35:52.895562Z"
    },
    "papermill": {
     "duration": 2.001921,
     "end_time": "2024-01-27T16:35:52.899037",
     "exception": false,
     "start_time": "2024-01-27T16:35:50.897116",
     "status": "completed"
    },
    "tags": []
   },
   "outputs": [],
   "source": [
    "import warnings\n",
    "import matplotlib.pyplot as plt\n",
    "import seaborn as sns\n",
    "import numpy as np \n",
    "import pandas as pd\n",
    "import re\n",
    "import nltk\n",
    "from nltk.corpus import stopwords\n",
    "from nltk.stem.porter import PorterStemmer\n",
    "from nltk.stem import WordNetLemmatizer\n",
    "from sklearn.feature_extraction.text import TfidfVectorizer\n",
    "from sklearn.preprocessing import LabelEncoder\n",
    "from sklearn.model_selection import train_test_split\n",
    "from sklearn.pipeline import Pipeline    \n",
    "from sklearn.naive_bayes import MultinomialNB\n",
    "from sklearn.ensemble import RandomForestClassifier\n",
    "from sklearn.neighbors import KNeighborsClassifier\n",
    "from sklearn.svm import SVC\n",
    "from sklearn.model_selection import cross_val_score\n",
    "from matplotlib.colors import ListedColormap\n",
    "from sklearn.metrics import precision_score, recall_score, confusion_matrix, classification_report, accuracy_score, f1_score\n",
    "from sklearn import metrics"
   ]
  },
  {
   "cell_type": "code",
   "execution_count": 4,
   "id": "3fc0cc68",
   "metadata": {
    "_kg_hide-output": true,
    "execution": {
     "iopub.execute_input": "2024-01-27T16:35:52.927461Z",
     "iopub.status.busy": "2024-01-27T16:35:52.926272Z",
     "iopub.status.idle": "2024-01-27T16:35:53.201322Z",
     "shell.execute_reply": "2024-01-27T16:35:53.200037Z"
    },
    "papermill": {
     "duration": 0.291952,
     "end_time": "2024-01-27T16:35:53.204470",
     "exception": false,
     "start_time": "2024-01-27T16:35:52.912518",
     "status": "completed"
    },
    "tags": []
   },
   "outputs": [
    {
     "name": "stderr",
     "output_type": "stream",
     "text": [
      "[nltk_data] Downloading package punkt to /usr/share/nltk_data...\n",
      "[nltk_data]   Package punkt is already up-to-date!\n",
      "[nltk_data] Downloading package wordnet to /usr/share/nltk_data...\n",
      "[nltk_data]   Package wordnet is already up-to-date!\n",
      "[nltk_data] Downloading package averaged_perceptron_tagger to\n",
      "[nltk_data]     /usr/share/nltk_data...\n",
      "[nltk_data]   Package averaged_perceptron_tagger is already up-to-\n",
      "[nltk_data]       date!\n"
     ]
    },
    {
     "data": {
      "text/plain": [
       "True"
      ]
     },
     "execution_count": 4,
     "metadata": {},
     "output_type": "execute_result"
    }
   ],
   "source": [
    "nltk.download('punkt')  # Downloads the 'punkt' resource which is often needed\n",
    "nltk.download('wordnet')  # Downloads the 'wordnet' resource\n",
    "nltk.download('averaged_perceptron_tagger')  # Downloads the 'averaged_perceptron_tagger' resource\n",
    "# nltk.download('all')"
   ]
  },
  {
   "cell_type": "code",
   "execution_count": 5,
   "id": "9faa7c5d",
   "metadata": {
    "execution": {
     "iopub.execute_input": "2024-01-27T16:35:53.231498Z",
     "iopub.status.busy": "2024-01-27T16:35:53.231065Z",
     "iopub.status.idle": "2024-01-27T16:35:53.277869Z",
     "shell.execute_reply": "2024-01-27T16:35:53.276601Z"
    },
    "papermill": {
     "duration": 0.063352,
     "end_time": "2024-01-27T16:35:53.280547",
     "exception": false,
     "start_time": "2024-01-27T16:35:53.217195",
     "status": "completed"
    },
    "tags": []
   },
   "outputs": [],
   "source": [
    "#Loading data\n",
    "data = pd.read_csv(\"/kaggle/input/sms-spam-collection-dataset/spam.csv\", encoding='latin1')"
   ]
  },
  {
   "cell_type": "markdown",
   "id": "91fb9aed",
   "metadata": {
    "papermill": {
     "duration": 0.013273,
     "end_time": "2024-01-27T16:35:53.307475",
     "exception": false,
     "start_time": "2024-01-27T16:35:53.294202",
     "status": "completed"
    },
    "tags": []
   },
   "source": [
    "# **Exploratory Data Analysis**\n",
    "---"
   ]
  },
  {
   "cell_type": "code",
   "execution_count": 6,
   "id": "16e8a271",
   "metadata": {
    "execution": {
     "iopub.execute_input": "2024-01-27T16:35:53.336421Z",
     "iopub.status.busy": "2024-01-27T16:35:53.335986Z",
     "iopub.status.idle": "2024-01-27T16:35:53.367407Z",
     "shell.execute_reply": "2024-01-27T16:35:53.366309Z"
    },
    "papermill": {
     "duration": 0.04849,
     "end_time": "2024-01-27T16:35:53.369813",
     "exception": false,
     "start_time": "2024-01-27T16:35:53.321323",
     "status": "completed"
    },
    "tags": []
   },
   "outputs": [
    {
     "name": "stdout",
     "output_type": "stream",
     "text": [
      "<class 'pandas.core.frame.DataFrame'>\n",
      "RangeIndex: 5572 entries, 0 to 5571\n",
      "Data columns (total 5 columns):\n",
      " #   Column      Non-Null Count  Dtype \n",
      "---  ------      --------------  ----- \n",
      " 0   v1          5572 non-null   object\n",
      " 1   v2          5572 non-null   object\n",
      " 2   Unnamed: 2  50 non-null     object\n",
      " 3   Unnamed: 3  12 non-null     object\n",
      " 4   Unnamed: 4  6 non-null      object\n",
      "dtypes: object(5)\n",
      "memory usage: 217.8+ KB\n"
     ]
    }
   ],
   "source": [
    "data.info()"
   ]
  },
  {
   "cell_type": "code",
   "execution_count": 7,
   "id": "2292f017",
   "metadata": {
    "execution": {
     "iopub.execute_input": "2024-01-27T16:35:53.396767Z",
     "iopub.status.busy": "2024-01-27T16:35:53.396385Z",
     "iopub.status.idle": "2024-01-27T16:35:53.414946Z",
     "shell.execute_reply": "2024-01-27T16:35:53.413881Z"
    },
    "papermill": {
     "duration": 0.034965,
     "end_time": "2024-01-27T16:35:53.417439",
     "exception": false,
     "start_time": "2024-01-27T16:35:53.382474",
     "status": "completed"
    },
    "tags": []
   },
   "outputs": [
    {
     "data": {
      "text/html": [
       "<div>\n",
       "<style scoped>\n",
       "    .dataframe tbody tr th:only-of-type {\n",
       "        vertical-align: middle;\n",
       "    }\n",
       "\n",
       "    .dataframe tbody tr th {\n",
       "        vertical-align: top;\n",
       "    }\n",
       "\n",
       "    .dataframe thead th {\n",
       "        text-align: right;\n",
       "    }\n",
       "</style>\n",
       "<table border=\"1\" class=\"dataframe\">\n",
       "  <thead>\n",
       "    <tr style=\"text-align: right;\">\n",
       "      <th></th>\n",
       "      <th>v1</th>\n",
       "      <th>v2</th>\n",
       "      <th>Unnamed: 2</th>\n",
       "      <th>Unnamed: 3</th>\n",
       "      <th>Unnamed: 4</th>\n",
       "    </tr>\n",
       "  </thead>\n",
       "  <tbody>\n",
       "    <tr>\n",
       "      <th>0</th>\n",
       "      <td>ham</td>\n",
       "      <td>Go until jurong point, crazy.. Available only ...</td>\n",
       "      <td>NaN</td>\n",
       "      <td>NaN</td>\n",
       "      <td>NaN</td>\n",
       "    </tr>\n",
       "    <tr>\n",
       "      <th>1</th>\n",
       "      <td>ham</td>\n",
       "      <td>Ok lar... Joking wif u oni...</td>\n",
       "      <td>NaN</td>\n",
       "      <td>NaN</td>\n",
       "      <td>NaN</td>\n",
       "    </tr>\n",
       "    <tr>\n",
       "      <th>2</th>\n",
       "      <td>spam</td>\n",
       "      <td>Free entry in 2 a wkly comp to win FA Cup fina...</td>\n",
       "      <td>NaN</td>\n",
       "      <td>NaN</td>\n",
       "      <td>NaN</td>\n",
       "    </tr>\n",
       "    <tr>\n",
       "      <th>3</th>\n",
       "      <td>ham</td>\n",
       "      <td>U dun say so early hor... U c already then say...</td>\n",
       "      <td>NaN</td>\n",
       "      <td>NaN</td>\n",
       "      <td>NaN</td>\n",
       "    </tr>\n",
       "    <tr>\n",
       "      <th>4</th>\n",
       "      <td>ham</td>\n",
       "      <td>Nah I don't think he goes to usf, he lives aro...</td>\n",
       "      <td>NaN</td>\n",
       "      <td>NaN</td>\n",
       "      <td>NaN</td>\n",
       "    </tr>\n",
       "    <tr>\n",
       "      <th>...</th>\n",
       "      <td>...</td>\n",
       "      <td>...</td>\n",
       "      <td>...</td>\n",
       "      <td>...</td>\n",
       "      <td>...</td>\n",
       "    </tr>\n",
       "    <tr>\n",
       "      <th>5567</th>\n",
       "      <td>spam</td>\n",
       "      <td>This is the 2nd time we have tried 2 contact u...</td>\n",
       "      <td>NaN</td>\n",
       "      <td>NaN</td>\n",
       "      <td>NaN</td>\n",
       "    </tr>\n",
       "    <tr>\n",
       "      <th>5568</th>\n",
       "      <td>ham</td>\n",
       "      <td>Will Ì_ b going to esplanade fr home?</td>\n",
       "      <td>NaN</td>\n",
       "      <td>NaN</td>\n",
       "      <td>NaN</td>\n",
       "    </tr>\n",
       "    <tr>\n",
       "      <th>5569</th>\n",
       "      <td>ham</td>\n",
       "      <td>Pity, * was in mood for that. So...any other s...</td>\n",
       "      <td>NaN</td>\n",
       "      <td>NaN</td>\n",
       "      <td>NaN</td>\n",
       "    </tr>\n",
       "    <tr>\n",
       "      <th>5570</th>\n",
       "      <td>ham</td>\n",
       "      <td>The guy did some bitching but I acted like i'd...</td>\n",
       "      <td>NaN</td>\n",
       "      <td>NaN</td>\n",
       "      <td>NaN</td>\n",
       "    </tr>\n",
       "    <tr>\n",
       "      <th>5571</th>\n",
       "      <td>ham</td>\n",
       "      <td>Rofl. Its true to its name</td>\n",
       "      <td>NaN</td>\n",
       "      <td>NaN</td>\n",
       "      <td>NaN</td>\n",
       "    </tr>\n",
       "  </tbody>\n",
       "</table>\n",
       "<p>5572 rows × 5 columns</p>\n",
       "</div>"
      ],
      "text/plain": [
       "        v1                                                 v2 Unnamed: 2  \\\n",
       "0      ham  Go until jurong point, crazy.. Available only ...        NaN   \n",
       "1      ham                      Ok lar... Joking wif u oni...        NaN   \n",
       "2     spam  Free entry in 2 a wkly comp to win FA Cup fina...        NaN   \n",
       "3      ham  U dun say so early hor... U c already then say...        NaN   \n",
       "4      ham  Nah I don't think he goes to usf, he lives aro...        NaN   \n",
       "...    ...                                                ...        ...   \n",
       "5567  spam  This is the 2nd time we have tried 2 contact u...        NaN   \n",
       "5568   ham              Will Ì_ b going to esplanade fr home?        NaN   \n",
       "5569   ham  Pity, * was in mood for that. So...any other s...        NaN   \n",
       "5570   ham  The guy did some bitching but I acted like i'd...        NaN   \n",
       "5571   ham                         Rofl. Its true to its name        NaN   \n",
       "\n",
       "     Unnamed: 3 Unnamed: 4  \n",
       "0           NaN        NaN  \n",
       "1           NaN        NaN  \n",
       "2           NaN        NaN  \n",
       "3           NaN        NaN  \n",
       "4           NaN        NaN  \n",
       "...         ...        ...  \n",
       "5567        NaN        NaN  \n",
       "5568        NaN        NaN  \n",
       "5569        NaN        NaN  \n",
       "5570        NaN        NaN  \n",
       "5571        NaN        NaN  \n",
       "\n",
       "[5572 rows x 5 columns]"
      ]
     },
     "execution_count": 7,
     "metadata": {},
     "output_type": "execute_result"
    }
   ],
   "source": [
    "data"
   ]
  },
  {
   "cell_type": "code",
   "execution_count": 8,
   "id": "1b3f85a9",
   "metadata": {
    "execution": {
     "iopub.execute_input": "2024-01-27T16:35:53.445830Z",
     "iopub.status.busy": "2024-01-27T16:35:53.445416Z",
     "iopub.status.idle": "2024-01-27T16:35:53.462421Z",
     "shell.execute_reply": "2024-01-27T16:35:53.461443Z"
    },
    "papermill": {
     "duration": 0.033743,
     "end_time": "2024-01-27T16:35:53.464493",
     "exception": false,
     "start_time": "2024-01-27T16:35:53.430750",
     "status": "completed"
    },
    "tags": []
   },
   "outputs": [
    {
     "data": {
      "text/html": [
       "<div>\n",
       "<style scoped>\n",
       "    .dataframe tbody tr th:only-of-type {\n",
       "        vertical-align: middle;\n",
       "    }\n",
       "\n",
       "    .dataframe tbody tr th {\n",
       "        vertical-align: top;\n",
       "    }\n",
       "\n",
       "    .dataframe thead th {\n",
       "        text-align: right;\n",
       "    }\n",
       "</style>\n",
       "<table border=\"1\" class=\"dataframe\">\n",
       "  <thead>\n",
       "    <tr style=\"text-align: right;\">\n",
       "      <th></th>\n",
       "      <th>Target</th>\n",
       "      <th>Text</th>\n",
       "    </tr>\n",
       "  </thead>\n",
       "  <tbody>\n",
       "    <tr>\n",
       "      <th>0</th>\n",
       "      <td>ham</td>\n",
       "      <td>Go until jurong point, crazy.. Available only ...</td>\n",
       "    </tr>\n",
       "    <tr>\n",
       "      <th>1</th>\n",
       "      <td>ham</td>\n",
       "      <td>Ok lar... Joking wif u oni...</td>\n",
       "    </tr>\n",
       "    <tr>\n",
       "      <th>2</th>\n",
       "      <td>spam</td>\n",
       "      <td>Free entry in 2 a wkly comp to win FA Cup fina...</td>\n",
       "    </tr>\n",
       "    <tr>\n",
       "      <th>3</th>\n",
       "      <td>ham</td>\n",
       "      <td>U dun say so early hor... U c already then say...</td>\n",
       "    </tr>\n",
       "    <tr>\n",
       "      <th>4</th>\n",
       "      <td>ham</td>\n",
       "      <td>Nah I don't think he goes to usf, he lives aro...</td>\n",
       "    </tr>\n",
       "  </tbody>\n",
       "</table>\n",
       "</div>"
      ],
      "text/plain": [
       "  Target                                               Text\n",
       "0    ham  Go until jurong point, crazy.. Available only ...\n",
       "1    ham                      Ok lar... Joking wif u oni...\n",
       "2   spam  Free entry in 2 a wkly comp to win FA Cup fina...\n",
       "3    ham  U dun say so early hor... U c already then say...\n",
       "4    ham  Nah I don't think he goes to usf, he lives aro..."
      ]
     },
     "execution_count": 8,
     "metadata": {},
     "output_type": "execute_result"
    }
   ],
   "source": [
    "# Dropping the redundent looking collumns (for this project)\n",
    "to_drop = [\"Unnamed: 2\",\"Unnamed: 3\",\"Unnamed: 4\"]\n",
    "data = data.drop(data[to_drop], axis=1)\n",
    "# Renaming the columns because I feel fancy today \n",
    "data.rename(columns = {\"v1\":\"Target\", \"v2\":\"Text\"}, inplace = True)\n",
    "data.head()"
   ]
  },
  {
   "cell_type": "code",
   "execution_count": 9,
   "id": "afba95ea",
   "metadata": {
    "execution": {
     "iopub.execute_input": "2024-01-27T16:35:53.560210Z",
     "iopub.status.busy": "2024-01-27T16:35:53.559330Z",
     "iopub.status.idle": "2024-01-27T16:35:53.877046Z",
     "shell.execute_reply": "2024-01-27T16:35:53.875966Z"
    },
    "papermill": {
     "duration": 0.401644,
     "end_time": "2024-01-27T16:35:53.879555",
     "exception": false,
     "start_time": "2024-01-27T16:35:53.477911",
     "status": "completed"
    },
    "tags": []
   },
   "outputs": [
    {
     "data": {
      "text/plain": [
       "Text(0, 0.5, 'Number of Data points')"
      ]
     },
     "execution_count": 9,
     "metadata": {},
     "output_type": "execute_result"
    },
    {
     "data": {
      "image/png": "[encoded data removed]",
      "text/plain": [
       "<Figure size 1200x800 with 1 Axes>"
      ]
     },
     "metadata": {},
     "output_type": "display_data"
    }
   ],
   "source": [
    "#first of all let us evaluate the target and find out if our data is imbalanced or not\n",
    "plt.figure(figsize=(12,8))\n",
    "fg = sns.countplot(x= data[\"Target\"], palette=['yellow','purple'])\n",
    "fg.set_title(\"Count Plot of Classes\")\n",
    "fg.set_xlabel(\"Classes\", color=\"#58508d\")\n",
    "fg.set_ylabel(\"Number of Data points\")"
   ]
  },
  {
   "cell_type": "markdown",
   "id": "d4d6ba9c",
   "metadata": {
    "papermill": {
     "duration": 0.014185,
     "end_time": "2024-01-27T16:35:53.908229",
     "exception": false,
     "start_time": "2024-01-27T16:35:53.894044",
     "status": "completed"
    },
    "tags": []
   },
   "source": [
    "# **Feature Engineering**\n",
    "---"
   ]
  },
  {
   "cell_type": "code",
   "execution_count": 10,
   "id": "31e3d866",
   "metadata": {
    "execution": {
     "iopub.execute_input": "2024-01-27T16:35:53.938613Z",
     "iopub.status.busy": "2024-01-27T16:35:53.937848Z",
     "iopub.status.idle": "2024-01-27T16:35:55.966192Z",
     "shell.execute_reply": "2024-01-27T16:35:55.964994Z"
    },
    "papermill": {
     "duration": 2.046517,
     "end_time": "2024-01-27T16:35:55.968799",
     "exception": false,
     "start_time": "2024-01-27T16:35:53.922282",
     "status": "completed"
    },
    "tags": []
   },
   "outputs": [
    {
     "data": {
      "text/html": [
       "<div>\n",
       "<style scoped>\n",
       "    .dataframe tbody tr th:only-of-type {\n",
       "        vertical-align: middle;\n",
       "    }\n",
       "\n",
       "    .dataframe tbody tr th {\n",
       "        vertical-align: top;\n",
       "    }\n",
       "\n",
       "    .dataframe thead th {\n",
       "        text-align: right;\n",
       "    }\n",
       "</style>\n",
       "<table border=\"1\" class=\"dataframe\">\n",
       "  <thead>\n",
       "    <tr style=\"text-align: right;\">\n",
       "      <th></th>\n",
       "      <th>count</th>\n",
       "      <th>mean</th>\n",
       "      <th>std</th>\n",
       "      <th>min</th>\n",
       "      <th>25%</th>\n",
       "      <th>50%</th>\n",
       "      <th>75%</th>\n",
       "      <th>max</th>\n",
       "    </tr>\n",
       "  </thead>\n",
       "  <tbody>\n",
       "    <tr>\n",
       "      <th>No_of_Characters</th>\n",
       "      <td>5572.0</td>\n",
       "      <td>80.118808</td>\n",
       "      <td>59.690841</td>\n",
       "      <td>2.0</td>\n",
       "      <td>36.0</td>\n",
       "      <td>61.0</td>\n",
       "      <td>121.0</td>\n",
       "      <td>910.0</td>\n",
       "    </tr>\n",
       "    <tr>\n",
       "      <th>No_of_Words</th>\n",
       "      <td>5572.0</td>\n",
       "      <td>18.699390</td>\n",
       "      <td>13.741932</td>\n",
       "      <td>1.0</td>\n",
       "      <td>9.0</td>\n",
       "      <td>15.0</td>\n",
       "      <td>27.0</td>\n",
       "      <td>220.0</td>\n",
       "    </tr>\n",
       "    <tr>\n",
       "      <th>No_of_sentence</th>\n",
       "      <td>5572.0</td>\n",
       "      <td>1.996411</td>\n",
       "      <td>1.520159</td>\n",
       "      <td>1.0</td>\n",
       "      <td>1.0</td>\n",
       "      <td>1.5</td>\n",
       "      <td>2.0</td>\n",
       "      <td>38.0</td>\n",
       "    </tr>\n",
       "  </tbody>\n",
       "</table>\n",
       "</div>"
      ],
      "text/plain": [
       "                   count       mean        std  min   25%   50%    75%    max\n",
       "No_of_Characters  5572.0  80.118808  59.690841  2.0  36.0  61.0  121.0  910.0\n",
       "No_of_Words       5572.0  18.699390  13.741932  1.0   9.0  15.0   27.0  220.0\n",
       "No_of_sentence    5572.0   1.996411   1.520159  1.0   1.0   1.5    2.0   38.0"
      ]
     },
     "execution_count": 10,
     "metadata": {},
     "output_type": "execute_result"
    }
   ],
   "source": [
    "#Adding a column of numbers of charachters,words and sentences in each msg\n",
    "data[\"No_of_Characters\"] = data[\"Text\"].apply(len)\n",
    "data[\"No_of_Words\"]=data.apply(lambda row: nltk.word_tokenize(row[\"Text\"]), axis=1).apply(len)\n",
    "data[\"No_of_sentence\"]=data.apply(lambda row: nltk.sent_tokenize(row[\"Text\"]), axis=1).apply(len)\n",
    "\n",
    "data.describe().T\n",
    "\n",
    "#PS. At this step, I tokenised the words and sentences and used the length of the same. \n",
    "#More on Tokenizing later in the notebook."
   ]
  },
  {
   "cell_type": "code",
   "execution_count": 11,
   "id": "d9c1cdba",
   "metadata": {
    "execution": {
     "iopub.execute_input": "2024-01-27T16:35:56.000355Z",
     "iopub.status.busy": "2024-01-27T16:35:55.999931Z",
     "iopub.status.idle": "2024-01-27T16:36:01.884496Z",
     "shell.execute_reply": "2024-01-27T16:36:01.883349Z"
    },
    "papermill": {
     "duration": 5.903851,
     "end_time": "2024-01-27T16:36:01.887913",
     "exception": false,
     "start_time": "2024-01-27T16:35:55.984062",
     "status": "completed"
    },
    "tags": []
   },
   "outputs": [
    {
     "data": {
      "text/plain": [
       "<Figure size 1200x800 with 0 Axes>"
      ]
     },
     "metadata": {},
     "output_type": "display_data"
    },
    {
     "data": {
      "image/png": "[encoded data removed]",
      "text/plain": [
       "<Figure size 838.125x750 with 12 Axes>"
      ]
     },
     "metadata": {},
     "output_type": "display_data"
    }
   ],
   "source": [
    "plt.figure(figsize=(12,8))\n",
    "fg = sns.pairplot(data=data, hue=\"Target\",palette=['purple','yellow'])\n",
    "plt.show(fg)"
   ]
  },
  {
   "cell_type": "markdown",
   "id": "30fa61cc",
   "metadata": {
    "papermill": {
     "duration": 0.016022,
     "end_time": "2024-01-27T16:36:01.920334",
     "exception": false,
     "start_time": "2024-01-27T16:36:01.904312",
     "status": "completed"
    },
    "tags": []
   },
   "source": [
    "# **Outlier Detection**\n",
    "---"
   ]
  },
  {
   "cell_type": "code",
   "execution_count": 12,
   "id": "5a6bedab",
   "metadata": {
    "execution": {
     "iopub.execute_input": "2024-01-27T16:36:01.955485Z",
     "iopub.status.busy": "2024-01-27T16:36:01.954220Z",
     "iopub.status.idle": "2024-01-27T16:36:01.964390Z",
     "shell.execute_reply": "2024-01-27T16:36:01.962743Z"
    },
    "papermill": {
     "duration": 0.030152,
     "end_time": "2024-01-27T16:36:01.966772",
     "exception": false,
     "start_time": "2024-01-27T16:36:01.936620",
     "status": "completed"
    },
    "tags": []
   },
   "outputs": [
    {
     "data": {
      "text/plain": [
       "(5548, 5)"
      ]
     },
     "execution_count": 12,
     "metadata": {},
     "output_type": "execute_result"
    }
   ],
   "source": [
    "#Dropping the outliers. \n",
    "data = data[(data[\"No_of_Characters\"]<350)]\n",
    "data.shape"
   ]
  },
  {
   "cell_type": "code",
   "execution_count": 13,
   "id": "ef8d7d28",
   "metadata": {
    "execution": {
     "iopub.execute_input": "2024-01-27T16:36:02.002719Z",
     "iopub.status.busy": "2024-01-27T16:36:02.002329Z",
     "iopub.status.idle": "2024-01-27T16:36:07.961374Z",
     "shell.execute_reply": "2024-01-27T16:36:07.960215Z"
    },
    "papermill": {
     "duration": 5.982041,
     "end_time": "2024-01-27T16:36:07.965703",
     "exception": false,
     "start_time": "2024-01-27T16:36:01.983662",
     "status": "completed"
    },
    "tags": []
   },
   "outputs": [
    {
     "data": {
      "text/plain": [
       "<Figure size 1200x800 with 0 Axes>"
      ]
     },
     "metadata": {},
     "output_type": "display_data"
    },
    {
     "data": {
      "image/png": "[encoded data removed]",
      "text/plain": [
       "<Figure size 838.125x750 with 12 Axes>"
      ]
     },
     "metadata": {},
     "output_type": "display_data"
    }
   ],
   "source": [
    "plt.figure(figsize=(12,8))\n",
    "fg = sns.pairplot(data=data, hue=\"Target\",palette=['purple','yellow'])\n",
    "plt.show(fg)"
   ]
  },
  {
   "cell_type": "markdown",
   "id": "6f64fb07",
   "metadata": {
    "papermill": {
     "duration": 0.020378,
     "end_time": "2024-01-27T16:36:08.005686",
     "exception": false,
     "start_time": "2024-01-27T16:36:07.985308",
     "status": "completed"
    },
    "tags": []
   },
   "source": [
    "# **Data Pre-Processing**\n",
    "---"
   ]
  },
  {
   "cell_type": "markdown",
   "id": "aff97d91",
   "metadata": {
    "papermill": {
     "duration": 0.021314,
     "end_time": "2024-01-27T16:36:08.047998",
     "exception": false,
     "start_time": "2024-01-27T16:36:08.026684",
     "status": "completed"
    },
    "tags": []
   },
   "source": [
    "## **Data Cleaning**\n",
    "---"
   ]
  },
  {
   "cell_type": "code",
   "execution_count": 14,
   "id": "9f5e1776",
   "metadata": {
    "execution": {
     "iopub.execute_input": "2024-01-27T16:36:08.090443Z",
     "iopub.status.busy": "2024-01-27T16:36:08.089297Z",
     "iopub.status.idle": "2024-01-27T16:36:08.102112Z",
     "shell.execute_reply": "2024-01-27T16:36:08.100952Z"
    },
    "papermill": {
     "duration": 0.036802,
     "end_time": "2024-01-27T16:36:08.104596",
     "exception": false,
     "start_time": "2024-01-27T16:36:08.067794",
     "status": "completed"
    },
    "tags": []
   },
   "outputs": [
    {
     "data": {
      "text/html": [
       "<div>\n",
       "<style scoped>\n",
       "    .dataframe tbody tr th:only-of-type {\n",
       "        vertical-align: middle;\n",
       "    }\n",
       "\n",
       "    .dataframe tbody tr th {\n",
       "        vertical-align: top;\n",
       "    }\n",
       "\n",
       "    .dataframe thead th {\n",
       "        text-align: right;\n",
       "    }\n",
       "</style>\n",
       "<table border=\"1\" class=\"dataframe\">\n",
       "  <thead>\n",
       "    <tr style=\"text-align: right;\">\n",
       "      <th></th>\n",
       "      <th>Target</th>\n",
       "      <th>Text</th>\n",
       "      <th>No_of_Characters</th>\n",
       "      <th>No_of_Words</th>\n",
       "      <th>No_of_sentence</th>\n",
       "    </tr>\n",
       "  </thead>\n",
       "  <tbody>\n",
       "    <tr>\n",
       "      <th>0</th>\n",
       "      <td>ham</td>\n",
       "      <td>Go until jurong point, crazy.. Available only ...</td>\n",
       "      <td>111</td>\n",
       "      <td>24</td>\n",
       "      <td>2</td>\n",
       "    </tr>\n",
       "    <tr>\n",
       "      <th>1</th>\n",
       "      <td>ham</td>\n",
       "      <td>Ok lar... Joking wif u oni...</td>\n",
       "      <td>29</td>\n",
       "      <td>8</td>\n",
       "      <td>2</td>\n",
       "    </tr>\n",
       "    <tr>\n",
       "      <th>2</th>\n",
       "      <td>spam</td>\n",
       "      <td>Free entry in 2 a wkly comp to win FA Cup fina...</td>\n",
       "      <td>155</td>\n",
       "      <td>37</td>\n",
       "      <td>2</td>\n",
       "    </tr>\n",
       "    <tr>\n",
       "      <th>3</th>\n",
       "      <td>ham</td>\n",
       "      <td>U dun say so early hor... U c already then say...</td>\n",
       "      <td>49</td>\n",
       "      <td>13</td>\n",
       "      <td>1</td>\n",
       "    </tr>\n",
       "    <tr>\n",
       "      <th>4</th>\n",
       "      <td>ham</td>\n",
       "      <td>Nah I don't think he goes to usf, he lives aro...</td>\n",
       "      <td>61</td>\n",
       "      <td>15</td>\n",
       "      <td>1</td>\n",
       "    </tr>\n",
       "  </tbody>\n",
       "</table>\n",
       "</div>"
      ],
      "text/plain": [
       "  Target                                               Text  No_of_Characters  \\\n",
       "0    ham  Go until jurong point, crazy.. Available only ...               111   \n",
       "1    ham                      Ok lar... Joking wif u oni...                29   \n",
       "2   spam  Free entry in 2 a wkly comp to win FA Cup fina...               155   \n",
       "3    ham  U dun say so early hor... U c already then say...                49   \n",
       "4    ham  Nah I don't think he goes to usf, he lives aro...                61   \n",
       "\n",
       "   No_of_Words  No_of_sentence  \n",
       "0           24               2  \n",
       "1            8               2  \n",
       "2           37               2  \n",
       "3           13               1  \n",
       "4           15               1  "
      ]
     },
     "execution_count": 14,
     "metadata": {},
     "output_type": "execute_result"
    }
   ],
   "source": [
    "data.head()"
   ]
  },
  {
   "cell_type": "code",
   "execution_count": 15,
   "id": "4f518b87",
   "metadata": {
    "execution": {
     "iopub.execute_input": "2024-01-27T16:36:08.147382Z",
     "iopub.status.busy": "2024-01-27T16:36:08.146091Z",
     "iopub.status.idle": "2024-01-27T16:36:08.205741Z",
     "shell.execute_reply": "2024-01-27T16:36:08.204496Z"
    },
    "papermill": {
     "duration": 0.083571,
     "end_time": "2024-01-27T16:36:08.208537",
     "exception": false,
     "start_time": "2024-01-27T16:36:08.124966",
     "status": "completed"
    },
    "tags": []
   },
   "outputs": [],
   "source": [
    "# Defining a function to clean up the text\n",
    "def Clean(Text):\n",
    "    sms = re.sub('[^a-zA-Z]', ' ', Text) #Replacing all non-alphabetic characters with a space\n",
    "    sms = sms.lower() #converting to lowecase\n",
    "    sms = sms.split()\n",
    "    sms = ' '.join(sms)\n",
    "    return sms\n",
    "\n",
    "data.loc[:, \"Clean_Text\"] = data[\"Text\"].apply(Clean)"
   ]
  },
  {
   "cell_type": "code",
   "execution_count": 16,
   "id": "0d9459ae",
   "metadata": {
    "execution": {
     "iopub.execute_input": "2024-01-27T16:36:08.251519Z",
     "iopub.status.busy": "2024-01-27T16:36:08.251117Z",
     "iopub.status.idle": "2024-01-27T16:36:08.267351Z",
     "shell.execute_reply": "2024-01-27T16:36:08.266220Z"
    },
    "papermill": {
     "duration": 0.041066,
     "end_time": "2024-01-27T16:36:08.269913",
     "exception": false,
     "start_time": "2024-01-27T16:36:08.228847",
     "status": "completed"
    },
    "tags": []
   },
   "outputs": [
    {
     "data": {
      "text/html": [
       "<div>\n",
       "<style scoped>\n",
       "    .dataframe tbody tr th:only-of-type {\n",
       "        vertical-align: middle;\n",
       "    }\n",
       "\n",
       "    .dataframe tbody tr th {\n",
       "        vertical-align: top;\n",
       "    }\n",
       "\n",
       "    .dataframe thead th {\n",
       "        text-align: right;\n",
       "    }\n",
       "</style>\n",
       "<table border=\"1\" class=\"dataframe\">\n",
       "  <thead>\n",
       "    <tr style=\"text-align: right;\">\n",
       "      <th></th>\n",
       "      <th>Target</th>\n",
       "      <th>Text</th>\n",
       "      <th>No_of_Characters</th>\n",
       "      <th>No_of_Words</th>\n",
       "      <th>No_of_sentence</th>\n",
       "      <th>Clean_Text</th>\n",
       "    </tr>\n",
       "  </thead>\n",
       "  <tbody>\n",
       "    <tr>\n",
       "      <th>0</th>\n",
       "      <td>ham</td>\n",
       "      <td>Go until jurong point, crazy.. Available only ...</td>\n",
       "      <td>111</td>\n",
       "      <td>24</td>\n",
       "      <td>2</td>\n",
       "      <td>go until jurong point crazy available only in ...</td>\n",
       "    </tr>\n",
       "    <tr>\n",
       "      <th>1</th>\n",
       "      <td>ham</td>\n",
       "      <td>Ok lar... Joking wif u oni...</td>\n",
       "      <td>29</td>\n",
       "      <td>8</td>\n",
       "      <td>2</td>\n",
       "      <td>ok lar joking wif u oni</td>\n",
       "    </tr>\n",
       "    <tr>\n",
       "      <th>2</th>\n",
       "      <td>spam</td>\n",
       "      <td>Free entry in 2 a wkly comp to win FA Cup fina...</td>\n",
       "      <td>155</td>\n",
       "      <td>37</td>\n",
       "      <td>2</td>\n",
       "      <td>free entry in a wkly comp to win fa cup final ...</td>\n",
       "    </tr>\n",
       "    <tr>\n",
       "      <th>3</th>\n",
       "      <td>ham</td>\n",
       "      <td>U dun say so early hor... U c already then say...</td>\n",
       "      <td>49</td>\n",
       "      <td>13</td>\n",
       "      <td>1</td>\n",
       "      <td>u dun say so early hor u c already then say</td>\n",
       "    </tr>\n",
       "    <tr>\n",
       "      <th>4</th>\n",
       "      <td>ham</td>\n",
       "      <td>Nah I don't think he goes to usf, he lives aro...</td>\n",
       "      <td>61</td>\n",
       "      <td>15</td>\n",
       "      <td>1</td>\n",
       "      <td>nah i don t think he goes to usf he lives arou...</td>\n",
       "    </tr>\n",
       "    <tr>\n",
       "      <th>...</th>\n",
       "      <td>...</td>\n",
       "      <td>...</td>\n",
       "      <td>...</td>\n",
       "      <td>...</td>\n",
       "      <td>...</td>\n",
       "      <td>...</td>\n",
       "    </tr>\n",
       "    <tr>\n",
       "      <th>5567</th>\n",
       "      <td>spam</td>\n",
       "      <td>This is the 2nd time we have tried 2 contact u...</td>\n",
       "      <td>161</td>\n",
       "      <td>35</td>\n",
       "      <td>4</td>\n",
       "      <td>this is the nd time we have tried contact u u ...</td>\n",
       "    </tr>\n",
       "    <tr>\n",
       "      <th>5568</th>\n",
       "      <td>ham</td>\n",
       "      <td>Will Ì_ b going to esplanade fr home?</td>\n",
       "      <td>37</td>\n",
       "      <td>9</td>\n",
       "      <td>1</td>\n",
       "      <td>will b going to esplanade fr home</td>\n",
       "    </tr>\n",
       "    <tr>\n",
       "      <th>5569</th>\n",
       "      <td>ham</td>\n",
       "      <td>Pity, * was in mood for that. So...any other s...</td>\n",
       "      <td>57</td>\n",
       "      <td>15</td>\n",
       "      <td>2</td>\n",
       "      <td>pity was in mood for that so any other suggest...</td>\n",
       "    </tr>\n",
       "    <tr>\n",
       "      <th>5570</th>\n",
       "      <td>ham</td>\n",
       "      <td>The guy did some bitching but I acted like i'd...</td>\n",
       "      <td>125</td>\n",
       "      <td>27</td>\n",
       "      <td>1</td>\n",
       "      <td>the guy did some bitching but i acted like i d...</td>\n",
       "    </tr>\n",
       "    <tr>\n",
       "      <th>5571</th>\n",
       "      <td>ham</td>\n",
       "      <td>Rofl. Its true to its name</td>\n",
       "      <td>26</td>\n",
       "      <td>7</td>\n",
       "      <td>2</td>\n",
       "      <td>rofl its true to its name</td>\n",
       "    </tr>\n",
       "  </tbody>\n",
       "</table>\n",
       "<p>5548 rows × 6 columns</p>\n",
       "</div>"
      ],
      "text/plain": [
       "     Target                                               Text  \\\n",
       "0       ham  Go until jurong point, crazy.. Available only ...   \n",
       "1       ham                      Ok lar... Joking wif u oni...   \n",
       "2      spam  Free entry in 2 a wkly comp to win FA Cup fina...   \n",
       "3       ham  U dun say so early hor... U c already then say...   \n",
       "4       ham  Nah I don't think he goes to usf, he lives aro...   \n",
       "...     ...                                                ...   \n",
       "5567   spam  This is the 2nd time we have tried 2 contact u...   \n",
       "5568    ham              Will Ì_ b going to esplanade fr home?   \n",
       "5569    ham  Pity, * was in mood for that. So...any other s...   \n",
       "5570    ham  The guy did some bitching but I acted like i'd...   \n",
       "5571    ham                         Rofl. Its true to its name   \n",
       "\n",
       "      No_of_Characters  No_of_Words  No_of_sentence  \\\n",
       "0                  111           24               2   \n",
       "1                   29            8               2   \n",
       "2                  155           37               2   \n",
       "3                   49           13               1   \n",
       "4                   61           15               1   \n",
       "...                ...          ...             ...   \n",
       "5567               161           35               4   \n",
       "5568                37            9               1   \n",
       "5569                57           15               2   \n",
       "5570               125           27               1   \n",
       "5571                26            7               2   \n",
       "\n",
       "                                             Clean_Text  \n",
       "0     go until jurong point crazy available only in ...  \n",
       "1                               ok lar joking wif u oni  \n",
       "2     free entry in a wkly comp to win fa cup final ...  \n",
       "3           u dun say so early hor u c already then say  \n",
       "4     nah i don t think he goes to usf he lives arou...  \n",
       "...                                                 ...  \n",
       "5567  this is the nd time we have tried contact u u ...  \n",
       "5568                  will b going to esplanade fr home  \n",
       "5569  pity was in mood for that so any other suggest...  \n",
       "5570  the guy did some bitching but i acted like i d...  \n",
       "5571                          rofl its true to its name  \n",
       "\n",
       "[5548 rows x 6 columns]"
      ]
     },
     "execution_count": 16,
     "metadata": {},
     "output_type": "execute_result"
    }
   ],
   "source": [
    "data"
   ]
  },
  {
   "cell_type": "markdown",
   "id": "b12f4296",
   "metadata": {
    "papermill": {
     "duration": 0.020224,
     "end_time": "2024-01-27T16:36:08.311180",
     "exception": false,
     "start_time": "2024-01-27T16:36:08.290956",
     "status": "completed"
    },
    "tags": []
   },
   "source": [
    "## **Tokenization**\n",
    "---"
   ]
  },
  {
   "cell_type": "code",
   "execution_count": 17,
   "id": "a1ae62b4",
   "metadata": {
    "execution": {
     "iopub.execute_input": "2024-01-27T16:36:08.355378Z",
     "iopub.status.busy": "2024-01-27T16:36:08.354970Z",
     "iopub.status.idle": "2024-01-27T16:36:09.171678Z",
     "shell.execute_reply": "2024-01-27T16:36:09.170028Z"
    },
    "papermill": {
     "duration": 0.842076,
     "end_time": "2024-01-27T16:36:09.174668",
     "exception": false,
     "start_time": "2024-01-27T16:36:08.332592",
     "status": "completed"
    },
    "tags": []
   },
   "outputs": [],
   "source": [
    "data.loc[:, \"Tokenize_Text\"] = data.apply(lambda row: nltk.word_tokenize(row[\"Clean_Text\"]), axis=1)"
   ]
  },
  {
   "cell_type": "code",
   "execution_count": 18,
   "id": "377634b2",
   "metadata": {
    "execution": {
     "iopub.execute_input": "2024-01-27T16:36:09.219073Z",
     "iopub.status.busy": "2024-01-27T16:36:09.218640Z",
     "iopub.status.idle": "2024-01-27T16:36:09.235380Z",
     "shell.execute_reply": "2024-01-27T16:36:09.233720Z"
    },
    "papermill": {
     "duration": 0.042169,
     "end_time": "2024-01-27T16:36:09.238006",
     "exception": false,
     "start_time": "2024-01-27T16:36:09.195837",
     "status": "completed"
    },
    "tags": []
   },
   "outputs": [
    {
     "data": {
      "text/html": [
       "<div>\n",
       "<style scoped>\n",
       "    .dataframe tbody tr th:only-of-type {\n",
       "        vertical-align: middle;\n",
       "    }\n",
       "\n",
       "    .dataframe tbody tr th {\n",
       "        vertical-align: top;\n",
       "    }\n",
       "\n",
       "    .dataframe thead th {\n",
       "        text-align: right;\n",
       "    }\n",
       "</style>\n",
       "<table border=\"1\" class=\"dataframe\">\n",
       "  <thead>\n",
       "    <tr style=\"text-align: right;\">\n",
       "      <th></th>\n",
       "      <th>Target</th>\n",
       "      <th>Text</th>\n",
       "      <th>No_of_Characters</th>\n",
       "      <th>No_of_Words</th>\n",
       "      <th>No_of_sentence</th>\n",
       "      <th>Clean_Text</th>\n",
       "      <th>Tokenize_Text</th>\n",
       "    </tr>\n",
       "  </thead>\n",
       "  <tbody>\n",
       "    <tr>\n",
       "      <th>0</th>\n",
       "      <td>ham</td>\n",
       "      <td>Go until jurong point, crazy.. Available only ...</td>\n",
       "      <td>111</td>\n",
       "      <td>24</td>\n",
       "      <td>2</td>\n",
       "      <td>go until jurong point crazy available only in ...</td>\n",
       "      <td>[go, until, jurong, point, crazy, available, o...</td>\n",
       "    </tr>\n",
       "    <tr>\n",
       "      <th>1</th>\n",
       "      <td>ham</td>\n",
       "      <td>Ok lar... Joking wif u oni...</td>\n",
       "      <td>29</td>\n",
       "      <td>8</td>\n",
       "      <td>2</td>\n",
       "      <td>ok lar joking wif u oni</td>\n",
       "      <td>[ok, lar, joking, wif, u, oni]</td>\n",
       "    </tr>\n",
       "    <tr>\n",
       "      <th>2</th>\n",
       "      <td>spam</td>\n",
       "      <td>Free entry in 2 a wkly comp to win FA Cup fina...</td>\n",
       "      <td>155</td>\n",
       "      <td>37</td>\n",
       "      <td>2</td>\n",
       "      <td>free entry in a wkly comp to win fa cup final ...</td>\n",
       "      <td>[free, entry, in, a, wkly, comp, to, win, fa, ...</td>\n",
       "    </tr>\n",
       "    <tr>\n",
       "      <th>3</th>\n",
       "      <td>ham</td>\n",
       "      <td>U dun say so early hor... U c already then say...</td>\n",
       "      <td>49</td>\n",
       "      <td>13</td>\n",
       "      <td>1</td>\n",
       "      <td>u dun say so early hor u c already then say</td>\n",
       "      <td>[u, dun, say, so, early, hor, u, c, already, t...</td>\n",
       "    </tr>\n",
       "    <tr>\n",
       "      <th>4</th>\n",
       "      <td>ham</td>\n",
       "      <td>Nah I don't think he goes to usf, he lives aro...</td>\n",
       "      <td>61</td>\n",
       "      <td>15</td>\n",
       "      <td>1</td>\n",
       "      <td>nah i don t think he goes to usf he lives arou...</td>\n",
       "      <td>[nah, i, don, t, think, he, goes, to, usf, he,...</td>\n",
       "    </tr>\n",
       "  </tbody>\n",
       "</table>\n",
       "</div>"
      ],
      "text/plain": [
       "  Target                                               Text  No_of_Characters  \\\n",
       "0    ham  Go until jurong point, crazy.. Available only ...               111   \n",
       "1    ham                      Ok lar... Joking wif u oni...                29   \n",
       "2   spam  Free entry in 2 a wkly comp to win FA Cup fina...               155   \n",
       "3    ham  U dun say so early hor... U c already then say...                49   \n",
       "4    ham  Nah I don't think he goes to usf, he lives aro...                61   \n",
       "\n",
       "   No_of_Words  No_of_sentence  \\\n",
       "0           24               2   \n",
       "1            8               2   \n",
       "2           37               2   \n",
       "3           13               1   \n",
       "4           15               1   \n",
       "\n",
       "                                          Clean_Text  \\\n",
       "0  go until jurong point crazy available only in ...   \n",
       "1                            ok lar joking wif u oni   \n",
       "2  free entry in a wkly comp to win fa cup final ...   \n",
       "3        u dun say so early hor u c already then say   \n",
       "4  nah i don t think he goes to usf he lives arou...   \n",
       "\n",
       "                                       Tokenize_Text  \n",
       "0  [go, until, jurong, point, crazy, available, o...  \n",
       "1                     [ok, lar, joking, wif, u, oni]  \n",
       "2  [free, entry, in, a, wkly, comp, to, win, fa, ...  \n",
       "3  [u, dun, say, so, early, hor, u, c, already, t...  \n",
       "4  [nah, i, don, t, think, he, goes, to, usf, he,...  "
      ]
     },
     "execution_count": 18,
     "metadata": {},
     "output_type": "execute_result"
    }
   ],
   "source": [
    "data.head()"
   ]
  },
  {
   "cell_type": "markdown",
   "id": "74a7f516",
   "metadata": {
    "papermill": {
     "duration": 0.021689,
     "end_time": "2024-01-27T16:36:09.280555",
     "exception": false,
     "start_time": "2024-01-27T16:36:09.258866",
     "status": "completed"
    },
    "tags": []
   },
   "source": [
    "## **Removing Stop Words**\n",
    "---"
   ]
  },
  {
   "cell_type": "code",
   "execution_count": 19,
   "id": "4a098174",
   "metadata": {
    "execution": {
     "iopub.execute_input": "2024-01-27T16:36:09.323821Z",
     "iopub.status.busy": "2024-01-27T16:36:09.323447Z",
     "iopub.status.idle": "2024-01-27T16:36:10.090472Z",
     "shell.execute_reply": "2024-01-27T16:36:10.089259Z"
    },
    "papermill": {
     "duration": 0.791443,
     "end_time": "2024-01-27T16:36:10.093126",
     "exception": false,
     "start_time": "2024-01-27T16:36:09.301683",
     "status": "completed"
    },
    "tags": []
   },
   "outputs": [],
   "source": [
    "# Removing the stopwords function\n",
    "def remove_stopwords(text):\n",
    "    stop_words = set(stopwords.words(\"english\"))\n",
    "    filtered_text = [word for word in text if word not in stop_words]\n",
    "    return filtered_text\n",
    "\n",
    "data.loc[:, \"Nostopword_Text\"] = data[\"Tokenize_Text\"].apply(remove_stopwords)"
   ]
  },
  {
   "cell_type": "code",
   "execution_count": 20,
   "id": "2535c388",
   "metadata": {
    "execution": {
     "iopub.execute_input": "2024-01-27T16:36:10.139414Z",
     "iopub.status.busy": "2024-01-27T16:36:10.138806Z",
     "iopub.status.idle": "2024-01-27T16:36:10.153391Z",
     "shell.execute_reply": "2024-01-27T16:36:10.152541Z"
    },
    "papermill": {
     "duration": 0.041456,
     "end_time": "2024-01-27T16:36:10.155630",
     "exception": false,
     "start_time": "2024-01-27T16:36:10.114174",
     "status": "completed"
    },
    "tags": []
   },
   "outputs": [
    {
     "data": {
      "text/html": [
       "<div>\n",
       "<style scoped>\n",
       "    .dataframe tbody tr th:only-of-type {\n",
       "        vertical-align: middle;\n",
       "    }\n",
       "\n",
       "    .dataframe tbody tr th {\n",
       "        vertical-align: top;\n",
       "    }\n",
       "\n",
       "    .dataframe thead th {\n",
       "        text-align: right;\n",
       "    }\n",
       "</style>\n",
       "<table border=\"1\" class=\"dataframe\">\n",
       "  <thead>\n",
       "    <tr style=\"text-align: right;\">\n",
       "      <th></th>\n",
       "      <th>Tokenize_Text</th>\n",
       "      <th>Nostopword_Text</th>\n",
       "    </tr>\n",
       "  </thead>\n",
       "  <tbody>\n",
       "    <tr>\n",
       "      <th>0</th>\n",
       "      <td>[go, until, jurong, point, crazy, available, o...</td>\n",
       "      <td>[go, jurong, point, crazy, available, bugis, n...</td>\n",
       "    </tr>\n",
       "    <tr>\n",
       "      <th>1</th>\n",
       "      <td>[ok, lar, joking, wif, u, oni]</td>\n",
       "      <td>[ok, lar, joking, wif, u, oni]</td>\n",
       "    </tr>\n",
       "    <tr>\n",
       "      <th>2</th>\n",
       "      <td>[free, entry, in, a, wkly, comp, to, win, fa, ...</td>\n",
       "      <td>[free, entry, wkly, comp, win, fa, cup, final,...</td>\n",
       "    </tr>\n",
       "    <tr>\n",
       "      <th>3</th>\n",
       "      <td>[u, dun, say, so, early, hor, u, c, already, t...</td>\n",
       "      <td>[u, dun, say, early, hor, u, c, already, say]</td>\n",
       "    </tr>\n",
       "    <tr>\n",
       "      <th>4</th>\n",
       "      <td>[nah, i, don, t, think, he, goes, to, usf, he,...</td>\n",
       "      <td>[nah, think, goes, usf, lives, around, though]</td>\n",
       "    </tr>\n",
       "  </tbody>\n",
       "</table>\n",
       "</div>"
      ],
      "text/plain": [
       "                                       Tokenize_Text  \\\n",
       "0  [go, until, jurong, point, crazy, available, o...   \n",
       "1                     [ok, lar, joking, wif, u, oni]   \n",
       "2  [free, entry, in, a, wkly, comp, to, win, fa, ...   \n",
       "3  [u, dun, say, so, early, hor, u, c, already, t...   \n",
       "4  [nah, i, don, t, think, he, goes, to, usf, he,...   \n",
       "\n",
       "                                     Nostopword_Text  \n",
       "0  [go, jurong, point, crazy, available, bugis, n...  \n",
       "1                     [ok, lar, joking, wif, u, oni]  \n",
       "2  [free, entry, wkly, comp, win, fa, cup, final,...  \n",
       "3      [u, dun, say, early, hor, u, c, already, say]  \n",
       "4     [nah, think, goes, usf, lives, around, though]  "
      ]
     },
     "execution_count": 20,
     "metadata": {},
     "output_type": "execute_result"
    }
   ],
   "source": [
    "data[['Tokenize_Text','Nostopword_Text']].head()"
   ]
  },
  {
   "cell_type": "markdown",
   "id": "5fa49ff7",
   "metadata": {
    "papermill": {
     "duration": 0.021334,
     "end_time": "2024-01-27T16:36:10.198636",
     "exception": false,
     "start_time": "2024-01-27T16:36:10.177302",
     "status": "completed"
    },
    "tags": []
   },
   "source": [
    "## **Stemming & Lemmatization**\n",
    "---\n",
    "Stemming is the process of getting the root form of a word. Stem or root is the part to which inflectional affixes are added. The stem of a word is created by removing the prefix or suffix of a word. It goes back to the etymology of the word. Languages evolve over time. Many different languages branch into each other; for example, English is a derivative of Latin. Thus, stemming a word takes it back to the root word.\n",
    "\n",
    "lemmatization also converts a word to its root form. However, the difference is that lemmatization ensures that the root word belongs to the language one is dealing with, in our case it is English. If we use lemmatization the output would be in English."
   ]
  },
  {
   "cell_type": "code",
   "execution_count": 21,
   "id": "09568c7e",
   "metadata": {
    "execution": {
     "iopub.execute_input": "2024-01-27T16:36:10.245559Z",
     "iopub.status.busy": "2024-01-27T16:36:10.245152Z",
     "iopub.status.idle": "2024-01-27T16:36:10.250325Z",
     "shell.execute_reply": "2024-01-27T16:36:10.249219Z"
    },
    "papermill": {
     "duration": 0.03194,
     "end_time": "2024-01-27T16:36:10.252472",
     "exception": false,
     "start_time": "2024-01-27T16:36:10.220532",
     "status": "completed"
    },
    "tags": []
   },
   "outputs": [],
   "source": [
    "stemmer = nltk.SnowballStemmer(\"english\")\n",
    "\n",
    "def stemm_text(text):\n",
    "    text = [stemmer.stem(word) for word in text]\n",
    "    return text"
   ]
  },
  {
   "cell_type": "code",
   "execution_count": 22,
   "id": "3fd2cf60",
   "metadata": {
    "execution": {
     "iopub.execute_input": "2024-01-27T16:36:10.296374Z",
     "iopub.status.busy": "2024-01-27T16:36:10.295969Z",
     "iopub.status.idle": "2024-01-27T16:36:11.019383Z",
     "shell.execute_reply": "2024-01-27T16:36:11.018175Z"
    },
    "papermill": {
     "duration": 0.748414,
     "end_time": "2024-01-27T16:36:11.021907",
     "exception": false,
     "start_time": "2024-01-27T16:36:10.273493",
     "status": "completed"
    },
    "tags": []
   },
   "outputs": [
    {
     "data": {
      "text/html": [
       "<div>\n",
       "<style scoped>\n",
       "    .dataframe tbody tr th:only-of-type {\n",
       "        vertical-align: middle;\n",
       "    }\n",
       "\n",
       "    .dataframe tbody tr th {\n",
       "        vertical-align: top;\n",
       "    }\n",
       "\n",
       "    .dataframe thead th {\n",
       "        text-align: right;\n",
       "    }\n",
       "</style>\n",
       "<table border=\"1\" class=\"dataframe\">\n",
       "  <thead>\n",
       "    <tr style=\"text-align: right;\">\n",
       "      <th></th>\n",
       "      <th>Target</th>\n",
       "      <th>Text</th>\n",
       "      <th>No_of_Characters</th>\n",
       "      <th>No_of_Words</th>\n",
       "      <th>No_of_sentence</th>\n",
       "      <th>Clean_Text</th>\n",
       "      <th>Tokenize_Text</th>\n",
       "      <th>Nostopword_Text</th>\n",
       "      <th>Stemmed_Text</th>\n",
       "    </tr>\n",
       "  </thead>\n",
       "  <tbody>\n",
       "    <tr>\n",
       "      <th>0</th>\n",
       "      <td>ham</td>\n",
       "      <td>Go until jurong point, crazy.. Available only ...</td>\n",
       "      <td>111</td>\n",
       "      <td>24</td>\n",
       "      <td>2</td>\n",
       "      <td>go until jurong point crazy available only in ...</td>\n",
       "      <td>[go, until, jurong, point, crazy, available, o...</td>\n",
       "      <td>[go, jurong, point, crazy, available, bugis, n...</td>\n",
       "      <td>[go, jurong, point, crazi, avail, bugi, n, gre...</td>\n",
       "    </tr>\n",
       "    <tr>\n",
       "      <th>1</th>\n",
       "      <td>ham</td>\n",
       "      <td>Ok lar... Joking wif u oni...</td>\n",
       "      <td>29</td>\n",
       "      <td>8</td>\n",
       "      <td>2</td>\n",
       "      <td>ok lar joking wif u oni</td>\n",
       "      <td>[ok, lar, joking, wif, u, oni]</td>\n",
       "      <td>[ok, lar, joking, wif, u, oni]</td>\n",
       "      <td>[ok, lar, joke, wif, u, oni]</td>\n",
       "    </tr>\n",
       "    <tr>\n",
       "      <th>2</th>\n",
       "      <td>spam</td>\n",
       "      <td>Free entry in 2 a wkly comp to win FA Cup fina...</td>\n",
       "      <td>155</td>\n",
       "      <td>37</td>\n",
       "      <td>2</td>\n",
       "      <td>free entry in a wkly comp to win fa cup final ...</td>\n",
       "      <td>[free, entry, in, a, wkly, comp, to, win, fa, ...</td>\n",
       "      <td>[free, entry, wkly, comp, win, fa, cup, final,...</td>\n",
       "      <td>[free, entri, wkli, comp, win, fa, cup, final,...</td>\n",
       "    </tr>\n",
       "    <tr>\n",
       "      <th>3</th>\n",
       "      <td>ham</td>\n",
       "      <td>U dun say so early hor... U c already then say...</td>\n",
       "      <td>49</td>\n",
       "      <td>13</td>\n",
       "      <td>1</td>\n",
       "      <td>u dun say so early hor u c already then say</td>\n",
       "      <td>[u, dun, say, so, early, hor, u, c, already, t...</td>\n",
       "      <td>[u, dun, say, early, hor, u, c, already, say]</td>\n",
       "      <td>[u, dun, say, earli, hor, u, c, alreadi, say]</td>\n",
       "    </tr>\n",
       "    <tr>\n",
       "      <th>4</th>\n",
       "      <td>ham</td>\n",
       "      <td>Nah I don't think he goes to usf, he lives aro...</td>\n",
       "      <td>61</td>\n",
       "      <td>15</td>\n",
       "      <td>1</td>\n",
       "      <td>nah i don t think he goes to usf he lives arou...</td>\n",
       "      <td>[nah, i, don, t, think, he, goes, to, usf, he,...</td>\n",
       "      <td>[nah, think, goes, usf, lives, around, though]</td>\n",
       "      <td>[nah, think, goe, usf, live, around, though]</td>\n",
       "    </tr>\n",
       "  </tbody>\n",
       "</table>\n",
       "</div>"
      ],
      "text/plain": [
       "  Target                                               Text  No_of_Characters  \\\n",
       "0    ham  Go until jurong point, crazy.. Available only ...               111   \n",
       "1    ham                      Ok lar... Joking wif u oni...                29   \n",
       "2   spam  Free entry in 2 a wkly comp to win FA Cup fina...               155   \n",
       "3    ham  U dun say so early hor... U c already then say...                49   \n",
       "4    ham  Nah I don't think he goes to usf, he lives aro...                61   \n",
       "\n",
       "   No_of_Words  No_of_sentence  \\\n",
       "0           24               2   \n",
       "1            8               2   \n",
       "2           37               2   \n",
       "3           13               1   \n",
       "4           15               1   \n",
       "\n",
       "                                          Clean_Text  \\\n",
       "0  go until jurong point crazy available only in ...   \n",
       "1                            ok lar joking wif u oni   \n",
       "2  free entry in a wkly comp to win fa cup final ...   \n",
       "3        u dun say so early hor u c already then say   \n",
       "4  nah i don t think he goes to usf he lives arou...   \n",
       "\n",
       "                                       Tokenize_Text  \\\n",
       "0  [go, until, jurong, point, crazy, available, o...   \n",
       "1                     [ok, lar, joking, wif, u, oni]   \n",
       "2  [free, entry, in, a, wkly, comp, to, win, fa, ...   \n",
       "3  [u, dun, say, so, early, hor, u, c, already, t...   \n",
       "4  [nah, i, don, t, think, he, goes, to, usf, he,...   \n",
       "\n",
       "                                     Nostopword_Text  \\\n",
       "0  [go, jurong, point, crazy, available, bugis, n...   \n",
       "1                     [ok, lar, joking, wif, u, oni]   \n",
       "2  [free, entry, wkly, comp, win, fa, cup, final,...   \n",
       "3      [u, dun, say, early, hor, u, c, already, say]   \n",
       "4     [nah, think, goes, usf, lives, around, though]   \n",
       "\n",
       "                                        Stemmed_Text  \n",
       "0  [go, jurong, point, crazi, avail, bugi, n, gre...  \n",
       "1                       [ok, lar, joke, wif, u, oni]  \n",
       "2  [free, entri, wkli, comp, win, fa, cup, final,...  \n",
       "3      [u, dun, say, earli, hor, u, c, alreadi, say]  \n",
       "4       [nah, think, goe, usf, live, around, though]  "
      ]
     },
     "execution_count": 22,
     "metadata": {},
     "output_type": "execute_result"
    }
   ],
   "source": [
    "data.loc[:, 'Stemmed_Text'] = data['Nostopword_Text'].apply(stemm_text).copy()\n",
    "data.head()"
   ]
  },
  {
   "cell_type": "code",
   "execution_count": 23,
   "id": "9af88d01",
   "metadata": {
    "execution": {
     "iopub.execute_input": "2024-01-27T16:36:11.067858Z",
     "iopub.status.busy": "2024-01-27T16:36:11.067485Z",
     "iopub.status.idle": "2024-01-27T16:36:11.074001Z",
     "shell.execute_reply": "2024-01-27T16:36:11.072282Z"
    },
    "papermill": {
     "duration": 0.033007,
     "end_time": "2024-01-27T16:36:11.076739",
     "exception": false,
     "start_time": "2024-01-27T16:36:11.043732",
     "status": "completed"
    },
    "tags": []
   },
   "outputs": [],
   "source": [
    "lemmatizer = WordNetLemmatizer()\n",
    "# lemmatize string\n",
    "def lemmatize_word(text):\n",
    "    #word_tokens = word_tokenize(text)\n",
    "    # provide context i.e. part-of-speech\n",
    "    lemmas = [lemmatizer.lemmatize(word) for word in text]\n",
    "    return lemmas\n",
    "\n",
    "# data.loc[:, \"Lemmatized_Text\"] = data[\"Nostopword_Text\"].apply(lemmatize_word)"
   ]
  },
  {
   "cell_type": "markdown",
   "id": "04496c30",
   "metadata": {
    "papermill": {
     "duration": 0.028756,
     "end_time": "2024-01-27T16:36:11.126983",
     "exception": false,
     "start_time": "2024-01-27T16:36:11.098227",
     "status": "completed"
    },
    "tags": []
   },
   "source": [
    "# **Vectorization**\n",
    "---\n",
    "TF-IDF in NLP stands for Term Frequency – Inverse document frequency. In NLP cleaned data needs to be converted into a numerical format where each word is represented by a matrix. This is also known as word embedding or Word vectorization.\n",
    "\n",
    "Term Frequency (TF) = (Frequency of a term in the document)/(Total number of terms in documents) Inverse Document Frequency(IDF) = log( (total number of documents)/(number of documents with term t)) I will be using TfidfVectorizer() to vectorize the preprocessed data.\n",
    "\n",
    "Steps in the Vectorizing:\n",
    "\n",
    "Creating a corpus of lemmatized text\n",
    "Converting the corpus in vector form\n",
    "Label Encoding the classes in Target"
   ]
  },
  {
   "cell_type": "code",
   "execution_count": 24,
   "id": "e751625b",
   "metadata": {
    "execution": {
     "iopub.execute_input": "2024-01-27T16:36:11.173845Z",
     "iopub.status.busy": "2024-01-27T16:36:11.173435Z",
     "iopub.status.idle": "2024-01-27T16:36:11.191359Z",
     "shell.execute_reply": "2024-01-27T16:36:11.190530Z"
    },
    "papermill": {
     "duration": 0.044822,
     "end_time": "2024-01-27T16:36:11.194097",
     "exception": false,
     "start_time": "2024-01-27T16:36:11.149275",
     "status": "completed"
    },
    "tags": []
   },
   "outputs": [
    {
     "data": {
      "text/plain": [
       "['go jurong point crazi avail bugi n great world la e buffet cine got amor wat',\n",
       " 'ok lar joke wif u oni',\n",
       " 'free entri wkli comp win fa cup final tkts st may text fa receiv entri question std txt rate c appli',\n",
       " 'u dun say earli hor u c alreadi say',\n",
       " 'nah think goe usf live around though']"
      ]
     },
     "execution_count": 24,
     "metadata": {},
     "output_type": "execute_result"
    }
   ],
   "source": [
    "#Creating a corpus of text feature to encode further into vectorized form\n",
    "corpus= []\n",
    "for i in data[\"Stemmed_Text\"]:\n",
    "    msg = ' '.join([row for row in i])\n",
    "    corpus.append(msg)\n",
    "    \n",
    "corpus[:5]"
   ]
  },
  {
   "cell_type": "code",
   "execution_count": 25,
   "id": "5c399e76",
   "metadata": {
    "execution": {
     "iopub.execute_input": "2024-01-27T16:36:11.243146Z",
     "iopub.status.busy": "2024-01-27T16:36:11.242047Z",
     "iopub.status.idle": "2024-01-27T16:36:11.540187Z",
     "shell.execute_reply": "2024-01-27T16:36:11.538797Z"
    },
    "papermill": {
     "duration": 0.324368,
     "end_time": "2024-01-27T16:36:11.543018",
     "exception": false,
     "start_time": "2024-01-27T16:36:11.218650",
     "status": "completed"
    },
    "tags": []
   },
   "outputs": [
    {
     "data": {
      "text/plain": [
       "dtype('float64')"
      ]
     },
     "execution_count": 25,
     "metadata": {},
     "output_type": "execute_result"
    }
   ],
   "source": [
    "#Changing text data in to numbers. \n",
    "tfidf = TfidfVectorizer()\n",
    "X = tfidf.fit_transform(corpus).toarray()\n",
    "#Let's have a look at our feature \n",
    "X.dtype"
   ]
  },
  {
   "cell_type": "code",
   "execution_count": 26,
   "id": "1e769f9f",
   "metadata": {
    "execution": {
     "iopub.execute_input": "2024-01-27T16:36:11.598090Z",
     "iopub.status.busy": "2024-01-27T16:36:11.597296Z",
     "iopub.status.idle": "2024-01-27T16:36:11.606182Z",
     "shell.execute_reply": "2024-01-27T16:36:11.604649Z"
    },
    "papermill": {
     "duration": 0.041533,
     "end_time": "2024-01-27T16:36:11.609897",
     "exception": false,
     "start_time": "2024-01-27T16:36:11.568364",
     "status": "completed"
    },
    "tags": []
   },
   "outputs": [],
   "source": [
    "#Label encode the Target and use it as y\n",
    "label_encoder = LabelEncoder()\n",
    "data.loc[:, \"Target\"] = label_encoder.fit_transform(data[\"Target\"])"
   ]
  },
  {
   "cell_type": "code",
   "execution_count": 27,
   "id": "ef52502f",
   "metadata": {
    "execution": {
     "iopub.execute_input": "2024-01-27T16:36:11.667552Z",
     "iopub.status.busy": "2024-01-27T16:36:11.666834Z",
     "iopub.status.idle": "2024-01-27T16:36:11.687826Z",
     "shell.execute_reply": "2024-01-27T16:36:11.686745Z"
    },
    "papermill": {
     "duration": 0.049371,
     "end_time": "2024-01-27T16:36:11.690525",
     "exception": false,
     "start_time": "2024-01-27T16:36:11.641154",
     "status": "completed"
    },
    "tags": []
   },
   "outputs": [
    {
     "data": {
      "text/html": [
       "<div>\n",
       "<style scoped>\n",
       "    .dataframe tbody tr th:only-of-type {\n",
       "        vertical-align: middle;\n",
       "    }\n",
       "\n",
       "    .dataframe tbody tr th {\n",
       "        vertical-align: top;\n",
       "    }\n",
       "\n",
       "    .dataframe thead th {\n",
       "        text-align: right;\n",
       "    }\n",
       "</style>\n",
       "<table border=\"1\" class=\"dataframe\">\n",
       "  <thead>\n",
       "    <tr style=\"text-align: right;\">\n",
       "      <th></th>\n",
       "      <th>Target</th>\n",
       "      <th>Text</th>\n",
       "      <th>No_of_Characters</th>\n",
       "      <th>No_of_Words</th>\n",
       "      <th>No_of_sentence</th>\n",
       "      <th>Clean_Text</th>\n",
       "      <th>Tokenize_Text</th>\n",
       "      <th>Nostopword_Text</th>\n",
       "      <th>Stemmed_Text</th>\n",
       "    </tr>\n",
       "  </thead>\n",
       "  <tbody>\n",
       "    <tr>\n",
       "      <th>0</th>\n",
       "      <td>0</td>\n",
       "      <td>Go until jurong point, crazy.. Available only ...</td>\n",
       "      <td>111</td>\n",
       "      <td>24</td>\n",
       "      <td>2</td>\n",
       "      <td>go until jurong point crazy available only in ...</td>\n",
       "      <td>[go, until, jurong, point, crazy, available, o...</td>\n",
       "      <td>[go, jurong, point, crazy, available, bugis, n...</td>\n",
       "      <td>[go, jurong, point, crazi, avail, bugi, n, gre...</td>\n",
       "    </tr>\n",
       "    <tr>\n",
       "      <th>1</th>\n",
       "      <td>0</td>\n",
       "      <td>Ok lar... Joking wif u oni...</td>\n",
       "      <td>29</td>\n",
       "      <td>8</td>\n",
       "      <td>2</td>\n",
       "      <td>ok lar joking wif u oni</td>\n",
       "      <td>[ok, lar, joking, wif, u, oni]</td>\n",
       "      <td>[ok, lar, joking, wif, u, oni]</td>\n",
       "      <td>[ok, lar, joke, wif, u, oni]</td>\n",
       "    </tr>\n",
       "    <tr>\n",
       "      <th>2</th>\n",
       "      <td>1</td>\n",
       "      <td>Free entry in 2 a wkly comp to win FA Cup fina...</td>\n",
       "      <td>155</td>\n",
       "      <td>37</td>\n",
       "      <td>2</td>\n",
       "      <td>free entry in a wkly comp to win fa cup final ...</td>\n",
       "      <td>[free, entry, in, a, wkly, comp, to, win, fa, ...</td>\n",
       "      <td>[free, entry, wkly, comp, win, fa, cup, final,...</td>\n",
       "      <td>[free, entri, wkli, comp, win, fa, cup, final,...</td>\n",
       "    </tr>\n",
       "    <tr>\n",
       "      <th>3</th>\n",
       "      <td>0</td>\n",
       "      <td>U dun say so early hor... U c already then say...</td>\n",
       "      <td>49</td>\n",
       "      <td>13</td>\n",
       "      <td>1</td>\n",
       "      <td>u dun say so early hor u c already then say</td>\n",
       "      <td>[u, dun, say, so, early, hor, u, c, already, t...</td>\n",
       "      <td>[u, dun, say, early, hor, u, c, already, say]</td>\n",
       "      <td>[u, dun, say, earli, hor, u, c, alreadi, say]</td>\n",
       "    </tr>\n",
       "    <tr>\n",
       "      <th>4</th>\n",
       "      <td>0</td>\n",
       "      <td>Nah I don't think he goes to usf, he lives aro...</td>\n",
       "      <td>61</td>\n",
       "      <td>15</td>\n",
       "      <td>1</td>\n",
       "      <td>nah i don t think he goes to usf he lives arou...</td>\n",
       "      <td>[nah, i, don, t, think, he, goes, to, usf, he,...</td>\n",
       "      <td>[nah, think, goes, usf, lives, around, though]</td>\n",
       "      <td>[nah, think, goe, usf, live, around, though]</td>\n",
       "    </tr>\n",
       "  </tbody>\n",
       "</table>\n",
       "</div>"
      ],
      "text/plain": [
       "  Target                                               Text  No_of_Characters  \\\n",
       "0      0  Go until jurong point, crazy.. Available only ...               111   \n",
       "1      0                      Ok lar... Joking wif u oni...                29   \n",
       "2      1  Free entry in 2 a wkly comp to win FA Cup fina...               155   \n",
       "3      0  U dun say so early hor... U c already then say...                49   \n",
       "4      0  Nah I don't think he goes to usf, he lives aro...                61   \n",
       "\n",
       "   No_of_Words  No_of_sentence  \\\n",
       "0           24               2   \n",
       "1            8               2   \n",
       "2           37               2   \n",
       "3           13               1   \n",
       "4           15               1   \n",
       "\n",
       "                                          Clean_Text  \\\n",
       "0  go until jurong point crazy available only in ...   \n",
       "1                            ok lar joking wif u oni   \n",
       "2  free entry in a wkly comp to win fa cup final ...   \n",
       "3        u dun say so early hor u c already then say   \n",
       "4  nah i don t think he goes to usf he lives arou...   \n",
       "\n",
       "                                       Tokenize_Text  \\\n",
       "0  [go, until, jurong, point, crazy, available, o...   \n",
       "1                     [ok, lar, joking, wif, u, oni]   \n",
       "2  [free, entry, in, a, wkly, comp, to, win, fa, ...   \n",
       "3  [u, dun, say, so, early, hor, u, c, already, t...   \n",
       "4  [nah, i, don, t, think, he, goes, to, usf, he,...   \n",
       "\n",
       "                                     Nostopword_Text  \\\n",
       "0  [go, jurong, point, crazy, available, bugis, n...   \n",
       "1                     [ok, lar, joking, wif, u, oni]   \n",
       "2  [free, entry, wkly, comp, win, fa, cup, final,...   \n",
       "3      [u, dun, say, early, hor, u, c, already, say]   \n",
       "4     [nah, think, goes, usf, lives, around, though]   \n",
       "\n",
       "                                        Stemmed_Text  \n",
       "0  [go, jurong, point, crazi, avail, bugi, n, gre...  \n",
       "1                       [ok, lar, joke, wif, u, oni]  \n",
       "2  [free, entri, wkli, comp, win, fa, cup, final,...  \n",
       "3      [u, dun, say, earli, hor, u, c, alreadi, say]  \n",
       "4       [nah, think, goe, usf, live, around, though]  "
      ]
     },
     "execution_count": 27,
     "metadata": {},
     "output_type": "execute_result"
    }
   ],
   "source": [
    "data.head()"
   ]
  },
  {
   "cell_type": "markdown",
   "id": "c8f90ae4",
   "metadata": {
    "papermill": {
     "duration": 0.021458,
     "end_time": "2024-01-27T16:36:11.735095",
     "exception": false,
     "start_time": "2024-01-27T16:36:11.713637",
     "status": "completed"
    },
    "tags": []
   },
   "source": [
    "# **Build the Model**\n",
    "---\n",
    "Steps involved in the Model Building\n",
    "\n",
    "* Setting up features and target as X and y\n",
    "* Splitting the testing and training sets\n",
    "* Build a pipeline of model for four different classifiers.\n",
    "    * Naïve Bayes\n",
    "    * RandomForestClassifier\n",
    "    * KNeighborsClassifier\n",
    "    * Support Vector Machines\n",
    "* Fit all the models on training data\n",
    "* Get the cross-validation on the training set for all the models for accuracy"
   ]
  },
  {
   "cell_type": "code",
   "execution_count": 28,
   "id": "96e00251",
   "metadata": {
    "execution": {
     "iopub.execute_input": "2024-01-27T16:36:11.780878Z",
     "iopub.status.busy": "2024-01-27T16:36:11.780105Z",
     "iopub.status.idle": "2024-01-27T16:36:11.963924Z",
     "shell.execute_reply": "2024-01-27T16:36:11.962959Z"
    },
    "papermill": {
     "duration": 0.209729,
     "end_time": "2024-01-27T16:36:11.966576",
     "exception": false,
     "start_time": "2024-01-27T16:36:11.756847",
     "status": "completed"
    },
    "tags": []
   },
   "outputs": [],
   "source": [
    "#Setting values for labels and feature as y and X(we already did X in vectorizing...)\n",
    "y = data[\"Target\"].astype(int)\n",
    "# Splitting the testing and training sets\n",
    "X_train, X_test, y_train, y_test = train_test_split(X, y, test_size=0.2, random_state=42)"
   ]
  },
  {
   "cell_type": "code",
   "execution_count": 29,
   "id": "428aca73",
   "metadata": {
    "execution": {
     "iopub.execute_input": "2024-01-27T16:36:12.011908Z",
     "iopub.status.busy": "2024-01-27T16:36:12.011560Z",
     "iopub.status.idle": "2024-01-27T16:37:17.041549Z",
     "shell.execute_reply": "2024-01-27T16:37:17.040321Z"
    },
    "papermill": {
     "duration": 65.056425,
     "end_time": "2024-01-27T16:37:17.044899",
     "exception": false,
     "start_time": "2024-01-27T16:36:11.988474",
     "status": "completed"
    },
    "tags": []
   },
   "outputs": [],
   "source": [
    "#Testing on the following classifiers\n",
    "classifiers = [MultinomialNB(), \n",
    "               RandomForestClassifier(),\n",
    "               KNeighborsClassifier(), \n",
    "               SVC()]\n",
    "\n",
    "for cls in classifiers:\n",
    "    cls.fit(X_train, y_train)\n",
    "\n",
    "# Dictionary of pipelines and model types for ease of reference\n",
    "pipe_dict = {0: \"NaiveBayes\", 1: \"RandomForest\", 2: \"KNeighbours\",3: \"SVC\"}"
   ]
  },
  {
   "cell_type": "code",
   "execution_count": 30,
   "id": "68e64d80",
   "metadata": {
    "execution": {
     "iopub.execute_input": "2024-01-27T16:37:17.093153Z",
     "iopub.status.busy": "2024-01-27T16:37:17.092736Z",
     "iopub.status.idle": "2024-01-27T16:47:28.077423Z",
     "shell.execute_reply": "2024-01-27T16:47:28.075782Z"
    },
    "papermill": {
     "duration": 611.035108,
     "end_time": "2024-01-27T16:47:28.102800",
     "exception": false,
     "start_time": "2024-01-27T16:37:17.067692",
     "status": "completed"
    },
    "tags": []
   },
   "outputs": [
    {
     "name": "stdout",
     "output_type": "stream",
     "text": [
      "NaiveBayes: 0.968227 \n",
      "RandomForest: 0.974987 \n",
      "KNeighbours: 0.912127 \n",
      "SVC: 0.974538 \n"
     ]
    }
   ],
   "source": [
    "# Cossvalidation \n",
    "for i, model in enumerate(classifiers):\n",
    "    cv_score = cross_val_score(model, X_train,y_train,scoring=\"accuracy\", cv=10)\n",
    "    print(\"%s: %f \" % (pipe_dict[i], cv_score.mean()))"
   ]
  },
  {
   "cell_type": "markdown",
   "id": "ced564fa",
   "metadata": {
    "papermill": {
     "duration": 0.022278,
     "end_time": "2024-01-27T16:47:28.147473",
     "exception": false,
     "start_time": "2024-01-27T16:47:28.125195",
     "status": "completed"
    },
    "tags": []
   },
   "source": [
    "# **Model Evaluation**\n",
    "---"
   ]
  },
  {
   "cell_type": "code",
   "execution_count": 31,
   "id": "68b0f75d",
   "metadata": {
    "execution": {
     "iopub.execute_input": "2024-01-27T16:47:28.196056Z",
     "iopub.status.busy": "2024-01-27T16:47:28.195044Z",
     "iopub.status.idle": "2024-01-27T16:54:09.828988Z",
     "shell.execute_reply": "2024-01-27T16:54:09.827626Z"
    },
    "papermill": {
     "duration": 401.66182,
     "end_time": "2024-01-27T16:54:09.832262",
     "exception": false,
     "start_time": "2024-01-27T16:47:28.170442",
     "status": "completed"
    },
    "tags": []
   },
   "outputs": [],
   "source": [
    "# Model Evaluation\n",
    "# creating lists of varios scores\n",
    "precision =[]\n",
    "recall =[]\n",
    "f1_score = []\n",
    "trainset_accuracy = []\n",
    "testset_accuracy = []\n",
    "\n",
    "for i in classifiers:\n",
    "    pred_train = i.predict(X_train)\n",
    "    pred_test = i.predict(X_test)\n",
    "    prec = metrics.precision_score(y_test, pred_test)\n",
    "    recal = metrics.recall_score(y_test, pred_test)\n",
    "    f1_s = metrics.f1_score(y_test, pred_test)\n",
    "    train_accuracy = model.score(X_train,y_train)\n",
    "    test_accuracy = model.score(X_test,y_test)\n",
    "  \n",
    "    #Appending scores\n",
    "    precision.append(prec)\n",
    "    recall.append(recal)\n",
    "    f1_score.append(f1_s)\n",
    "    trainset_accuracy.append(train_accuracy)\n",
    "    testset_accuracy.append(test_accuracy)"
   ]
  },
  {
   "cell_type": "code",
   "execution_count": 32,
   "id": "b6abbd69",
   "metadata": {
    "execution": {
     "iopub.execute_input": "2024-01-27T16:54:09.883887Z",
     "iopub.status.busy": "2024-01-27T16:54:09.883509Z",
     "iopub.status.idle": "2024-01-27T16:54:09.890482Z",
     "shell.execute_reply": "2024-01-27T16:54:09.889293Z"
    },
    "papermill": {
     "duration": 0.035448,
     "end_time": "2024-01-27T16:54:09.893270",
     "exception": false,
     "start_time": "2024-01-27T16:54:09.857822",
     "status": "completed"
    },
    "tags": []
   },
   "outputs": [],
   "source": [
    "# initialise data of lists.\n",
    "data = {'Precision':precision,\n",
    "'Recall':recall,\n",
    "'F1score':f1_score,\n",
    "'Accuracy on Testset':testset_accuracy,\n",
    "'Accuracy on Trainset':trainset_accuracy}\n",
    "# Creates pandas DataFrame.\n",
    "Results = pd.DataFrame(data, index =[\"NaiveBayes\", \"RandomForest\", \"KNeighbours\",\"SVC\"])"
   ]
  },
  {
   "cell_type": "code",
   "execution_count": 33,
   "id": "61d9a114",
   "metadata": {
    "execution": {
     "iopub.execute_input": "2024-01-27T16:54:09.942238Z",
     "iopub.status.busy": "2024-01-27T16:54:09.941536Z",
     "iopub.status.idle": "2024-01-27T16:54:10.038529Z",
     "shell.execute_reply": "2024-01-27T16:54:10.037714Z"
    },
    "papermill": {
     "duration": 0.123297,
     "end_time": "2024-01-27T16:54:10.040757",
     "exception": false,
     "start_time": "2024-01-27T16:54:09.917460",
     "status": "completed"
    },
    "tags": []
   },
   "outputs": [
    {
     "data": {
      "text/html": [
       "<style type=\"text/css\">\n",
       "#T_617f2_row0_col0, #T_617f2_row0_col1, #T_617f2_row0_col2, #T_617f2_row1_col0, #T_617f2_row1_col1, #T_617f2_row1_col2, #T_617f2_row3_col0, #T_617f2_row3_col1, #T_617f2_row3_col2 {\n",
       "  background-color: #e598d8;\n",
       "  color: #000000;\n",
       "}\n",
       "#T_617f2_row0_col3, #T_617f2_row0_col4, #T_617f2_row1_col3, #T_617f2_row1_col4, #T_617f2_row2_col0, #T_617f2_row2_col1, #T_617f2_row2_col2, #T_617f2_row2_col3, #T_617f2_row2_col4, #T_617f2_row3_col3, #T_617f2_row3_col4 {\n",
       "  background-color: #e2ccff;\n",
       "  color: #000000;\n",
       "}\n",
       "</style>\n",
       "<table id=\"T_617f2\">\n",
       "  <thead>\n",
       "    <tr>\n",
       "      <th class=\"blank level0\" >&nbsp;</th>\n",
       "      <th id=\"T_617f2_level0_col0\" class=\"col_heading level0 col0\" >Precision</th>\n",
       "      <th id=\"T_617f2_level0_col1\" class=\"col_heading level0 col1\" >Recall</th>\n",
       "      <th id=\"T_617f2_level0_col2\" class=\"col_heading level0 col2\" >F1score</th>\n",
       "      <th id=\"T_617f2_level0_col3\" class=\"col_heading level0 col3\" >Accuracy on Testset</th>\n",
       "      <th id=\"T_617f2_level0_col4\" class=\"col_heading level0 col4\" >Accuracy on Trainset</th>\n",
       "    </tr>\n",
       "  </thead>\n",
       "  <tbody>\n",
       "    <tr>\n",
       "      <th id=\"T_617f2_level0_row0\" class=\"row_heading level0 row0\" >NaiveBayes</th>\n",
       "      <td id=\"T_617f2_row0_col0\" class=\"data row0 col0\" >1.000000</td>\n",
       "      <td id=\"T_617f2_row0_col1\" class=\"data row0 col1\" >0.705882</td>\n",
       "      <td id=\"T_617f2_row0_col2\" class=\"data row0 col2\" >0.827586</td>\n",
       "      <td id=\"T_617f2_row0_col3\" class=\"data row0 col3\" >0.976577</td>\n",
       "      <td id=\"T_617f2_row0_col4\" class=\"data row0 col4\" >0.997521</td>\n",
       "    </tr>\n",
       "    <tr>\n",
       "      <th id=\"T_617f2_level0_row1\" class=\"row_heading level0 row1\" >RandomForest</th>\n",
       "      <td id=\"T_617f2_row1_col0\" class=\"data row1 col0\" >1.000000</td>\n",
       "      <td id=\"T_617f2_row1_col1\" class=\"data row1 col1\" >0.830882</td>\n",
       "      <td id=\"T_617f2_row1_col2\" class=\"data row1 col2\" >0.907631</td>\n",
       "      <td id=\"T_617f2_row1_col3\" class=\"data row1 col3\" >0.976577</td>\n",
       "      <td id=\"T_617f2_row1_col4\" class=\"data row1 col4\" >0.997521</td>\n",
       "    </tr>\n",
       "    <tr>\n",
       "      <th id=\"T_617f2_level0_row2\" class=\"row_heading level0 row2\" >KNeighbours</th>\n",
       "      <td id=\"T_617f2_row2_col0\" class=\"data row2 col0\" >0.977778</td>\n",
       "      <td id=\"T_617f2_row2_col1\" class=\"data row2 col1\" >0.323529</td>\n",
       "      <td id=\"T_617f2_row2_col2\" class=\"data row2 col2\" >0.486188</td>\n",
       "      <td id=\"T_617f2_row2_col3\" class=\"data row2 col3\" >0.976577</td>\n",
       "      <td id=\"T_617f2_row2_col4\" class=\"data row2 col4\" >0.997521</td>\n",
       "    </tr>\n",
       "    <tr>\n",
       "      <th id=\"T_617f2_level0_row3\" class=\"row_heading level0 row3\" >SVC</th>\n",
       "      <td id=\"T_617f2_row3_col0\" class=\"data row3 col0\" >0.991071</td>\n",
       "      <td id=\"T_617f2_row3_col1\" class=\"data row3 col1\" >0.816176</td>\n",
       "      <td id=\"T_617f2_row3_col2\" class=\"data row3 col2\" >0.895161</td>\n",
       "      <td id=\"T_617f2_row3_col3\" class=\"data row3 col3\" >0.976577</td>\n",
       "      <td id=\"T_617f2_row3_col4\" class=\"data row3 col4\" >0.997521</td>\n",
       "    </tr>\n",
       "  </tbody>\n",
       "</table>\n"
      ],
      "text/plain": [
       "<pandas.io.formats.style.Styler at 0x7b2b9d202080>"
      ]
     },
     "execution_count": 33,
     "metadata": {},
     "output_type": "execute_result"
    }
   ],
   "source": [
    "cmap2 = ListedColormap([\"#E2CCFF\",\"#E598D8\"])\n",
    "Results.style.background_gradient(cmap=cmap2)"
   ]
  },
  {
   "cell_type": "code",
   "execution_count": 34,
   "id": "fb5cb110",
   "metadata": {
    "execution": {
     "iopub.execute_input": "2024-01-27T16:54:10.090231Z",
     "iopub.status.busy": "2024-01-27T16:54:10.089336Z",
     "iopub.status.idle": "2024-01-27T16:54:28.729852Z",
     "shell.execute_reply": "2024-01-27T16:54:28.728718Z"
    },
    "papermill": {
     "duration": 18.66752,
     "end_time": "2024-01-27T16:54:28.732535",
     "exception": false,
     "start_time": "2024-01-27T16:54:10.065015",
     "status": "completed"
    },
    "tags": []
   },
   "outputs": [
    {
     "data": {
      "image/png": "[encoded data removed]",
      "text/plain": [
       "<Figure size 1500x1000 with 8 Axes>"
      ]
     },
     "metadata": {},
     "output_type": "display_data"
    }
   ],
   "source": [
    "fig, axes = plt.subplots(nrows=2, ncols=2, figsize=(15, 10))\n",
    "\n",
    "for cls, ax in zip(classifiers, axes.flatten()):\n",
    "    y_pred = cls.predict(X_test)\n",
    "    cm = confusion_matrix(y_test, y_pred)\n",
    "    sns.heatmap(cm, annot=True, fmt=\"d\", ax=ax)\n",
    "    ax.set_title(type(cls).__name__)\n",
    "\n",
    "plt.tight_layout()\n",
    "plt.show()"
   ]
  },
  {
   "cell_type": "code",
   "execution_count": 35,
   "id": "e9d77d84",
   "metadata": {
    "execution": {
     "iopub.execute_input": "2024-01-27T16:54:28.785483Z",
     "iopub.status.busy": "2024-01-27T16:54:28.784645Z",
     "iopub.status.idle": "2024-01-27T16:54:28.794815Z",
     "shell.execute_reply": "2024-01-27T16:54:28.793853Z"
    },
    "papermill": {
     "duration": 0.040212,
     "end_time": "2024-01-27T16:54:28.797219",
     "exception": false,
     "start_time": "2024-01-27T16:54:28.757007",
     "status": "completed"
    },
    "tags": []
   },
   "outputs": [],
   "source": [
    "# Initialize a list to store the results\n",
    "predictions_results = []\n",
    "\n",
    "# Loop through each model\n",
    "for i, model in enumerate(classifiers):\n",
    "    # Predict labels for both training and testing sets\n",
    "#     pred_train = model.predict(X_train)\n",
    "#     pred_test = model.predict(X_test)\n",
    "    \n",
    "    # Check if the prediction is correct\n",
    "    correct_train = (pred_train == y_train).tolist()\n",
    "    correct_test = (pred_test == y_test).tolist()\n",
    "    \n",
    "    # Append the results to the list\n",
    "    predictions_results.append({\n",
    "        'Model': pipe_dict[i],\n",
    "        'Train Predictions': pred_train,\n",
    "        'Train Correct': correct_train,\n",
    "        'Test Predictions': pred_test,\n",
    "        'Test Correct': correct_test\n",
    "    })\n",
    "\n",
    "# Create a DataFrame from the results list\n",
    "predictions_df = pd.DataFrame(predictions_results)"
   ]
  },
  {
   "cell_type": "code",
   "execution_count": 36,
   "id": "a18f5535",
   "metadata": {
    "execution": {
     "iopub.execute_input": "2024-01-27T16:54:28.846675Z",
     "iopub.status.busy": "2024-01-27T16:54:28.846306Z",
     "iopub.status.idle": "2024-01-27T16:54:28.875433Z",
     "shell.execute_reply": "2024-01-27T16:54:28.873962Z"
    },
    "papermill": {
     "duration": 0.057103,
     "end_time": "2024-01-27T16:54:28.877627",
     "exception": false,
     "start_time": "2024-01-27T16:54:28.820524",
     "status": "completed"
    },
    "tags": []
   },
   "outputs": [
    {
     "data": {
      "text/html": [
       "<div>\n",
       "<style scoped>\n",
       "    .dataframe tbody tr th:only-of-type {\n",
       "        vertical-align: middle;\n",
       "    }\n",
       "\n",
       "    .dataframe tbody tr th {\n",
       "        vertical-align: top;\n",
       "    }\n",
       "\n",
       "    .dataframe thead th {\n",
       "        text-align: right;\n",
       "    }\n",
       "</style>\n",
       "<table border=\"1\" class=\"dataframe\">\n",
       "  <thead>\n",
       "    <tr style=\"text-align: right;\">\n",
       "      <th></th>\n",
       "      <th>Model</th>\n",
       "      <th>Train Predictions</th>\n",
       "      <th>Train Correct</th>\n",
       "      <th>Test Predictions</th>\n",
       "      <th>Test Correct</th>\n",
       "    </tr>\n",
       "  </thead>\n",
       "  <tbody>\n",
       "    <tr>\n",
       "      <th>0</th>\n",
       "      <td>NaiveBayes</td>\n",
       "      <td>[0, 0, 0, 0, 1, 0, 0, 0, 1, 0, 0, 0, 0, 0, 0, ...</td>\n",
       "      <td>[True, True, True, True, True, True, True, Tru...</td>\n",
       "      <td>[0, 0, 0, 0, 0, 0, 0, 0, 0, 0, 0, 0, 0, 0, 0, ...</td>\n",
       "      <td>[True, True, True, True, True, True, True, Tru...</td>\n",
       "    </tr>\n",
       "    <tr>\n",
       "      <th>1</th>\n",
       "      <td>RandomForest</td>\n",
       "      <td>[0, 0, 0, 0, 1, 0, 0, 0, 1, 0, 0, 0, 0, 0, 0, ...</td>\n",
       "      <td>[True, True, True, True, True, True, True, Tru...</td>\n",
       "      <td>[0, 0, 0, 0, 0, 0, 0, 0, 0, 0, 0, 0, 0, 0, 0, ...</td>\n",
       "      <td>[True, True, True, True, True, True, True, Tru...</td>\n",
       "    </tr>\n",
       "    <tr>\n",
       "      <th>2</th>\n",
       "      <td>KNeighbours</td>\n",
       "      <td>[0, 0, 0, 0, 1, 0, 0, 0, 1, 0, 0, 0, 0, 0, 0, ...</td>\n",
       "      <td>[True, True, True, True, True, True, True, Tru...</td>\n",
       "      <td>[0, 0, 0, 0, 0, 0, 0, 0, 0, 0, 0, 0, 0, 0, 0, ...</td>\n",
       "      <td>[True, True, True, True, True, True, True, Tru...</td>\n",
       "    </tr>\n",
       "    <tr>\n",
       "      <th>3</th>\n",
       "      <td>SVC</td>\n",
       "      <td>[0, 0, 0, 0, 1, 0, 0, 0, 1, 0, 0, 0, 0, 0, 0, ...</td>\n",
       "      <td>[True, True, True, True, True, True, True, Tru...</td>\n",
       "      <td>[0, 0, 0, 0, 0, 0, 0, 0, 0, 0, 0, 0, 0, 0, 0, ...</td>\n",
       "      <td>[True, True, True, True, True, True, True, Tru...</td>\n",
       "    </tr>\n",
       "  </tbody>\n",
       "</table>\n",
       "</div>"
      ],
      "text/plain": [
       "          Model                                  Train Predictions  \\\n",
       "0    NaiveBayes  [0, 0, 0, 0, 1, 0, 0, 0, 1, 0, 0, 0, 0, 0, 0, ...   \n",
       "1  RandomForest  [0, 0, 0, 0, 1, 0, 0, 0, 1, 0, 0, 0, 0, 0, 0, ...   \n",
       "2   KNeighbours  [0, 0, 0, 0, 1, 0, 0, 0, 1, 0, 0, 0, 0, 0, 0, ...   \n",
       "3           SVC  [0, 0, 0, 0, 1, 0, 0, 0, 1, 0, 0, 0, 0, 0, 0, ...   \n",
       "\n",
       "                                       Train Correct  \\\n",
       "0  [True, True, True, True, True, True, True, Tru...   \n",
       "1  [True, True, True, True, True, True, True, Tru...   \n",
       "2  [True, True, True, True, True, True, True, Tru...   \n",
       "3  [True, True, True, True, True, True, True, Tru...   \n",
       "\n",
       "                                    Test Predictions  \\\n",
       "0  [0, 0, 0, 0, 0, 0, 0, 0, 0, 0, 0, 0, 0, 0, 0, ...   \n",
       "1  [0, 0, 0, 0, 0, 0, 0, 0, 0, 0, 0, 0, 0, 0, 0, ...   \n",
       "2  [0, 0, 0, 0, 0, 0, 0, 0, 0, 0, 0, 0, 0, 0, 0, ...   \n",
       "3  [0, 0, 0, 0, 0, 0, 0, 0, 0, 0, 0, 0, 0, 0, 0, ...   \n",
       "\n",
       "                                        Test Correct  \n",
       "0  [True, True, True, True, True, True, True, Tru...  \n",
       "1  [True, True, True, True, True, True, True, Tru...  \n",
       "2  [True, True, True, True, True, True, True, Tru...  \n",
       "3  [True, True, True, True, True, True, True, Tru...  "
      ]
     },
     "execution_count": 36,
     "metadata": {},
     "output_type": "execute_result"
    }
   ],
   "source": [
    "predictions_df"
   ]
  },
  {
   "cell_type": "code",
   "execution_count": 37,
   "id": "fd55437f",
   "metadata": {
    "execution": {
     "iopub.execute_input": "2024-01-27T16:54:28.929115Z",
     "iopub.status.busy": "2024-01-27T16:54:28.928513Z",
     "iopub.status.idle": "2024-01-27T16:54:28.940027Z",
     "shell.execute_reply": "2024-01-27T16:54:28.938912Z"
    },
    "papermill": {
     "duration": 0.040225,
     "end_time": "2024-01-27T16:54:28.942681",
     "exception": false,
     "start_time": "2024-01-27T16:54:28.902456",
     "status": "completed"
    },
    "tags": []
   },
   "outputs": [
    {
     "name": "stdout",
     "output_type": "stream",
     "text": [
      "      Actual Test  Test Predictions  Test Result\n",
      "0               0                 0         True\n",
      "1               0                 0         True\n",
      "2               0                 0         True\n",
      "3               0                 0         True\n",
      "4               0                 0         True\n",
      "...           ...               ...          ...\n",
      "1105            0                 0         True\n",
      "1106            0                 0         True\n",
      "1107            1                 1         True\n",
      "1108            0                 0         True\n",
      "1109            0                 0         True\n",
      "\n",
      "[1110 rows x 3 columns]\n"
     ]
    }
   ],
   "source": [
    "# Filter the DataFrame for Naive Bayes model\n",
    "naive_bayes_results = predictions_df[predictions_df['Model'] == 'NaiveBayes'].iloc[0]\n",
    "\n",
    "# Create a new DataFrame for Naive Bayes results\n",
    "naive_bayes_df = pd.DataFrame({\n",
    "    'Actual Test': y_test.tolist(),\n",
    "    'Test Predictions': naive_bayes_results['Test Predictions'],\n",
    "    'Test Result': naive_bayes_results['Test Correct']\n",
    "})\n",
    "\n",
    "# Display the Naive Bayes DataFrame\n",
    "print(naive_bayes_df)"
   ]
  },
  {
   "cell_type": "code",
   "execution_count": 38,
   "id": "6af426ea",
   "metadata": {
    "execution": {
     "iopub.execute_input": "2024-01-27T16:54:28.992114Z",
     "iopub.status.busy": "2024-01-27T16:54:28.991729Z",
     "iopub.status.idle": "2024-01-27T16:54:29.005891Z",
     "shell.execute_reply": "2024-01-27T16:54:29.004523Z"
    },
    "papermill": {
     "duration": 0.04243,
     "end_time": "2024-01-27T16:54:29.008275",
     "exception": false,
     "start_time": "2024-01-27T16:54:28.965845",
     "status": "completed"
    },
    "tags": []
   },
   "outputs": [
    {
     "data": {
      "text/html": [
       "<div>\n",
       "<style scoped>\n",
       "    .dataframe tbody tr th:only-of-type {\n",
       "        vertical-align: middle;\n",
       "    }\n",
       "\n",
       "    .dataframe tbody tr th {\n",
       "        vertical-align: top;\n",
       "    }\n",
       "\n",
       "    .dataframe thead th {\n",
       "        text-align: right;\n",
       "    }\n",
       "</style>\n",
       "<table border=\"1\" class=\"dataframe\">\n",
       "  <thead>\n",
       "    <tr style=\"text-align: right;\">\n",
       "      <th></th>\n",
       "      <th>Actual Test</th>\n",
       "      <th>Test Predictions</th>\n",
       "      <th>Test Result</th>\n",
       "    </tr>\n",
       "  </thead>\n",
       "  <tbody>\n",
       "    <tr>\n",
       "      <th>171</th>\n",
       "      <td>1</td>\n",
       "      <td>0</td>\n",
       "      <td>False</td>\n",
       "    </tr>\n",
       "    <tr>\n",
       "      <th>205</th>\n",
       "      <td>1</td>\n",
       "      <td>0</td>\n",
       "      <td>False</td>\n",
       "    </tr>\n",
       "    <tr>\n",
       "      <th>240</th>\n",
       "      <td>1</td>\n",
       "      <td>0</td>\n",
       "      <td>False</td>\n",
       "    </tr>\n",
       "    <tr>\n",
       "      <th>307</th>\n",
       "      <td>1</td>\n",
       "      <td>0</td>\n",
       "      <td>False</td>\n",
       "    </tr>\n",
       "    <tr>\n",
       "      <th>324</th>\n",
       "      <td>1</td>\n",
       "      <td>0</td>\n",
       "      <td>False</td>\n",
       "    </tr>\n",
       "    <tr>\n",
       "      <th>326</th>\n",
       "      <td>1</td>\n",
       "      <td>0</td>\n",
       "      <td>False</td>\n",
       "    </tr>\n",
       "    <tr>\n",
       "      <th>373</th>\n",
       "      <td>1</td>\n",
       "      <td>0</td>\n",
       "      <td>False</td>\n",
       "    </tr>\n",
       "    <tr>\n",
       "      <th>394</th>\n",
       "      <td>1</td>\n",
       "      <td>0</td>\n",
       "      <td>False</td>\n",
       "    </tr>\n",
       "    <tr>\n",
       "      <th>432</th>\n",
       "      <td>1</td>\n",
       "      <td>0</td>\n",
       "      <td>False</td>\n",
       "    </tr>\n",
       "    <tr>\n",
       "      <th>578</th>\n",
       "      <td>1</td>\n",
       "      <td>0</td>\n",
       "      <td>False</td>\n",
       "    </tr>\n",
       "    <tr>\n",
       "      <th>647</th>\n",
       "      <td>1</td>\n",
       "      <td>0</td>\n",
       "      <td>False</td>\n",
       "    </tr>\n",
       "    <tr>\n",
       "      <th>659</th>\n",
       "      <td>1</td>\n",
       "      <td>0</td>\n",
       "      <td>False</td>\n",
       "    </tr>\n",
       "    <tr>\n",
       "      <th>663</th>\n",
       "      <td>1</td>\n",
       "      <td>0</td>\n",
       "      <td>False</td>\n",
       "    </tr>\n",
       "    <tr>\n",
       "      <th>734</th>\n",
       "      <td>1</td>\n",
       "      <td>0</td>\n",
       "      <td>False</td>\n",
       "    </tr>\n",
       "    <tr>\n",
       "      <th>829</th>\n",
       "      <td>1</td>\n",
       "      <td>0</td>\n",
       "      <td>False</td>\n",
       "    </tr>\n",
       "    <tr>\n",
       "      <th>867</th>\n",
       "      <td>1</td>\n",
       "      <td>0</td>\n",
       "      <td>False</td>\n",
       "    </tr>\n",
       "    <tr>\n",
       "      <th>893</th>\n",
       "      <td>1</td>\n",
       "      <td>0</td>\n",
       "      <td>False</td>\n",
       "    </tr>\n",
       "    <tr>\n",
       "      <th>898</th>\n",
       "      <td>1</td>\n",
       "      <td>0</td>\n",
       "      <td>False</td>\n",
       "    </tr>\n",
       "    <tr>\n",
       "      <th>962</th>\n",
       "      <td>0</td>\n",
       "      <td>1</td>\n",
       "      <td>False</td>\n",
       "    </tr>\n",
       "    <tr>\n",
       "      <th>978</th>\n",
       "      <td>1</td>\n",
       "      <td>0</td>\n",
       "      <td>False</td>\n",
       "    </tr>\n",
       "    <tr>\n",
       "      <th>997</th>\n",
       "      <td>1</td>\n",
       "      <td>0</td>\n",
       "      <td>False</td>\n",
       "    </tr>\n",
       "    <tr>\n",
       "      <th>1006</th>\n",
       "      <td>1</td>\n",
       "      <td>0</td>\n",
       "      <td>False</td>\n",
       "    </tr>\n",
       "    <tr>\n",
       "      <th>1039</th>\n",
       "      <td>1</td>\n",
       "      <td>0</td>\n",
       "      <td>False</td>\n",
       "    </tr>\n",
       "    <tr>\n",
       "      <th>1071</th>\n",
       "      <td>1</td>\n",
       "      <td>0</td>\n",
       "      <td>False</td>\n",
       "    </tr>\n",
       "    <tr>\n",
       "      <th>1081</th>\n",
       "      <td>1</td>\n",
       "      <td>0</td>\n",
       "      <td>False</td>\n",
       "    </tr>\n",
       "    <tr>\n",
       "      <th>1087</th>\n",
       "      <td>1</td>\n",
       "      <td>0</td>\n",
       "      <td>False</td>\n",
       "    </tr>\n",
       "  </tbody>\n",
       "</table>\n",
       "</div>"
      ],
      "text/plain": [
       "      Actual Test  Test Predictions  Test Result\n",
       "171             1                 0        False\n",
       "205             1                 0        False\n",
       "240             1                 0        False\n",
       "307             1                 0        False\n",
       "324             1                 0        False\n",
       "326             1                 0        False\n",
       "373             1                 0        False\n",
       "394             1                 0        False\n",
       "432             1                 0        False\n",
       "578             1                 0        False\n",
       "647             1                 0        False\n",
       "659             1                 0        False\n",
       "663             1                 0        False\n",
       "734             1                 0        False\n",
       "829             1                 0        False\n",
       "867             1                 0        False\n",
       "893             1                 0        False\n",
       "898             1                 0        False\n",
       "962             0                 1        False\n",
       "978             1                 0        False\n",
       "997             1                 0        False\n",
       "1006            1                 0        False\n",
       "1039            1                 0        False\n",
       "1071            1                 0        False\n",
       "1081            1                 0        False\n",
       "1087            1                 0        False"
      ]
     },
     "execution_count": 38,
     "metadata": {},
     "output_type": "execute_result"
    }
   ],
   "source": [
    "incorrect_predictions_df = naive_bayes_df[naive_bayes_df['Test Result'] == False]\n",
    "\n",
    "incorrect_predictions_df"
   ]
  },
  {
   "cell_type": "markdown",
   "id": "7f1c48a1",
   "metadata": {
    "papermill": {
     "duration": 0.023964,
     "end_time": "2024-01-27T16:54:29.055546",
     "exception": false,
     "start_time": "2024-01-27T16:54:29.031582",
     "status": "completed"
    },
    "tags": []
   },
   "source": [
    "# **References**\n",
    "---\n",
    "* https://www.kaggle.com/code/karnikakapoor/spam-or-ham-sms-classifier\n",
    "* https://www.kaggle.com/code/andreshg/nlp-glove-bert-tf-idf-lstm-explained\n",
    "* https://www.kaggle.com/code/faressayah/natural-language-processing-nlp-for-beginners"
   ]
  }
 ],
 "metadata": {
  "kaggle": {
   "accelerator": "none",
   "dataSources": [
    {
     "datasetId": 483,
     "sourceId": 982,
     "sourceType": "datasetVersion"
    }
   ],
   "dockerImageVersionId": 30635,
   "isGpuEnabled": false,
   "isInternetEnabled": true,
   "language": "python",
   "sourceType": "notebook"
  },
  "kernelspec": {
   "display_name": "Python 3",
   "language": "python",
   "name": "python3"
  },
  "language_info": {
   "codemirror_mode": {
    "name": "ipython",
    "version": 3
   },
   "file_extension": ".py",
   "mimetype": "text/x-python",
   "name": "python",
   "nbconvert_exporter": "python",
   "pygments_lexer": "ipython3",
   "version": "3.10.12"
  },
  "papermill": {
   "default_parameters": {},
   "duration": 1157.227461,
   "end_time": "2024-01-27T16:54:30.106949",
   "environment_variables": {},
   "exception": null,
   "input_path": "__notebook__.ipynb",
   "output_path": "__notebook__.ipynb",
   "parameters": {},
   "start_time": "2024-01-27T16:35:12.879488",
   "version": "2.4.0"
  }
 },
 "nbformat": 4,
 "nbformat_minor": 5
}
